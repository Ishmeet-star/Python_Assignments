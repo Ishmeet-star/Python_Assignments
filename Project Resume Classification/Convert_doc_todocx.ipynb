{
 "cells": [
  {
   "cell_type": "code",
   "execution_count": 16,
   "id": "9f7b2ccc-ab20-4bde-93ce-d3abda90a061",
   "metadata": {},
   "outputs": [
    {
     "name": "stdout",
     "output_type": "stream",
     "text": [
      "C:\\Users\\Lenovo\\Dassde\\Resumes_Classification\\Resumes_Docx\\Peoplesoft Resume\\Peoplesoft Admin_G Ananda Rayudu.docx\n",
      "C:\\Users\\Lenovo\\Dassde\\Resumes_Classification\\Resumes_Docx\\Peoplesoft Resume\\Peoplesoft Admin_Gangareddy.docx\n",
      "C:\\Users\\Lenovo\\Dassde\\Resumes_Classification\\Resumes_Docx\\Peoplesoft Resume\\Peoplesoft Admin_Priyanka Ramadoss.docx\n",
      "C:\\Users\\Lenovo\\Dassde\\Resumes_Classification\\Resumes_Docx\\Peoplesoft Resume\\Peoplesoft Admin_srinivasarao.docx\n",
      "C:\\Users\\Lenovo\\Dassde\\Resumes_Classification\\Resumes_Docx\\Peoplesoft Resume\\Peoplesoft Admin_Vinod Akkala.docx\n",
      "C:\\Users\\Lenovo\\Dassde\\Resumes_Classification\\Resumes_Docx\\Peoplesoft Resume\\PeopleSoft DBA_Ganesh Alladi.docx\n",
      "C:\\Users\\Lenovo\\Dassde\\Resumes_Classification\\Resumes_Docx\\Peoplesoft Resume\\Peoplesoft Finance_Arun Venu.docx\n",
      "C:\\Users\\Lenovo\\Dassde\\Resumes_Classification\\Resumes_Docx\\Peoplesoft Resume\\Peoplesoft Finance_Pritam Biswas.docx\n",
      "C:\\Users\\Lenovo\\Dassde\\Resumes_Classification\\Resumes_Docx\\Peoplesoft Resume\\Peoplesoft Finance_Rahul Ahuja.docx\n",
      "C:\\Users\\Lenovo\\Dassde\\Resumes_Classification\\Resumes_Docx\\Peoplesoft Resume\\Peoplesoft FSCM_R Ahmed.docx\n",
      "C:\\Users\\Lenovo\\Dassde\\Resumes_Classification\\Resumes_Docx\\React Developer\\React Developer_PavasGoswami.docx\n",
      "C:\\Users\\Lenovo\\Dassde\\Resumes_Classification\\Resumes_Docx\\React Developer\\React Developer_Vinay Reddy.docx\n",
      "C:\\Users\\Lenovo\\Dassde\\Resumes_Classification\\Resumes_Docx\\React Developer\\React JS Developer_AnjaniPriyadarshini.docx\n",
      "C:\\Users\\Lenovo\\Dassde\\Resumes_Classification\\Resumes_Docx\\SQL Developer\\Nazeer Basha.docx\n",
      "C:\\Users\\Lenovo\\Dassde\\Resumes_Classification\\Resumes_Docx\\SQL Developer\\Priyanka L.docx\n",
      "C:\\Users\\Lenovo\\Dassde\\Resumes_Classification\\Resumes_Docx\\SQL Developer\\Tatikonda Kiran Kumar.docx\n",
      "C:\\Users\\Lenovo\\Dassde\\Resumes_Classification\\Resumes_Docx\\workday\\Hari Krishna M_Hexaware.docx\n",
      "C:\\Users\\Lenovo\\Dassde\\Resumes_Classification\\Resumes_Docx\\workday\\Harikrishna Akula_Hexaware.docx\n",
      "C:\\Users\\Lenovo\\Dassde\\Resumes_Classification\\Resumes_Docx\\workday\\Hima Mendu_Hexaware.docx\n",
      "C:\\Users\\Lenovo\\Dassde\\Resumes_Classification\\Resumes_Docx\\workday\\J. Sumanth Royal_Hexaware.docx\n",
      "C:\\Users\\Lenovo\\Dassde\\Resumes_Classification\\Resumes_Docx\\workday\\Madeeswar A_Hexaware.docx\n",
      "C:\\Users\\Lenovo\\Dassde\\Resumes_Classification\\Resumes_Docx\\workday\\Naresh Babu Cherukuri_Hexaware.docx\n",
      "C:\\Users\\Lenovo\\Dassde\\Resumes_Classification\\Resumes_Docx\\workday\\Punugoti Swetha_Hexaware.docx\n",
      "C:\\Users\\Lenovo\\Dassde\\Resumes_Classification\\Resumes_Docx\\workday\\ShireeshKumar_Hexaware.docx\n",
      "C:\\Users\\Lenovo\\Dassde\\Resumes_Classification\\Resumes_Docx\\workday\\Sri Krishna S_Hexaware.docx\n",
      "C:\\Users\\Lenovo\\Dassde\\Resumes_Classification\\Resumes_Docx\\workday\\Venkateswarlu B_Hexaware.docx\n",
      "C:\\Users\\Lenovo\\Dassde\\Resumes_Classification\\Resumes_Docx\\workday\\~$nkateswarlu B_Hexaware.docx\n"
     ]
    }
   ],
   "source": [
    "import os\n",
    "from win32com import client as wc\n",
    "def find_doc_files(folder_path):\n",
    "    # List to store paths of all .doc files\n",
    "    doc_files = []\n",
    "\n",
    "    # Walk through the directory and its subdirectories\n",
    "    for root, dirs, files in os.walk(folder_path):\n",
    "        for file in files:\n",
    "            # Check if the file has a .doc extension (case-insensitive)\n",
    "            if file.lower().endswith('.doc'):\n",
    "                doc_files.append(os.path.join(root, file))  # Add the full file path to the list\n",
    "    \n",
    "    return doc_files\n",
    "\n",
    "# Example usage\n",
    "folder_path = r'C:\\Users\\Lenovo\\Dassde\\Resumes_Classification\\Resumes_Docx'  # Replace with your desired directory path\n",
    "doc_files = find_doc_files(folder_path)\n",
    "\n",
    "# Print out the found .doc files\n",
    "for doc_file in doc_files:\n",
    "    w = wc.Dispatch('Word.Application')\n",
    "    doc = w.Documents.Open(os.path.abspath(doc_file))\n",
    "    newfile= doc_file+\"x\"\n",
    "    doc.SaveAs(newfile,16)\n",
    "    \n",
    "    print(newfile)"
   ]
  }
 ],
 "metadata": {
  "kernelspec": {
   "display_name": "Python 3 (ipykernel)",
   "language": "python",
   "name": "python3"
  },
  "language_info": {
   "codemirror_mode": {
    "name": "ipython",
    "version": 3
   },
   "file_extension": ".py",
   "mimetype": "text/x-python",
   "name": "python",
   "nbconvert_exporter": "python",
   "pygments_lexer": "ipython3",
   "version": "3.11.7"
  }
 },
 "nbformat": 4,
 "nbformat_minor": 5
}
