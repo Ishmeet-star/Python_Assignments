{
 "cells": [
  {
   "cell_type": "markdown",
   "id": "c220e81f-afe1-4bac-9d27-51c650cd43d6",
   "metadata": {},
   "source": [
    "# Background\n",
    "In quality control processes, especially when dealing with high-value items, destructive sampling is a necessary but costly method to ensure product quality. The test to determine whether an item meets the quality standards destroys the item, leading to the requirement of small sample sizes due to cost constraints.\n",
    "# Scenario\n",
    "A manufacturer of print-heads for personal computers is interested in estimating the mean durability of their print-heads in terms of the number of characters printed before failure. To assess this, the manufacturer conducts a study on a small sample of print-heads due to the destructive nature of the testing process.\n",
    "# Data\n",
    "A total of 15 print-heads were randomly selected and tested until failure. The durability of each print-head (in millions of characters) was recorded as follows:\n",
    "1.13, 1.55, 1.43, 0.92, 1.25, 1.36, 1.32, 0.85, 1.07, 1.48, 1.20, 1.33, 1.18, 1.22, 1.29\n"
   ]
  },
  {
   "cell_type": "markdown",
   "id": "36a76b08-1978-4dcc-a0c0-89bc0c6350f9",
   "metadata": {},
   "source": [
    "# a. Build 99% Confidence Interval Using Sample Standard Deviation\n",
    "Assuming the sample is representative of the population, construct a 99% confidence interval for the mean number of characters printed before the print-head fails using the sample standard deviation. Explain the steps you take and the rationale behind using the t-distribution for this task.\n"
   ]
  },
  {
   "cell_type": "code",
   "execution_count": 2,
   "id": "8a4414b5-35d5-47e4-a076-e1aff8e5e34f",
   "metadata": {},
   "outputs": [
    {
     "name": "stdout",
     "output_type": "stream",
     "text": [
      "99% confidence interval: (1.10, 1.38)\n"
     ]
    }
   ],
   "source": [
    "# prompt:  Build 99% Confidence Interval Using Sample Standard Deviation\n",
    "\n",
    "import numpy as np\n",
    "from scipy import stats\n",
    "\n",
    "# Sample data\n",
    "sample_data = np.array([1.13, 1.55, 1.43, 0.92, 1.25, 1.36, 1.32, 0.85, 1.07, 1.48, 1.20, 1.33, 1.18, 1.22, 1.29])\n",
    "\n",
    "# Calculate the sample mean and standard deviation\n",
    "sample_mean = np.mean(sample_data)\n",
    "sample_std = np.std(sample_data)\n",
    "\n",
    "# Calculate the sample size\n",
    "sample_size = len(sample_data)\n",
    "\n",
    "# Calculate the standard error of the mean\n",
    "sem = sample_std / np.sqrt(sample_size)\n",
    "\n",
    "# Calculate the critical value for a 99% confidence interval with 14 degrees of freedom\n",
    "t_critical = stats.t.ppf(1 - 0.01/2, sample_size - 1)\n",
    "\n",
    "# Calculate the confidence interval\n",
    "ci_lower = sample_mean - t_critical * sem\n",
    "ci_upper = sample_mean + t_critical * sem\n",
    "\n",
    "# Print the confidence interval\n",
    "print(f\"99% confidence interval: ({ci_lower:.2f}, {ci_upper:.2f})\")"
   ]
  },
  {
   "cell_type": "markdown",
   "id": "97e2a3c3-350b-412d-b830-9a265b440299",
   "metadata": {},
   "source": [
    "# Explanation:\n",
    "\n",
    "1. We first calculate the sample mean and standard deviation from the provided sample data.\n",
    "2. We then calculate the standard error of the mean (SEM), which is the standard deviation of the sampling distribution of the mean.\n",
    "3. We use the t-distribution to calculate the critical value for a 99% confidence interval. The t-distribution is used because the population standard deviation is unknown and the sample size is small (n < 30).\n",
    "4. The critical value is multiplied by the SEM to obtain the margin of error.\n",
    "5. The margin of error is added to and subtracted from the sample mean to obtain the lower and upper bounds of the confidence interval.\n",
    "6. The confidence interval is then printed."
   ]
  },
  {
   "cell_type": "markdown",
   "id": "d3b51185-6e80-43ab-b2d8-bfe2b7d540cb",
   "metadata": {},
   "source": [
    "# b. Build 99% Confidence Interval Using Known Population Standard Deviation\r\n",
    "If it were known that the population standard deviation is 0.2 million characters, construct a 99% confidence interval for the mean number of characters printed before failure.\r\n"
   ]
  },
  {
   "cell_type": "code",
   "execution_count": 4,
   "id": "bd032e7e-4e19-4864-86bd-3c93980bbb3e",
   "metadata": {},
   "outputs": [
    {
     "name": "stdout",
     "output_type": "stream",
     "text": [
      "99% confidence interval: (1.08, 1.39)\n"
     ]
    }
   ],
   "source": [
    "# prompt:  Build 99% Confidence Interval Using Known Population Standard Deviation 0.2 million characters\n",
    "\n",
    "# Sample data\n",
    "sample_data = np.array([1.13, 1.55, 1.43, 0.92, 1.25, 1.36, 1.32, 0.85, 1.07, 1.48, 1.20, 1.33, 1.18, 1.22, 1.29])\n",
    "\n",
    "# Calculate the sample mean and standard deviation\n",
    "sample_mean = np.mean(sample_data)\n",
    "sample_std = 0.2\n",
    "\n",
    "# Calculate the sample size\n",
    "sample_size = len(sample_data)\n",
    "\n",
    "# Calculate the standard error of the mean\n",
    "sem = sample_std / np.sqrt(sample_size)\n",
    "\n",
    "# Calculate the critical value for a 99% confidence interval with 14 degrees of freedom\n",
    "t_critical = stats.t.ppf(1 - 0.01/2, sample_size - 1)\n",
    "\n",
    "# Calculate the confidence interval\n",
    "ci_lower = sample_mean - t_critical * sem\n",
    "ci_upper = sample_mean + t_critical * sem\n",
    "\n",
    "# Print the confidence interval\n",
    "print(f\"99% confidence interval: ({ci_lower:.2f}, {ci_upper:.2f})\")"
   ]
  },
  {
   "cell_type": "code",
   "execution_count": null,
   "id": "a2bb91cd-cc4f-495a-8eb1-421940026afc",
   "metadata": {},
   "outputs": [],
   "source": [
    "# Explanation:\n",
    "\n",
    "1. We first calculate the sample mean and standard deviation from the provided sample data.\n",
    "2. We then calculate the standard error of the mean (SEM), which is the standard deviation of the sampling distribution of the mean.\n",
    "3. We use the t-distribution to calculate the critical value for a 99% confidence interval. The t-distribution is used because the population standard deviation is unknown and the sample size is small (n < 30).\n",
    "4. The critical value is multiplied by the SEM to obtain the margin of error.\n",
    "5. The margin of error is added to and subtracted from the sample mean to obtain the lower and upper bounds of the confidence interval.\n",
    "6. The confidence interval is then printed.\n"
   ]
  }
 ],
 "metadata": {
  "kernelspec": {
   "display_name": "Python 3 (ipykernel)",
   "language": "python",
   "name": "python3"
  },
  "language_info": {
   "codemirror_mode": {
    "name": "ipython",
    "version": 3
   },
   "file_extension": ".py",
   "mimetype": "text/x-python",
   "name": "python",
   "nbconvert_exporter": "python",
   "pygments_lexer": "ipython3",
   "version": "3.11.7"
  }
 },
 "nbformat": 4,
 "nbformat_minor": 5
}
