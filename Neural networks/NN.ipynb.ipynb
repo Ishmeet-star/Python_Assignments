{
  "nbformat": 4,
  "nbformat_minor": 0,
  "metadata": {
    "colab": {
      "provenance": []
    },
    "kernelspec": {
      "name": "python3",
      "display_name": "Python 3"
    },
    "language_info": {
      "name": "python"
    }
  },
  "cells": [
    {
      "cell_type": "code",
      "source": [
        "# Import necessary libraries\n",
        "import pandas as pd  # For data loading and manipulation\n",
        "from sklearn.model_selection import train_test_split  # For train-test split\n",
        "from sklearn.preprocessing import StandardScaler  # For feature normalization\n",
        "from sklearn.metrics import accuracy_score, precision_score, recall_score, f1_score  # Evaluation metrics\n",
        "from sklearn.model_selection import GridSearchCV  # For grid search tuning\n",
        "\n",
        "import tensorflow as tf\n",
        "from tensorflow.keras.models import Sequential  # For building the ANN model\n",
        "from tensorflow.keras.layers import Dense  # For adding layers to the ANN\n",
        "# Import KerasClassifier from scikeras instead of tensorflow.keras.wrappers\n",
        "from scikeras.wrappers import KerasClassifier  # Wrapper for Keras for hyperparameter tuning"
      ],
      "metadata": {
        "id": "GKp7Rf30Mg46"
      },
      "execution_count": 9,
      "outputs": []
    },
    {
      "cell_type": "code",
      "source": [
        "# Step 1: Load and explore the dataset\n",
        "data = pd.read_csv('/content/Alphabets_data.csv')  # Load data\n",
        "print(data.head())  # Print first few rows to understand structure\n",
        "print(data.info())  # Print data info to check types and missing values\n",
        "print(data.describe())  # Get summary statistics for numerical features"
      ],
      "metadata": {
        "colab": {
          "base_uri": "https://localhost:8080/"
        },
        "id": "E62lrlzINSb6",
        "outputId": "6aa84a06-d965-4655-e201-bc8ebca5cc71"
      },
      "execution_count": 10,
      "outputs": [
        {
          "output_type": "stream",
          "name": "stdout",
          "text": [
            "  letter  xbox  ybox  width  height  onpix  xbar  ybar  x2bar  y2bar  xybar  \\\n",
            "0      T     2     8      3       5      1     8    13      0      6      6   \n",
            "1      I     5    12      3       7      2    10     5      5      4     13   \n",
            "2      D     4    11      6       8      6    10     6      2      6     10   \n",
            "3      N     7    11      6       6      3     5     9      4      6      4   \n",
            "4      G     2     1      3       1      1     8     6      6      6      6   \n",
            "\n",
            "   x2ybar  xy2bar  xedge  xedgey  yedge  yedgex  \n",
            "0      10       8      0       8      0       8  \n",
            "1       3       9      2       8      4      10  \n",
            "2       3       7      3       7      3       9  \n",
            "3       4      10      6      10      2       8  \n",
            "4       5       9      1       7      5      10  \n",
            "<class 'pandas.core.frame.DataFrame'>\n",
            "RangeIndex: 20000 entries, 0 to 19999\n",
            "Data columns (total 17 columns):\n",
            " #   Column  Non-Null Count  Dtype \n",
            "---  ------  --------------  ----- \n",
            " 0   letter  20000 non-null  object\n",
            " 1   xbox    20000 non-null  int64 \n",
            " 2   ybox    20000 non-null  int64 \n",
            " 3   width   20000 non-null  int64 \n",
            " 4   height  20000 non-null  int64 \n",
            " 5   onpix   20000 non-null  int64 \n",
            " 6   xbar    20000 non-null  int64 \n",
            " 7   ybar    20000 non-null  int64 \n",
            " 8   x2bar   20000 non-null  int64 \n",
            " 9   y2bar   20000 non-null  int64 \n",
            " 10  xybar   20000 non-null  int64 \n",
            " 11  x2ybar  20000 non-null  int64 \n",
            " 12  xy2bar  20000 non-null  int64 \n",
            " 13  xedge   20000 non-null  int64 \n",
            " 14  xedgey  20000 non-null  int64 \n",
            " 15  yedge   20000 non-null  int64 \n",
            " 16  yedgex  20000 non-null  int64 \n",
            "dtypes: int64(16), object(1)\n",
            "memory usage: 2.6+ MB\n",
            "None\n",
            "               xbox          ybox         width       height         onpix  \\\n",
            "count  20000.000000  20000.000000  20000.000000  20000.00000  20000.000000   \n",
            "mean       4.023550      7.035500      5.121850      5.37245      3.505850   \n",
            "std        1.913212      3.304555      2.014573      2.26139      2.190458   \n",
            "min        0.000000      0.000000      0.000000      0.00000      0.000000   \n",
            "25%        3.000000      5.000000      4.000000      4.00000      2.000000   \n",
            "50%        4.000000      7.000000      5.000000      6.00000      3.000000   \n",
            "75%        5.000000      9.000000      6.000000      7.00000      5.000000   \n",
            "max       15.000000     15.000000     15.000000     15.00000     15.000000   \n",
            "\n",
            "               xbar          ybar         x2bar         y2bar         xybar  \\\n",
            "count  20000.000000  20000.000000  20000.000000  20000.000000  20000.000000   \n",
            "mean       6.897600      7.500450      4.628600      5.178650      8.282050   \n",
            "std        2.026035      2.325354      2.699968      2.380823      2.488475   \n",
            "min        0.000000      0.000000      0.000000      0.000000      0.000000   \n",
            "25%        6.000000      6.000000      3.000000      4.000000      7.000000   \n",
            "50%        7.000000      7.000000      4.000000      5.000000      8.000000   \n",
            "75%        8.000000      9.000000      6.000000      7.000000     10.000000   \n",
            "max       15.000000     15.000000     15.000000     15.000000     15.000000   \n",
            "\n",
            "            x2ybar        xy2bar         xedge        xedgey         yedge  \\\n",
            "count  20000.00000  20000.000000  20000.000000  20000.000000  20000.000000   \n",
            "mean       6.45400      7.929000      3.046100      8.338850      3.691750   \n",
            "std        2.63107      2.080619      2.332541      1.546722      2.567073   \n",
            "min        0.00000      0.000000      0.000000      0.000000      0.000000   \n",
            "25%        5.00000      7.000000      1.000000      8.000000      2.000000   \n",
            "50%        6.00000      8.000000      3.000000      8.000000      3.000000   \n",
            "75%        8.00000      9.000000      4.000000      9.000000      5.000000   \n",
            "max       15.00000     15.000000     15.000000     15.000000     15.000000   \n",
            "\n",
            "            yedgex  \n",
            "count  20000.00000  \n",
            "mean       7.80120  \n",
            "std        1.61747  \n",
            "min        0.00000  \n",
            "25%        7.00000  \n",
            "50%        8.00000  \n",
            "75%        9.00000  \n",
            "max       15.00000  \n"
          ]
        }
      ]
    },
    {
      "cell_type": "code",
      "source": [
        "# prompt: Remove punctuation, special characters, numbers, and stop words. Lowercase all text to reduce vocabulary size.\n",
        "\n",
        "import re\n",
        "import nltk\n",
        "nltk.download('stopwords')\n",
        "from nltk.corpus import stopwords\n",
        "\n",
        "def preprocess_text(text):\n",
        "  # Lowercase the text\n",
        "  text = text.lower()\n",
        "  # Remove punctuation and special characters\n",
        "  text = re.sub(r'[^\\w\\s]', '', text)\n",
        "  # Remove numbers\n",
        "  text = re.sub(r'\\d+', '', text)\n",
        "  # Remove stop words\n",
        "  stop_words = set(stopwords.words('english'))\n",
        "  words = text.split()\n",
        "  words = [word for word in words if word not in stop_words]\n",
        "  text = ' '.join(words)\n",
        "  return text\n",
        "\n",
        "# Example usage with the provided code:\n",
        "with open('/content/Alphabets_data.csv', 'r') as file:\n",
        "    file_content = file.read()\n",
        "\n",
        "preprocessed_content = preprocess_text(file_content)\n",
        "preprocessed_content"
      ],
      "metadata": {
        "colab": {
          "base_uri": "https://localhost:8080/",
          "height": 237
        },
        "id": "HFRAkpIRR6gK",
        "outputId": "c3d86c25-5078-41b2-8ac0-c9430544a901"
      },
      "execution_count": 23,
      "outputs": [
        {
          "output_type": "stream",
          "name": "stderr",
          "text": [
            "[nltk_data] Downloading package stopwords to /root/nltk_data...\n",
            "[nltk_data]   Package stopwords is already up-to-date!\n"
          ]
        },
        {
          "output_type": "execute_result",
          "data": {
            "text/plain": [
              "'letterxboxyboxwidthheightonpixxbarybarxbarybarxybarxybarxybarxedgexedgeyyedgeyedgex n g b j x g r f c j j h j c w h g l l x b g p g e x e x g v x w g r l j q q c l n c e x h l h e h q q q j j r n p c p n w v v e n w n h n h u c v k w e f h u c f z x n r b b u j f h e u x j k p c h l v u z v l b k h w f e b v c h u p z e n p h b u f j r e p k b h p k v f z q b k v b z l j z l j q n z e j l v x j n h p f x v p f p w p j e e b c p r u u u j z f v u b l u r g z w c k j c v f b n u q f f x b j h w n p l x g e n g v e k l g j f w k p c z x w b c f b p k u n q q z f n w u g g u k w k e v r z n x q n c q n k e x c j b r z k g b x v z g j v v j c u v z j k b k z f n p c z w p l u j j z u j b b q n b e e n q u h j g v u u z g l j k l x q f w k p v l b b f k c h b w u p b r n b q h j w f x z h k j n w u q v v r l v f b r j v x k h l j b n r z r k w p e e j l v p h r x p v n g r w u l q f v v f p u b q h x j v b u k w x u v h b j p z w f h b k n f v f r q p k r b w k g p c j p x l b e h p n p b j j e h g z h b b p w j n p g e q r k p g g p l j g u b q j b u e r l n b k x p g k b n e u u x k f r p v k f x h l h j r g f k l p x r f r z k r e g x z p h k j j c l b p q e p h n c l p p j h c l n g q v r n c r z b r j x g b l g c c r g c c k e q z h z h u w l j l k j k g j v c r u q x c l j e l x x v x b e k p z r f l n n n r e r f p x r p x u b z g p e k r h g e j c f u q q w r j z c q q e e p f c n x w v f q h v u g h u l p l n w f g l g p u f p h f g x k j p k c v j n l v h z j k x c e c j j l q z q n v b k q r h h r z q b g b c k c w q u x f z k x n q j j h b p n e l h h h x u x c b v k k b q h l w r u z j x v c h r j f j c g q p q v g l n v c e c e e x x g e j z w l r h n r g h p h v b x k g k h g b v n u z k h h g e x j x v c q k w r g p r h e b f n h h l q f b w w e z u j e w j p n h p e l v b v q e g r h x c p p j r e j q v g p g u u v u x p z j x g c r b g n k n k j c l k p u p c n h k f c f l u n z p j z x h x h k h q p f k h e c h j g x q b e z x g u x w b j l f l n j e b g h b r r h p e v q f g n q x k v k v l w u v z e l j b z r u z x r q c p g z n n z n x z n q q g w b q n n u z k c n k c r q w x r j k j e c x l n f k j h z x f c b c h j h n k p j j f k w v p w u u x j b q g q j u p x b g w g r b x n k b e e w u j c p e w c f c z f r v z e q p n f p u x b n x q p l w n v g f l b x c g v k c z w e b b k h c v f f x r x c h x r c n b v x j h e u c k w q z b p v p h x p c g g x z w z c w g x r n w k u b h e c q p l e k r k v f q v u p j u f x l x f j f u e h n l f h w n h q j v j c j f x g e r b f q r e v w k u x w l q h n n q e k g c e g b p j u l n w v z e z n j x b h h h v k x q c b b h x h z v w f b x c n x q v k v h g j c g k v c f c q h u h w u n n e z b b g p p u k v c w v c e e c n z f l v g g l p p c u w b e x u u v j b h l q h c r g v v k v c l h u n q x n n l f n z n n p k k g k q n l e j z g u c g w j l r f h x r p u c r j r z x u c v c u l j f g g q b p c e l b e q g u x n w f e b h q b p e v q k c u n c k h p p u c u e v j b f l u r z g k g h j w b u f r u p j p u p h v n g w j b v e q g x g x f w q z w f u u u v p g x g u f q b c k r q k v f n c w q c b g l k x v k q n z b u p c q q e g v r q z c f b r w k p j p n p z x p c p z l k r h z g u b l v b q g k w h q g f u c h w p f j u h r c r b c e z e u r f c l f c u p h h h v j z j w n e g p r z w j x j j x j w r v v b g b n k u l w h b v q g g l h v w e u l r u e e p u n k x j e q z r r e w k f b q u n c b c q g g l l p u e u c p u b g h k b c q r x q l r h k g u q j n k l e g h b w n u h n j b q k z r b v r z f b p v p c h l j r w h r b n j l b j x u q n h c q j f p u x p g w h z g r r u b n j p n f b h q l e n r g l e j f z v v v b c u z r h q q b j e k q r w g l g k z e x x c b k k w r u f l u z u l n b x q p e b l n w l v q v c x p e l p u b f c x j r e q l e l f x k b e r p x k e e x z h q f h l f v p r j l e z v e k p n f x e z v g p g v e c g u j c e q c x w g p g g h l x g j j j h n x z b p z g n r z j b z v q p n f z w c c e v e r z j x e e f v h q f n u v n h c r f k z w q r p k z r n z z x h g n p p n l e b v q c r k g h l v j l l e j k r u c f p b x h u u r c c b l g b p f x f v x u n n r b w z p b k c z h b b l b f l q x q n q f v v e h x u x n q v r r v f x x u g f l u j x j e l f r q w q b u n u c w z u w u b w z u z e x v b j z l h c k c p q v k f p l h c w c f x n c w r q h j p j n v c c g w w c l k f r w n x z u h u f k v h g z l f z p g e u e w k r h c j n p f k w h h f v c e h e b n p n u c f q f r x l c r p g x l l u f g q v h k l h u r b l v e v u v h r j h j h q c h q c f v x l c c g k q f w u g g l r x k p n k q g j b l k z g l c x f z z f x g k j p z j g e l p v v f l p c v r u p e v q p h n b w h c w h h g z z r j l r l v j r x e l u q k f h g n x v g z h z f x e c c g k k e n z h f w b x r v l f v u h l z b e f c j c g v j c c w b j j n w c l c f c p q e g h h q b w z q u h l c c h x h e f x b v p h h h u r n p c b z e e w h l g z j h p x z u x r l p e g x u x g v k f n u p u b f l f c u v u j j x b e p z g l j w e c v p r u k q x j x f v x c p c p g j w u w f u c w w c z f g q v u u j w e x x k u k p q x c j l f x e w l u h k w w r q u n f h x c n z p v r b z x l l x e g v g n g e q c w w p e v n h w n z n z v b r b e k e x z f k q u g x j p k w k w w f k u u l v z h c h f b g e x v x h r g b l r e x v h c p r p r q v j n v w e h j j b j k l n f n v u p j p q x z g l j j p u b u f f l q x p z b e e f v f k x l g b h j v v z q f e q z u x c n r u x l b f g k j x r r r r j z v g k n x n e j w z j j z w b l c e j e w w x w j r h e c f l r f z j q b u z c n f j c p l w z c j f n c g f q u g q k c c w z u r c c p n w u k k w z b g z f g j n j k u e v w z p x r z n l n w n j l c f n h r h e l j u k q p p u v l w n v k h b r p l l e j h v k l v x n j p w v f k e k r k j u h p k f k q q l g p n v h g p k z x k g j q q c f u f l l g h k c v q x p l v f e z u j f f z w j p l c x q w k f e h g j v v u q x h v g f h u w h u e z u u e q w h q q c v j n v u w f n n p r e z f p p k e w z b r z z z l e k g p p k v q r p n b n r c h q q j r f p q v q j u g h k b b h h j k e r f b q g b v z w h h g z n b q z q g j j e z n e g g g x k x b f c e e b e n v q w u z e w x f l p w e u h e q r b g u k x x c u x n e r u z h f k r p h q g b f u k r x w n w k e e r p f g x b z n b v j v g g q c f h l p q x n b e h x k c w u f c x e u q r p z k r p q l n v r v e c w v h j b n l z k z n z x z p g n n l g r x l w j f f c c u v l x v g l p x c r q u j u e n l z w k q c r z z e e q r e v u g w n r r j p k v v v p x b c p h j n b r j e v e h v z c v p u r v n b f b k f p f r j w x f n c z b p r f k v e l r w b c l p v l b r z c z h g h p k q x z l x q w j p f j p f w u j p z c e k u b x z x r v j c n p r w n h r b j l q b r e q u e n g u p l p l b e c h l k b f r k g k j x w v h b g h g g j c l j z r v h k r x l z f q c g v c x e e v l u v f w h n p v r r e f g j e q f x x g u z u q v k u c n h g b b v z x v r u j q v c q h v e g f j p l g q l f n x c l n v l h x z k e f k h r c h x e z j c q f u e e f u h x q l n e j l x p u u n p k g b u q z n r v l n e j v p l q u b n l u v p e w k p c j c q g g q z z g k z c k r u q u h w f u u j w q u g q b e e e w f g h h f n c x p n u p b x z w r r l n f h j p c b f j l e p f h b g z w z r u z v r n c f x p w v q b c l v f e q z k e u e w w h q g z r f l z b v e e r p z h p g w x k j h k x p u q c n x p k u h z h g l g w j n f g h b w u l w n l b h g l q z u v k k u l r h j h f g l g x x c z z v x l r h q p j v q l l x f h l e v g p g x l w p k n x r p l x w p b c h p w z h u e q n e p h b w r h w x h g v v b e w w z z w h z x j v h h r b x j q e u q q e x p c u e p x f p j q u n h u w f h r w g g e j n b r g c e u p c c p g h n w w n f k b e z x v r l v h p l q v h g v p k u u f n l n e n b u b g n b n f j l g p c e u l c l f n j p b g z u p x k z p e x q x z g z n w h x v u q x h v c l l p j b l p c l n x q z v l q c c n k e x k b f x c e u h p e n p g c p x b f z p j b c b u p p f b f u b z e e j w k n w h h r b r f u z h p h b c n k w r h u n x l b e b v n x x b n u g j w e h q h z r c k r q p w j e v f n k z v l u c l b j p g j b b n b x z u p r k n n p q p u b g c e b r e p k r x x r e z z u g z j q e w p c r h j e p k w u e v n c n j u k x e b x v k p p g k l w w u l x c e f p j e f e r v j k w h w k l b b p g l v w q w u v u f f w r p c l x p u v w p k p e q e p e k q q b b c g h f v e x u r r b z c g l g z l c r v w x x c z e z e q r l h g w r u e q e p u w e r c g e e x q r j l z e x u r w h n v b l e l c j x h b n f b z n k k n z c x f x r z f e e r w f j f e b k j l k k q c v q q p k r j f g u w e c f g q z j x b r c r r x l c c f v r z c l e r r x c j r e q x q q c k e x p r k g e b j z f v h q c l n c e q z b j c p x w n b b z h b u q h u g g r g j q h u w z k f x k p n c w h l n z h p k u n b p l l l v l p j r w q u k b l w g p h h l x l z b x v b x l k h c u z n b f x c b j c w w b u f l x z w l n c c v w x h b h g w k v k e e l c g p z n c e e c f x k f b l u b n q p w w p r v b l e x u g q w c b h x q r n n c v x q e v u w c l h n p j e c e k x q r w b j j c l j u v n h g g n u u n u w c u j c l c b z f q p c e k r e h r c u u z f c c h w l n e u p n c q x n r r u z h p l v r u r f n b w x p j x v f r k h q p j l l n n c j n g q g r n w v v u c r e u h f v w n g h f z n r w f v h w p n w p x w l f j q l n c u x w f v p c w p j g z k w q q c r l q x u j l x f w q k j f p r r z c p c e z c q g z h q k j q j x g w b n w j e q p u b n k j n n h l l l k q f k k x n p k u z h p e g w r w q g w r r e l l f c x f h w c p k f q r u j f b x g h j f l x g z l e w j w v j n v k e h j f f u c e c c j k r j l u f r r k e l k p k f j b f h e g j e f k p e g q z p h r j p l u r v c n q p b x w h k z r j h w r v f x k f c n r k n x q v v b c k g h r z e h e x r p b q w g n w q p q l l v e j e g r q l k v p p r x f q f q j l c e r j r z r z u c k q h j k q b v b n z r v z g j l z r j n x l h v q q u b b k r w h h x c g x x c u r b e n f r u v u v v e z c w j n x r k z g k g w g b x v p l j k e c w l p g x f w f j b w u f z x n u n z c q q g c b c q u w k c j n e v e f f q h q z l c j z l u r c r x f u k r e g r p z h h j p v q b j e v f r r l z f q g l r r h x w f e p k q f g u r x x h l h v e f v k p v v j k r p e k h k b f h w l h q v w f j l e l r e r f r w n v b n r w b c x r g z x j q f v b p h n b b p r k e j p j j v j z r w g b j u p h b e g b v u v l z c e g j j x u j v r r r f k u e g f p k p p k q g b r j u w f c f p c x k g z v h b v r e g w c q v z f l x v j b u u k e k c u x f v k v v w n v l g u x u x e j r g h h l b k z b q f x b h e f n e f b e r n u n h w j q j h c e x j v g p u x k g v e g h n n k z l g c r q p g b f g b b q r x c w w g e f q k q l w z r z n v l q l b u r p z p n z n z g q z n w n n h u g q g h c e b z g b g q k f g l v h p p h e j b e e e x u e v g u p j e x f k h x b x p w u j w p p q j h n z n j x j e w w c e e r u j k z u z k x f l v x h w q g p u p b u f f j k z u n v b j f z f b c b v g q k k v k q k l v b v v l z k l g c e u p j g k b j x z u k x b u b p b w w h v p v k z r g f k h f n g p p b w z f j q k z g b h w l p j n e w z v w u l v w b n p f q b e h w b v q q g b f e u z f n v n n l v k l b u e j g b c k w x h x x h b r v e w w n w v w b x q q b h c j e q j w u f g n g h x p b r c z b g x z r h w n v j n b v c f l e z e g j g e j c w g u p h x k n p w n j z x l z w b l l e v v n b p z k x g p b r w l l c p n v u c r c p e q v e v r j z b r v k x r j f x k f x l w x w u l x e w x c g h j f u w z e b v b v l k u p n q z z q b l p h k g v j w c f k c p b u x k p p l b n f e p j p x p f b z p x e r e x c k p n c b n x n v k p g w v b g u p j f e k f z f g v h j j l j g p r q l p w p h r u w l p n g z f q c h h l x k p r w l j h p v b e r g p k c f u h k k x g f l k p k n q b q b u j q v n j w j b n h c u x u n p e q k n k q l k n r h b l z b l q p r p w e r k u q x l f w z n e h p e v w v u x f v q n z h x g f h w e j g h l h p z u g e h f j l g k e g v k z q h v g j q q n w u r h e n n g f k c f n k r n k w f h z z h l n p c p n j h p g j k p l g z z l r z q f l n g g e z k c f n q e h f z w e g q j f h c f z b p z f j k h k w w r q q v f v w l w u h j f w u p l g v q q k p u e f x u k l q w k h n b c n e v q u b e k h f w x j k u h b r e p w n b l h q l r p l p q l f z v k u j v n j q p n g c v f u h z g u x v l h h e j r j z e g v u j h x u h x e u j x q u c z c q k w f h v v x q w q c z n r w r c p f e q c w h p l x g h v k u r r l n e h p f v r n q r k u f q n u u r k q x q v g w u e z z z n q u h e p k z c z z n l k q j r k w c x x f b v v p x g q r x j f w q z k l h v p g w c x g v r u b u b x f z b e v c b j x w k r u z n j k f g j b p w n u c h k z p x p f e h g v h w z f b r z u n b k z r r f j k u w j u n j u w f k u p j w p z l b c g z z u u u x z v u c n h w j r q v f j w n n v x l l b h v f q n r n f e n r u p f q z n w q b q w q n e q j u l h r x b v x r k u l u z x p w z j k x c g b b w c x x p f p c q g c z v e n e r u e v b z k x p h c q r g r f q f q c n j z v x h z g v u f x u c c w j h q b q n u n h n n x g g h b j h c n k x z c r q u c b n f c g j u c h b z f f k w e l v p h n r j n b h g g c n k f x f w j u v z e j w v b q l u l j e w h h g z q b c n g q f v f x p l u n h u n q q h w r z u e h k g n e x n h e h j c k c q h z h q u c x f r g r f l w w p h k l e l z w q x v q e u h g n v u f v h l h x b x h n p z v j q j z b u x l b l r l q b f l j r f x g b g x p g j k e z g e v v p k h g p z e q v x p e f l w e x v w r j p h u q r n u e p l w e f e k f z b h h u p r j j v b b w u k e k k u r e l r j v f k k x z h n u l u r b k u f f l l w w l g e f g p c v v r b k h g l r c k f c q q f x z h c g w n g l x l q l u p h x x b g h w p f l p b b z c r v h z j u j l e u v j k z r w f l l h b n k b f q x b l e b r r x b f p k b q k u k k g u b x u l h j h b r x n e w c v x x e b x e b j c p f w l k l u x n p u b j w q w j q h r u k l g x n e r h z c r l v p g h u z c c x n l v g b n z b e p u x q q g l k x j e w p g n p x q j b b z b f c n g r w b x c e x u l r f g x v u n k w q w n c x b k l v v c l g z v x v c b n n l j z g e q v q p n q p w b x u l j h h v b p u v v v z z h x w n k v q v p f n q x z p n b k c c c j c c p j l k x g u f p v j n q u v g f x f u u r q j z x b p b u h w n c u q h x n n k l e k n b j c l v f x p l r r x g q z k j u r q n f v c u n h v r g j f x q k e f u h p l f k w r j g z h w g k x p p z j n g f k n x b v z h l p x v u h x f v j p p h q v k h l g x v w q r v n n b u k q f q b j f z p f f l k p q v k v b e k k l q g l q f g j k v w r c j w h u f g b b l x b g b h c u x q n e z v q g l j w q u l x l k n e e b n b w h v b w g g z v p k b w q q j r p u l h f n x r b l v z v q u l v r q e p w g u q w l r c u h q j c b z u v u j b x l w h x r w p b k r p f e e r n k r n b l w v p j x w e r h u n v z e x l g r r b f c f r v x z z e h e w r n c q w q b g q z c v k k c g f u u j f q b r u w v f u e f q f u p h u g w x c n w w p p k b c f j v n w l r r p v k p e b g c g n v p p f g q n r n p w l z e n g n v c h l q f k g l j r p n r z r x g z j v n r h v q p w l w l f r l u p u e z l v w l p c n k f v f h x r p k c g x q v j z c r c w z f v l n n x x w n c k f j w g p b r z x g r j r c g e b x l b l z b j e j v n b u j f p n v g g n p w w k c n j c h c l v j h v b c f r w x n w p n f q x v u z b q b q h p b g e z x u n p w r n z u n e r l n l e c w u c c r c k c r q c b n f c x x f c f c x e w k n c q q g q u v b h n v f p f w z e p l r l r j x r q z c b w c c v n z c h z h v j f p w u b v q r f n l n j x g w p h l v f q q l g c h j l x g u z l x f h z p c v u c j p w w b p w u x r x q g j e l h k v w l b u c x g w l k p p q l v n u g w g k n k r r p n x h u j x w k k r b n b v r p b b q q f w g w r k b k g x c g p f g k q r b b v w n x p w g z c g u q g e r w v x z u b c g g r x z p h z c w c c r z g h w r j u k n k g w j n f c f e e u c f u e c b g k w w u k v v g u q x x p x w u v u n v v q c p z k j b k k v p r p z e q q x u n g g c j l r v u j b q e z v r n j r e c g j b w e v h v c r u g f k w b p j l k k l w q e z k k w b j h v n b h x n v z v c l q x r f k j c w h e w h u z f j u r j u c v q q q k c z u z h b r r u n k n e f k k e l w q c g v u r w h f g l q l r b r e b n v g f l c v q u j h k g c n x p w n b b b j b x f h c e k h b r p z w z k p x c u n x f u p x q k b g b z c v g b n w n r u r e w j l k n g n f v g c w j f q k h n b v u f n x e l h f n l j q n w n j q p e e g r v x w e v e j j f e u n j h z x b p q p r j w e z g w b v h l x r n q b u r p g f f k w p v e w f u x q p r p g z k c w k r k c b u p h z k u z j j k l n h l w w g r w q h f v c f c v u v x f n r b h v j q w e z b g w p z r e f h w l g h g p g p z r n j u u j h n x c b v k b e c e z x w v c e w q l f p g z f u j x v u j r w q n l l c b z j q b q g j r g r b k j w k x k g q p q c u n z l v n g u j x u x l f g u c q f k r u v b p c p c n x u l j j q n b l w c p x g w u v h h q k r z l c n j u k f f f x f g l q j l g n k u z w f v l x n w f u c z q p l w r b f u z n x b z v e j q g r e g g h p g g w k g r j g q u e e c p c e p r h n w l j c l p u f e b h k k l w b v k q l v z c r b v u z f u f w k u x p b e h v w x q e l c l p b b f z k k z g e g c f w w n e v l g x j k x l x q r e n b g k e z l g p j u h e n b j e j u w f n h g z l z e h q h g c n z r q p l n g n x b c p g l b c x w w q b f r j w n u n v h f h k k l q n q l f k g h q u x b r j g k z p r f g q e b q e z w x w z x n h n x p f g p r n p f v z r g f b f g p g q z x p b q q q l v x e w b p j u x b c r v p r p b c w q z g c n v k q p v f q k r f x p e k w p w q z b q e j q g u u x w c x v w e p l p b e v k b n c w n z h g u w v q w n r l u n h v h f n q l f w q e w u p c l f r g n r c f n f q v k z q v l q k w j l j p r f b j f e h c b x x n g x p f x c j u e u u q h z f w j b g z c e g p f u c b q v f v w e g l q e u r p p k n f j l g e k f e g u k u x j v e l k x u j x z u c k j v b x j u e f v q k b c v z q b x w x v z v w b n f c g c z z l g j z z c b n v j e j v f f c w u j w b n z f j z w c w r e b z r e b h w j j n f x w r w v k l u j n n p j c x l e x j u k k p b k e h z e z p w u u e w k z w p f f r h q w j r c z b b k v f p k w h l n l w e h j w u e g u k f z h q b w x f g q k z g l p h x g w h w h k e h j n p w z x n f x r z z g c e r v z g v l h w v c g e j g r p w g w x g k n j e c e x c z q k j u v c k z v r p r g h e p q k l g u q v k p h h c h q h x v w k u u v k u u v w v h u x k b e w g r u q r w c p z w p f z f c g e v b z r v w k e l g n e v g e f g r w k p w x r f c f x k z g l g x x n x p b v g r j h k b c e w r v p x h j b x v n u f k g q p p j e e h u b x w r v g k e z r q p g e q x b e l e v w u g u e p u x r w f j j r x k e h u x q z v c z b c e b r j p r l e q z b f c w n b q u e c u n e k u l e z l x q j r c h q z v w g l e u h g z b n l r e f k j l f f b k g l p f v b w g v u c h e r n n f z n j w l c u k z h v r l h r c b u h u l g e b f u u n e n x f g x q b b g v p n v x f x u b k b v v q b b f b n b u z k e e p c g f q q n w c q u w k x w e e f v j x w x g b n q f b q j c x g k c f r r k r e n z p e z r x n w q c j l u f g b u f h p e h l x z f x w g z l q z b j j c u b n x j n f r w k f l h p g f b n c p f k g x q n j c g j k q b u x w z h k p u w q g g k c w q x k g x j z e n k z c r w c g p c v j k q x c p z l e k v q w h n r k z v z h c b r n k f l k p b v k r u r h b v u h v f z e l q v b f w n j e j x w j v h l p q q v n k h q j r r q r r v w x z r c e g r n h n n e e g p k b v n x e x x k u f b f g r v w h k l e b f h x n l e w v z p b c e l x v v u j l q x p j w u e n u b x f c x f x l c u r f n z l k k x k v j e z f c l w n u z k w b l l p n b z l v b r h k f q x b x l q j p v w r g e c l z g x n r f w p c k f l n q q k z j u r n k k n e w w g u z z q f v j n k j b w n h g z r j b h l h g f v c b n g x w k p h q q x v b r c q p g b h b z z r n g h h z q x w j f q k h b q z p w j v l f n v k x x k p z j x w w q p x c w w x u q z c h h f z g e z p h v j g n u n n l n w b r j f l l e c v w c u q v z z n n f x q e u v v z q u g k v r r l q p h j f k q c b j k x n w h z w w n w e x v l j h p c q v r e p v n g h g k q l e f w z e e r w v u b j x w x b l w e r u f h c c w n f j g h u n h v u b r f h b k e j r k w j u z f l l u u l k q u h v e q k c w z n g f k e f g p h z b l w l e u x q b u p v x c b n x x g c c v q u b u e c v w j n f x p w j h n l g l l u p z x l e w p w w j f f n l q v q f r x x b n f z f g l j f v e p r k l r p n e k e v x x w b h b v p g p n j l p v n e f f w k h h u w n f r v r f n x e n u f v j e r l v r l c f f q p v g w c z p p j l c v l v f n b w j l u z q g l j w p r b p z b w q e w f k k p p r z j j w r p f n j n u w q k h v c z r l e z l k e k c z w h e x q q w e x b u r p h v z f c r v p q e k f g r l u p j x n z x c z f z p e l k w z v f z c g q x r v n u x n n c b p k p g u k e v v u u p j g z c h h h r e f b g f q b q v e h q g h h j z f b q w l q g q c h r z p z r j f x e l h e e u b b q h l b r q x b v z k l r g x n p l z z f l e l x q z q f e w w b v l z j p g e g g v f k q u x g k j r g g l r c b b f r h r p l f f g u q b q z u x r u c h l x l g e r x c u j w c u n j g v l q r e w z g r h e e k b k h l e w n v w w z b l l b f g f b g u p w p u j f p r n r v u n g k l r v k q p w b u q e l u h p h q g z z z j n x z z n c b p c n p p h n z l w u g n n w c g q h j b c f j f k f p l c q r q k k l l f u g u u h p w w u n l r j l r h b c p n j u k w g r h w b w l q f v c j z r l q q v r r f n j p b e n l c r n n c x r j z z r c n b z n p n q p c j k k g j f h q x u e k r r r r v x f b l u z p u c l r p r c q r e e l f e v e u n u g l l k g f p u l f w z u h v e q j r e w b g b p v e z q f q l l j h q h v l x z r u j k r g f u b f q q c q l f p c v q n z g r x r p f q j b w b z l r u e l c u e l p k r k p w c k p r f j f k u j r q w k r q j x g n n k x f z e v g l b v u n h x j b l u f v n c j u u e e l k k u j f x j p f q v p u e g g z w q u n g u x f v u q x b h c k x w l v g w v z p p e p j g e u j w z v x h c q v k g n c q u x p l u f q e b b p b b r p g v k z n w v c k l n r g x r u j g e w p g q b b q l g e e x q n k p v e u z n q j z v f k v x z j q e f q x f j f p l r g e c u n v n h e g e n b g l e g r p e w q r g r j c c n b h r q g q h k g j k w n h l b e j n l q e l g p k w w h f p z f g c b h n e r u l p c n f z f g b q v e w k k l q b f q l p k f q l g c n k p r x v h r k x e w x b h f j n r j n k p j n w w g g v n e p h j x l g v q z h k u q w e r f k h h w l r f u x p k u p k w w u j c u p b n u z h q w b b w x w v v u g z l g r v l p l k z q j n h k e g k e l w j f x j q j l n h z q n u l g p q l r f q e q g l h u b j x g z q v p x l n h r g r b k k e e q p n k x c e h h v e q u u c x z g u c b k j z w j x e h r u n x h p g j j c r k n z p l z x z w p k l k c z e v p n z q u z j v u j n g n q p v e f j b p q b k g e k n x j z r e x f n f k w u v u x k q q l r f p x w p u v r q h z f p n f x l z q f e j x c l r l e j e p v j h c u f f r x e k l k l k j f u p j r g k p g r l u n r e j z n b h u p g w b w u q f p e c v j l j f q g z q u x v v f x l k j h c c p p l b l l h j u h k j r n k n u b r g n w l l u p u u g l w k n l w e j b b b h v z r w l c u e r c l k n j p j g h b b v z q e g q f h v l u z u w h n g r e j q k n x h l h g r x r f c v r h w q q h p k b w g p q q l w v n g n f r v r h q r p f z w c r v q g w q g w c q r l p u z c r u h j e j u l r x v h r l h z f g e c x l b u j q q j h c j k x j h h g r j v x f r n z l w n h j n c u r e b u r n c e g k x z x f n k r v j p x q r u e v g k k z n n r j b j v b u w c n r b z w u f h u z z c c g b e f g r v v w g c p v l p p g g v l l x k q x e g f r k b r l v r p v x j f l e r r v p l f n x q n x r j b n q z c c w r p p b q b h g w j q l n u e g v r e e q z w g q x w l z b x e j g x g q q u w z x h v e k w p f j q k j j f w n w g g h p c g r h w w n w h z x c n j e b u k p h c p c u v n w h n l q f u l l u x j p c z r l n p q h j z h z w f u c f c u k x c x f w h f q w r x p z b b f c n p b g z h q l z q q f u f h f v x e e e x h u h q z n z q u c z c v r q c q e u z r w w f k g n r b r z k f n l p g z q x f p z n z k h j v b j p g c g e c h k z u k q f h k j w n q e p k q p z p u z q r g n e v c r f h c v x l e z x f j v n p l n j z v x c z g g e b r u k l f c q c b u c k e c h r e e b z h v k k x c e b w k z c k p e v v x k p l l f r h b q v h n n u u f j l p w w p z f h n e u k x v x r l j f c c x r e w g p b v l v l x n x j e c l r f k r q f x u b p e h h u k k r p h x p b u z z k h b g b z l x c b l u v k z n r p r u l h l v x h r u k x c j n u c q q b q k f b q f w x e p w b b p j u b p v h b g v h u n n p j q j k x z q e q l q f r p j q j l z x n q g p n q q p c p n l p n v q q c z q w g x c p x g g h j p g z w c q b x w f e q x v r f e j h n h f f z g j g g b z r q w z f w w w e z b u q j h p n g w e z v e r q f v g g k u k z c p r b k v h g f b p g e u x x e w u n h g g h c q q n h k q v b u k f g q f h f l p z p v x v j v q n l x e l z k c x c j h h f b u n k b r q n v c w g c u h l x u p b f g x b z j u h e z q k r g z q u k v c q j r r c z k f p b l p f x r u k v b x p r u w r q b e l n j f e u f k h z n k j g z u j r k f q r g h l l u p z j w n g u g r g x u e g p f r k w c n p p n j z r u k e f j z u q v e l b x x j n k u z p g v j f j u g h e k l l p x l n e c q g k w p h c q l f n j l u p n p w f r w p p f p g u p u h r r x j n u l f g f v p f c k g h w v l b j v v b p b z g f p b n b c r r n g w h z g u z r b z u h e e j f x h x k u z v f b j c n n n u p l w l n w l f u j q k l h r h l w f u k g k b r f n u u l v r f v j w z z r c x r e j e q n g f k j c w q g j f k e c z q h e v z w v f r g l n p v v g f z v z x g n l z p g p e x c f e e c j x x z p p p u p g c e w r u v n q v x c r g l b w v x z r b c v e r v v n p p h f u z w z b f b e c k z j p p c r z n b g k u e x k x n v u u z v n g v z b z c h c x f x l e w r l x u x n p e k q g k b h b z q k n x u x p n k w z h g k w u e z r l x c z j f x c e h x q f e w w z n v n p k f r z e v l g g f u w l f z f h q x g v g v w w x l u q u g l u b c g c r q b u k c w j e h p f n q e v p j b r k c f w u v l e g e h b g n p l u k k b j q l k z k l h n h k c h z b q g u e b z c h z f x w z n c r r u g b r x n h w e l x e l b k r c v z q l l n u l z e e n w b q v g x j r e w k c j j l f z e v e x k b k l x q w g p g u z u v k w r w e g c j p v v g b l c x p b k q p u r x b p k k q e w j c u h f g c w r r e r g x g n p l g q n c z k h k h q n x c x q e l x c n j j g j e r x x q k c n j u q z n v x q q b l j p f l b c j v v k c b z w w j n r j x b w v g w b u h n q z l r p v c q l b k b b k k n e u r r e h w u l v j e n b r h f f p p n z f b u h p b n e g h e j x c g w w l z e p h h u n z e q n r r c l g n n g c r b w f l r w b w c z h r b f h c h f q u v r r k r w x p u p u h g v g x r u c v w r v v c f z w e x x f x b g j e q k z u w n f q n p c k q z g q x q l u u b z r b u q g n z n r b e x f n u p h f x x r l g u u r j c c h n c g l q h e v h v j u c v f v w w j r w f c f u j n x j j z n p h x p p f z c h n r x w p p f z k v j r u z w w q p e u g z l f j x u v q j b n f z p h h q l x f q l p z j k c u z f q x b u u b q g e n v u k v l f z x x g e x n p f f r p x l p w b k j x h g n q q e c c f f l f u p c q j k p v g e n z u z h b z j z x r b z z z h b j r f l n l n h v c w p b f w k q e g h p r r w x n x k z e n b c r x e x w x h v h r x f p e l j q c e n k q l e u e j b f n p p q e x j f h g h b n c f r n g q j n p c u k v q e f j z g b b g h z q h l p u r u n u u b h j j g p h g u u w q e p j l n p x l w p q l e w c k e p v j e c r u w x r k z v g l q x g l x z j v v l h c x u q j g u x p g k n g l x l v p k w q q q h w l g e j q n n f p u h j b f e f q c f c v n e l k r v l p w e j c'"
            ],
            "application/vnd.google.colaboratory.intrinsic+json": {
              "type": "string"
            }
          },
          "metadata": {},
          "execution_count": 23
        }
      ]
    },
    {
      "cell_type": "code",
      "source": [
        "# Step 2: Preprocess the data\n",
        "# Assuming 'label' is the column with alphabet classes and others are features\n",
        "X = data.drop(columns='letter')  # Features\n",
        "y = data['letter']  # Target variable (alphabet labels)"
      ],
      "metadata": {
        "id": "WifnomZ8NW4p"
      },
      "execution_count": 12,
      "outputs": []
    },
    {
      "cell_type": "code",
      "source": [
        "# Normalize features\n",
        "scaler = StandardScaler()  # Initialize scaler\n",
        "X_scaled = scaler.fit_transform(X)  # Fit and transform features to have mean=0 and std=1\n"
      ],
      "metadata": {
        "id": "8KvFAcOmNuOy"
      },
      "execution_count": 13,
      "outputs": []
    },
    {
      "cell_type": "code",
      "source": [
        "# Step 3: Train-test split\n",
        "X_train, X_test, y_train, y_test = train_test_split(X_scaled, y, test_size=0.2, random_state=42)  # Split data\n"
      ],
      "metadata": {
        "id": "nxbyrV-pNxD_"
      },
      "execution_count": 14,
      "outputs": []
    },
    {
      "cell_type": "code",
      "source": [
        "# Step 4: Build the model\n",
        "def create_model(hidden_layers=1, neurons=32, learning_rate=0.01):\n",
        "    model = Sequential()  # Initialize sequential model\n",
        "    model.add(Dense(neurons, input_shape=(X_train.shape[1],), activation='relu'))  # Input layer + first hidden layer\n",
        "\n",
        "    # Add specified number of hidden layers\n",
        "    for _ in range(hidden_layers - 1):\n",
        "        model.add(Dense(neurons, activation='relu'))  # Add hidden layer with specified neurons\n",
        "\n",
        "    model.add(Dense(len(y.unique()), activation='softmax'))  # Output layer with softmax for classification\n",
        "    model.compile(optimizer='adam', loss='sparse_categorical_crossentropy', metrics=['accuracy'])  # Compile model\n",
        "    return model"
      ],
      "metadata": {
        "id": "pMitv_fqNylJ"
      },
      "execution_count": 15,
      "outputs": []
    },
    {
      "cell_type": "code",
      "source": [
        "# Step 5: Hyperparameter tuning with Grid Search\n",
        "# Define parameter grid for tuning\n",
        "param_grid = {\n",
        "    'model__hidden_layers': [1, 2],  # Varying the number of hidden layers\n",
        "    'model__neurons': [32, 64],  # Varying the number of neurons\n",
        "    'epochs': [10, 20],  # Varying the number of epochs\n",
        "    'batch_size': [16, 32]  # Varying the batch size\n",
        "}"
      ],
      "metadata": {
        "id": "b4tZZ_9UN3rX"
      },
      "execution_count": 18,
      "outputs": []
    },
    {
      "cell_type": "code",
      "source": [
        "# Wrap the model for use in scikit-learn\n",
        "model = KerasClassifier(build_fn=create_model, verbose=0)\n",
        "\n",
        "# Grid search for hyperparameter tuning\n",
        "grid = GridSearchCV(estimator=model, param_grid=param_grid, scoring='accuracy', cv=3)  # 3-fold cross-validation\n",
        "grid_result = grid.fit(X_train, y_train)  # Fit grid search to training data\n",
        "\n",
        "# Display best parameters and accuracy score from grid search\n",
        "print(\"Best parameters found: \", grid_result.best_params_)\n",
        "print(\"Best accuracy from grid search: \", grid_result.best_score_)\n"
      ],
      "metadata": {
        "colab": {
          "base_uri": "https://localhost:8080/"
        },
        "id": "m82UXDYUN6mH",
        "outputId": "88cac406-f948-4b9a-9bfd-4294d7ead3ed"
      },
      "execution_count": 19,
      "outputs": [
        {
          "output_type": "stream",
          "name": "stderr",
          "text": [
            "/usr/local/lib/python3.10/dist-packages/scikeras/wrappers.py:925: UserWarning: ``build_fn`` will be renamed to ``model`` in a future release, at which point use of ``build_fn`` will raise an Error instead.\n",
            "  X, y = self._initialize(X, y)\n",
            "/usr/local/lib/python3.10/dist-packages/keras/src/layers/core/dense.py:87: UserWarning: Do not pass an `input_shape`/`input_dim` argument to a layer. When using Sequential models, prefer using an `Input(shape)` object as the first layer in the model instead.\n",
            "  super().__init__(activity_regularizer=activity_regularizer, **kwargs)\n",
            "/usr/local/lib/python3.10/dist-packages/scikeras/wrappers.py:925: UserWarning: ``build_fn`` will be renamed to ``model`` in a future release, at which point use of ``build_fn`` will raise an Error instead.\n",
            "  X, y = self._initialize(X, y)\n",
            "/usr/local/lib/python3.10/dist-packages/keras/src/layers/core/dense.py:87: UserWarning: Do not pass an `input_shape`/`input_dim` argument to a layer. When using Sequential models, prefer using an `Input(shape)` object as the first layer in the model instead.\n",
            "  super().__init__(activity_regularizer=activity_regularizer, **kwargs)\n",
            "/usr/local/lib/python3.10/dist-packages/scikeras/wrappers.py:925: UserWarning: ``build_fn`` will be renamed to ``model`` in a future release, at which point use of ``build_fn`` will raise an Error instead.\n",
            "  X, y = self._initialize(X, y)\n",
            "/usr/local/lib/python3.10/dist-packages/keras/src/layers/core/dense.py:87: UserWarning: Do not pass an `input_shape`/`input_dim` argument to a layer. When using Sequential models, prefer using an `Input(shape)` object as the first layer in the model instead.\n",
            "  super().__init__(activity_regularizer=activity_regularizer, **kwargs)\n",
            "/usr/local/lib/python3.10/dist-packages/scikeras/wrappers.py:925: UserWarning: ``build_fn`` will be renamed to ``model`` in a future release, at which point use of ``build_fn`` will raise an Error instead.\n",
            "  X, y = self._initialize(X, y)\n",
            "/usr/local/lib/python3.10/dist-packages/keras/src/layers/core/dense.py:87: UserWarning: Do not pass an `input_shape`/`input_dim` argument to a layer. When using Sequential models, prefer using an `Input(shape)` object as the first layer in the model instead.\n",
            "  super().__init__(activity_regularizer=activity_regularizer, **kwargs)\n",
            "/usr/local/lib/python3.10/dist-packages/scikeras/wrappers.py:925: UserWarning: ``build_fn`` will be renamed to ``model`` in a future release, at which point use of ``build_fn`` will raise an Error instead.\n",
            "  X, y = self._initialize(X, y)\n",
            "/usr/local/lib/python3.10/dist-packages/keras/src/layers/core/dense.py:87: UserWarning: Do not pass an `input_shape`/`input_dim` argument to a layer. When using Sequential models, prefer using an `Input(shape)` object as the first layer in the model instead.\n",
            "  super().__init__(activity_regularizer=activity_regularizer, **kwargs)\n",
            "/usr/local/lib/python3.10/dist-packages/scikeras/wrappers.py:925: UserWarning: ``build_fn`` will be renamed to ``model`` in a future release, at which point use of ``build_fn`` will raise an Error instead.\n",
            "  X, y = self._initialize(X, y)\n",
            "/usr/local/lib/python3.10/dist-packages/keras/src/layers/core/dense.py:87: UserWarning: Do not pass an `input_shape`/`input_dim` argument to a layer. When using Sequential models, prefer using an `Input(shape)` object as the first layer in the model instead.\n",
            "  super().__init__(activity_regularizer=activity_regularizer, **kwargs)\n",
            "/usr/local/lib/python3.10/dist-packages/scikeras/wrappers.py:925: UserWarning: ``build_fn`` will be renamed to ``model`` in a future release, at which point use of ``build_fn`` will raise an Error instead.\n",
            "  X, y = self._initialize(X, y)\n",
            "/usr/local/lib/python3.10/dist-packages/keras/src/layers/core/dense.py:87: UserWarning: Do not pass an `input_shape`/`input_dim` argument to a layer. When using Sequential models, prefer using an `Input(shape)` object as the first layer in the model instead.\n",
            "  super().__init__(activity_regularizer=activity_regularizer, **kwargs)\n",
            "/usr/local/lib/python3.10/dist-packages/scikeras/wrappers.py:925: UserWarning: ``build_fn`` will be renamed to ``model`` in a future release, at which point use of ``build_fn`` will raise an Error instead.\n",
            "  X, y = self._initialize(X, y)\n",
            "/usr/local/lib/python3.10/dist-packages/keras/src/layers/core/dense.py:87: UserWarning: Do not pass an `input_shape`/`input_dim` argument to a layer. When using Sequential models, prefer using an `Input(shape)` object as the first layer in the model instead.\n",
            "  super().__init__(activity_regularizer=activity_regularizer, **kwargs)\n",
            "/usr/local/lib/python3.10/dist-packages/scikeras/wrappers.py:925: UserWarning: ``build_fn`` will be renamed to ``model`` in a future release, at which point use of ``build_fn`` will raise an Error instead.\n",
            "  X, y = self._initialize(X, y)\n",
            "/usr/local/lib/python3.10/dist-packages/keras/src/layers/core/dense.py:87: UserWarning: Do not pass an `input_shape`/`input_dim` argument to a layer. When using Sequential models, prefer using an `Input(shape)` object as the first layer in the model instead.\n",
            "  super().__init__(activity_regularizer=activity_regularizer, **kwargs)\n",
            "/usr/local/lib/python3.10/dist-packages/scikeras/wrappers.py:925: UserWarning: ``build_fn`` will be renamed to ``model`` in a future release, at which point use of ``build_fn`` will raise an Error instead.\n",
            "  X, y = self._initialize(X, y)\n",
            "/usr/local/lib/python3.10/dist-packages/keras/src/layers/core/dense.py:87: UserWarning: Do not pass an `input_shape`/`input_dim` argument to a layer. When using Sequential models, prefer using an `Input(shape)` object as the first layer in the model instead.\n",
            "  super().__init__(activity_regularizer=activity_regularizer, **kwargs)\n",
            "/usr/local/lib/python3.10/dist-packages/scikeras/wrappers.py:925: UserWarning: ``build_fn`` will be renamed to ``model`` in a future release, at which point use of ``build_fn`` will raise an Error instead.\n",
            "  X, y = self._initialize(X, y)\n",
            "/usr/local/lib/python3.10/dist-packages/keras/src/layers/core/dense.py:87: UserWarning: Do not pass an `input_shape`/`input_dim` argument to a layer. When using Sequential models, prefer using an `Input(shape)` object as the first layer in the model instead.\n",
            "  super().__init__(activity_regularizer=activity_regularizer, **kwargs)\n",
            "/usr/local/lib/python3.10/dist-packages/scikeras/wrappers.py:925: UserWarning: ``build_fn`` will be renamed to ``model`` in a future release, at which point use of ``build_fn`` will raise an Error instead.\n",
            "  X, y = self._initialize(X, y)\n",
            "/usr/local/lib/python3.10/dist-packages/keras/src/layers/core/dense.py:87: UserWarning: Do not pass an `input_shape`/`input_dim` argument to a layer. When using Sequential models, prefer using an `Input(shape)` object as the first layer in the model instead.\n",
            "  super().__init__(activity_regularizer=activity_regularizer, **kwargs)\n",
            "/usr/local/lib/python3.10/dist-packages/scikeras/wrappers.py:925: UserWarning: ``build_fn`` will be renamed to ``model`` in a future release, at which point use of ``build_fn`` will raise an Error instead.\n",
            "  X, y = self._initialize(X, y)\n",
            "/usr/local/lib/python3.10/dist-packages/keras/src/layers/core/dense.py:87: UserWarning: Do not pass an `input_shape`/`input_dim` argument to a layer. When using Sequential models, prefer using an `Input(shape)` object as the first layer in the model instead.\n",
            "  super().__init__(activity_regularizer=activity_regularizer, **kwargs)\n",
            "/usr/local/lib/python3.10/dist-packages/scikeras/wrappers.py:925: UserWarning: ``build_fn`` will be renamed to ``model`` in a future release, at which point use of ``build_fn`` will raise an Error instead.\n",
            "  X, y = self._initialize(X, y)\n",
            "/usr/local/lib/python3.10/dist-packages/keras/src/layers/core/dense.py:87: UserWarning: Do not pass an `input_shape`/`input_dim` argument to a layer. When using Sequential models, prefer using an `Input(shape)` object as the first layer in the model instead.\n",
            "  super().__init__(activity_regularizer=activity_regularizer, **kwargs)\n",
            "/usr/local/lib/python3.10/dist-packages/scikeras/wrappers.py:925: UserWarning: ``build_fn`` will be renamed to ``model`` in a future release, at which point use of ``build_fn`` will raise an Error instead.\n",
            "  X, y = self._initialize(X, y)\n",
            "/usr/local/lib/python3.10/dist-packages/keras/src/layers/core/dense.py:87: UserWarning: Do not pass an `input_shape`/`input_dim` argument to a layer. When using Sequential models, prefer using an `Input(shape)` object as the first layer in the model instead.\n",
            "  super().__init__(activity_regularizer=activity_regularizer, **kwargs)\n",
            "/usr/local/lib/python3.10/dist-packages/scikeras/wrappers.py:925: UserWarning: ``build_fn`` will be renamed to ``model`` in a future release, at which point use of ``build_fn`` will raise an Error instead.\n",
            "  X, y = self._initialize(X, y)\n",
            "/usr/local/lib/python3.10/dist-packages/keras/src/layers/core/dense.py:87: UserWarning: Do not pass an `input_shape`/`input_dim` argument to a layer. When using Sequential models, prefer using an `Input(shape)` object as the first layer in the model instead.\n",
            "  super().__init__(activity_regularizer=activity_regularizer, **kwargs)\n",
            "/usr/local/lib/python3.10/dist-packages/scikeras/wrappers.py:925: UserWarning: ``build_fn`` will be renamed to ``model`` in a future release, at which point use of ``build_fn`` will raise an Error instead.\n",
            "  X, y = self._initialize(X, y)\n",
            "/usr/local/lib/python3.10/dist-packages/keras/src/layers/core/dense.py:87: UserWarning: Do not pass an `input_shape`/`input_dim` argument to a layer. When using Sequential models, prefer using an `Input(shape)` object as the first layer in the model instead.\n",
            "  super().__init__(activity_regularizer=activity_regularizer, **kwargs)\n",
            "/usr/local/lib/python3.10/dist-packages/scikeras/wrappers.py:925: UserWarning: ``build_fn`` will be renamed to ``model`` in a future release, at which point use of ``build_fn`` will raise an Error instead.\n",
            "  X, y = self._initialize(X, y)\n",
            "/usr/local/lib/python3.10/dist-packages/keras/src/layers/core/dense.py:87: UserWarning: Do not pass an `input_shape`/`input_dim` argument to a layer. When using Sequential models, prefer using an `Input(shape)` object as the first layer in the model instead.\n",
            "  super().__init__(activity_regularizer=activity_regularizer, **kwargs)\n",
            "/usr/local/lib/python3.10/dist-packages/scikeras/wrappers.py:925: UserWarning: ``build_fn`` will be renamed to ``model`` in a future release, at which point use of ``build_fn`` will raise an Error instead.\n",
            "  X, y = self._initialize(X, y)\n",
            "/usr/local/lib/python3.10/dist-packages/keras/src/layers/core/dense.py:87: UserWarning: Do not pass an `input_shape`/`input_dim` argument to a layer. When using Sequential models, prefer using an `Input(shape)` object as the first layer in the model instead.\n",
            "  super().__init__(activity_regularizer=activity_regularizer, **kwargs)\n",
            "/usr/local/lib/python3.10/dist-packages/scikeras/wrappers.py:925: UserWarning: ``build_fn`` will be renamed to ``model`` in a future release, at which point use of ``build_fn`` will raise an Error instead.\n",
            "  X, y = self._initialize(X, y)\n",
            "/usr/local/lib/python3.10/dist-packages/keras/src/layers/core/dense.py:87: UserWarning: Do not pass an `input_shape`/`input_dim` argument to a layer. When using Sequential models, prefer using an `Input(shape)` object as the first layer in the model instead.\n",
            "  super().__init__(activity_regularizer=activity_regularizer, **kwargs)\n",
            "/usr/local/lib/python3.10/dist-packages/scikeras/wrappers.py:925: UserWarning: ``build_fn`` will be renamed to ``model`` in a future release, at which point use of ``build_fn`` will raise an Error instead.\n",
            "  X, y = self._initialize(X, y)\n",
            "/usr/local/lib/python3.10/dist-packages/keras/src/layers/core/dense.py:87: UserWarning: Do not pass an `input_shape`/`input_dim` argument to a layer. When using Sequential models, prefer using an `Input(shape)` object as the first layer in the model instead.\n",
            "  super().__init__(activity_regularizer=activity_regularizer, **kwargs)\n",
            "/usr/local/lib/python3.10/dist-packages/scikeras/wrappers.py:925: UserWarning: ``build_fn`` will be renamed to ``model`` in a future release, at which point use of ``build_fn`` will raise an Error instead.\n",
            "  X, y = self._initialize(X, y)\n",
            "/usr/local/lib/python3.10/dist-packages/keras/src/layers/core/dense.py:87: UserWarning: Do not pass an `input_shape`/`input_dim` argument to a layer. When using Sequential models, prefer using an `Input(shape)` object as the first layer in the model instead.\n",
            "  super().__init__(activity_regularizer=activity_regularizer, **kwargs)\n",
            "/usr/local/lib/python3.10/dist-packages/scikeras/wrappers.py:925: UserWarning: ``build_fn`` will be renamed to ``model`` in a future release, at which point use of ``build_fn`` will raise an Error instead.\n",
            "  X, y = self._initialize(X, y)\n",
            "/usr/local/lib/python3.10/dist-packages/keras/src/layers/core/dense.py:87: UserWarning: Do not pass an `input_shape`/`input_dim` argument to a layer. When using Sequential models, prefer using an `Input(shape)` object as the first layer in the model instead.\n",
            "  super().__init__(activity_regularizer=activity_regularizer, **kwargs)\n",
            "/usr/local/lib/python3.10/dist-packages/scikeras/wrappers.py:925: UserWarning: ``build_fn`` will be renamed to ``model`` in a future release, at which point use of ``build_fn`` will raise an Error instead.\n",
            "  X, y = self._initialize(X, y)\n",
            "/usr/local/lib/python3.10/dist-packages/keras/src/layers/core/dense.py:87: UserWarning: Do not pass an `input_shape`/`input_dim` argument to a layer. When using Sequential models, prefer using an `Input(shape)` object as the first layer in the model instead.\n",
            "  super().__init__(activity_regularizer=activity_regularizer, **kwargs)\n",
            "/usr/local/lib/python3.10/dist-packages/scikeras/wrappers.py:925: UserWarning: ``build_fn`` will be renamed to ``model`` in a future release, at which point use of ``build_fn`` will raise an Error instead.\n",
            "  X, y = self._initialize(X, y)\n",
            "/usr/local/lib/python3.10/dist-packages/keras/src/layers/core/dense.py:87: UserWarning: Do not pass an `input_shape`/`input_dim` argument to a layer. When using Sequential models, prefer using an `Input(shape)` object as the first layer in the model instead.\n",
            "  super().__init__(activity_regularizer=activity_regularizer, **kwargs)\n",
            "/usr/local/lib/python3.10/dist-packages/scikeras/wrappers.py:925: UserWarning: ``build_fn`` will be renamed to ``model`` in a future release, at which point use of ``build_fn`` will raise an Error instead.\n",
            "  X, y = self._initialize(X, y)\n",
            "/usr/local/lib/python3.10/dist-packages/keras/src/layers/core/dense.py:87: UserWarning: Do not pass an `input_shape`/`input_dim` argument to a layer. When using Sequential models, prefer using an `Input(shape)` object as the first layer in the model instead.\n",
            "  super().__init__(activity_regularizer=activity_regularizer, **kwargs)\n",
            "/usr/local/lib/python3.10/dist-packages/scikeras/wrappers.py:925: UserWarning: ``build_fn`` will be renamed to ``model`` in a future release, at which point use of ``build_fn`` will raise an Error instead.\n",
            "  X, y = self._initialize(X, y)\n",
            "/usr/local/lib/python3.10/dist-packages/keras/src/layers/core/dense.py:87: UserWarning: Do not pass an `input_shape`/`input_dim` argument to a layer. When using Sequential models, prefer using an `Input(shape)` object as the first layer in the model instead.\n",
            "  super().__init__(activity_regularizer=activity_regularizer, **kwargs)\n",
            "/usr/local/lib/python3.10/dist-packages/scikeras/wrappers.py:925: UserWarning: ``build_fn`` will be renamed to ``model`` in a future release, at which point use of ``build_fn`` will raise an Error instead.\n",
            "  X, y = self._initialize(X, y)\n",
            "/usr/local/lib/python3.10/dist-packages/keras/src/layers/core/dense.py:87: UserWarning: Do not pass an `input_shape`/`input_dim` argument to a layer. When using Sequential models, prefer using an `Input(shape)` object as the first layer in the model instead.\n",
            "  super().__init__(activity_regularizer=activity_regularizer, **kwargs)\n",
            "/usr/local/lib/python3.10/dist-packages/scikeras/wrappers.py:925: UserWarning: ``build_fn`` will be renamed to ``model`` in a future release, at which point use of ``build_fn`` will raise an Error instead.\n",
            "  X, y = self._initialize(X, y)\n",
            "/usr/local/lib/python3.10/dist-packages/keras/src/layers/core/dense.py:87: UserWarning: Do not pass an `input_shape`/`input_dim` argument to a layer. When using Sequential models, prefer using an `Input(shape)` object as the first layer in the model instead.\n",
            "  super().__init__(activity_regularizer=activity_regularizer, **kwargs)\n",
            "/usr/local/lib/python3.10/dist-packages/scikeras/wrappers.py:925: UserWarning: ``build_fn`` will be renamed to ``model`` in a future release, at which point use of ``build_fn`` will raise an Error instead.\n",
            "  X, y = self._initialize(X, y)\n",
            "/usr/local/lib/python3.10/dist-packages/keras/src/layers/core/dense.py:87: UserWarning: Do not pass an `input_shape`/`input_dim` argument to a layer. When using Sequential models, prefer using an `Input(shape)` object as the first layer in the model instead.\n",
            "  super().__init__(activity_regularizer=activity_regularizer, **kwargs)\n",
            "/usr/local/lib/python3.10/dist-packages/scikeras/wrappers.py:925: UserWarning: ``build_fn`` will be renamed to ``model`` in a future release, at which point use of ``build_fn`` will raise an Error instead.\n",
            "  X, y = self._initialize(X, y)\n",
            "/usr/local/lib/python3.10/dist-packages/keras/src/layers/core/dense.py:87: UserWarning: Do not pass an `input_shape`/`input_dim` argument to a layer. When using Sequential models, prefer using an `Input(shape)` object as the first layer in the model instead.\n",
            "  super().__init__(activity_regularizer=activity_regularizer, **kwargs)\n",
            "/usr/local/lib/python3.10/dist-packages/scikeras/wrappers.py:925: UserWarning: ``build_fn`` will be renamed to ``model`` in a future release, at which point use of ``build_fn`` will raise an Error instead.\n",
            "  X, y = self._initialize(X, y)\n",
            "/usr/local/lib/python3.10/dist-packages/keras/src/layers/core/dense.py:87: UserWarning: Do not pass an `input_shape`/`input_dim` argument to a layer. When using Sequential models, prefer using an `Input(shape)` object as the first layer in the model instead.\n",
            "  super().__init__(activity_regularizer=activity_regularizer, **kwargs)\n",
            "/usr/local/lib/python3.10/dist-packages/scikeras/wrappers.py:925: UserWarning: ``build_fn`` will be renamed to ``model`` in a future release, at which point use of ``build_fn`` will raise an Error instead.\n",
            "  X, y = self._initialize(X, y)\n",
            "/usr/local/lib/python3.10/dist-packages/keras/src/layers/core/dense.py:87: UserWarning: Do not pass an `input_shape`/`input_dim` argument to a layer. When using Sequential models, prefer using an `Input(shape)` object as the first layer in the model instead.\n",
            "  super().__init__(activity_regularizer=activity_regularizer, **kwargs)\n",
            "/usr/local/lib/python3.10/dist-packages/scikeras/wrappers.py:925: UserWarning: ``build_fn`` will be renamed to ``model`` in a future release, at which point use of ``build_fn`` will raise an Error instead.\n",
            "  X, y = self._initialize(X, y)\n",
            "/usr/local/lib/python3.10/dist-packages/keras/src/layers/core/dense.py:87: UserWarning: Do not pass an `input_shape`/`input_dim` argument to a layer. When using Sequential models, prefer using an `Input(shape)` object as the first layer in the model instead.\n",
            "  super().__init__(activity_regularizer=activity_regularizer, **kwargs)\n",
            "/usr/local/lib/python3.10/dist-packages/scikeras/wrappers.py:925: UserWarning: ``build_fn`` will be renamed to ``model`` in a future release, at which point use of ``build_fn`` will raise an Error instead.\n",
            "  X, y = self._initialize(X, y)\n",
            "/usr/local/lib/python3.10/dist-packages/keras/src/layers/core/dense.py:87: UserWarning: Do not pass an `input_shape`/`input_dim` argument to a layer. When using Sequential models, prefer using an `Input(shape)` object as the first layer in the model instead.\n",
            "  super().__init__(activity_regularizer=activity_regularizer, **kwargs)\n",
            "/usr/local/lib/python3.10/dist-packages/scikeras/wrappers.py:925: UserWarning: ``build_fn`` will be renamed to ``model`` in a future release, at which point use of ``build_fn`` will raise an Error instead.\n",
            "  X, y = self._initialize(X, y)\n",
            "/usr/local/lib/python3.10/dist-packages/keras/src/layers/core/dense.py:87: UserWarning: Do not pass an `input_shape`/`input_dim` argument to a layer. When using Sequential models, prefer using an `Input(shape)` object as the first layer in the model instead.\n",
            "  super().__init__(activity_regularizer=activity_regularizer, **kwargs)\n",
            "/usr/local/lib/python3.10/dist-packages/scikeras/wrappers.py:925: UserWarning: ``build_fn`` will be renamed to ``model`` in a future release, at which point use of ``build_fn`` will raise an Error instead.\n",
            "  X, y = self._initialize(X, y)\n",
            "/usr/local/lib/python3.10/dist-packages/keras/src/layers/core/dense.py:87: UserWarning: Do not pass an `input_shape`/`input_dim` argument to a layer. When using Sequential models, prefer using an `Input(shape)` object as the first layer in the model instead.\n",
            "  super().__init__(activity_regularizer=activity_regularizer, **kwargs)\n",
            "/usr/local/lib/python3.10/dist-packages/scikeras/wrappers.py:925: UserWarning: ``build_fn`` will be renamed to ``model`` in a future release, at which point use of ``build_fn`` will raise an Error instead.\n",
            "  X, y = self._initialize(X, y)\n",
            "/usr/local/lib/python3.10/dist-packages/keras/src/layers/core/dense.py:87: UserWarning: Do not pass an `input_shape`/`input_dim` argument to a layer. When using Sequential models, prefer using an `Input(shape)` object as the first layer in the model instead.\n",
            "  super().__init__(activity_regularizer=activity_regularizer, **kwargs)\n",
            "/usr/local/lib/python3.10/dist-packages/scikeras/wrappers.py:925: UserWarning: ``build_fn`` will be renamed to ``model`` in a future release, at which point use of ``build_fn`` will raise an Error instead.\n",
            "  X, y = self._initialize(X, y)\n",
            "/usr/local/lib/python3.10/dist-packages/keras/src/layers/core/dense.py:87: UserWarning: Do not pass an `input_shape`/`input_dim` argument to a layer. When using Sequential models, prefer using an `Input(shape)` object as the first layer in the model instead.\n",
            "  super().__init__(activity_regularizer=activity_regularizer, **kwargs)\n",
            "/usr/local/lib/python3.10/dist-packages/scikeras/wrappers.py:925: UserWarning: ``build_fn`` will be renamed to ``model`` in a future release, at which point use of ``build_fn`` will raise an Error instead.\n",
            "  X, y = self._initialize(X, y)\n",
            "/usr/local/lib/python3.10/dist-packages/keras/src/layers/core/dense.py:87: UserWarning: Do not pass an `input_shape`/`input_dim` argument to a layer. When using Sequential models, prefer using an `Input(shape)` object as the first layer in the model instead.\n",
            "  super().__init__(activity_regularizer=activity_regularizer, **kwargs)\n",
            "/usr/local/lib/python3.10/dist-packages/scikeras/wrappers.py:925: UserWarning: ``build_fn`` will be renamed to ``model`` in a future release, at which point use of ``build_fn`` will raise an Error instead.\n",
            "  X, y = self._initialize(X, y)\n",
            "/usr/local/lib/python3.10/dist-packages/keras/src/layers/core/dense.py:87: UserWarning: Do not pass an `input_shape`/`input_dim` argument to a layer. When using Sequential models, prefer using an `Input(shape)` object as the first layer in the model instead.\n",
            "  super().__init__(activity_regularizer=activity_regularizer, **kwargs)\n",
            "/usr/local/lib/python3.10/dist-packages/scikeras/wrappers.py:925: UserWarning: ``build_fn`` will be renamed to ``model`` in a future release, at which point use of ``build_fn`` will raise an Error instead.\n",
            "  X, y = self._initialize(X, y)\n",
            "/usr/local/lib/python3.10/dist-packages/keras/src/layers/core/dense.py:87: UserWarning: Do not pass an `input_shape`/`input_dim` argument to a layer. When using Sequential models, prefer using an `Input(shape)` object as the first layer in the model instead.\n",
            "  super().__init__(activity_regularizer=activity_regularizer, **kwargs)\n",
            "/usr/local/lib/python3.10/dist-packages/scikeras/wrappers.py:925: UserWarning: ``build_fn`` will be renamed to ``model`` in a future release, at which point use of ``build_fn`` will raise an Error instead.\n",
            "  X, y = self._initialize(X, y)\n",
            "/usr/local/lib/python3.10/dist-packages/keras/src/layers/core/dense.py:87: UserWarning: Do not pass an `input_shape`/`input_dim` argument to a layer. When using Sequential models, prefer using an `Input(shape)` object as the first layer in the model instead.\n",
            "  super().__init__(activity_regularizer=activity_regularizer, **kwargs)\n",
            "/usr/local/lib/python3.10/dist-packages/scikeras/wrappers.py:925: UserWarning: ``build_fn`` will be renamed to ``model`` in a future release, at which point use of ``build_fn`` will raise an Error instead.\n",
            "  X, y = self._initialize(X, y)\n",
            "/usr/local/lib/python3.10/dist-packages/keras/src/layers/core/dense.py:87: UserWarning: Do not pass an `input_shape`/`input_dim` argument to a layer. When using Sequential models, prefer using an `Input(shape)` object as the first layer in the model instead.\n",
            "  super().__init__(activity_regularizer=activity_regularizer, **kwargs)\n",
            "/usr/local/lib/python3.10/dist-packages/scikeras/wrappers.py:925: UserWarning: ``build_fn`` will be renamed to ``model`` in a future release, at which point use of ``build_fn`` will raise an Error instead.\n",
            "  X, y = self._initialize(X, y)\n",
            "/usr/local/lib/python3.10/dist-packages/keras/src/layers/core/dense.py:87: UserWarning: Do not pass an `input_shape`/`input_dim` argument to a layer. When using Sequential models, prefer using an `Input(shape)` object as the first layer in the model instead.\n",
            "  super().__init__(activity_regularizer=activity_regularizer, **kwargs)\n",
            "/usr/local/lib/python3.10/dist-packages/scikeras/wrappers.py:925: UserWarning: ``build_fn`` will be renamed to ``model`` in a future release, at which point use of ``build_fn`` will raise an Error instead.\n",
            "  X, y = self._initialize(X, y)\n",
            "/usr/local/lib/python3.10/dist-packages/keras/src/layers/core/dense.py:87: UserWarning: Do not pass an `input_shape`/`input_dim` argument to a layer. When using Sequential models, prefer using an `Input(shape)` object as the first layer in the model instead.\n",
            "  super().__init__(activity_regularizer=activity_regularizer, **kwargs)\n",
            "/usr/local/lib/python3.10/dist-packages/scikeras/wrappers.py:925: UserWarning: ``build_fn`` will be renamed to ``model`` in a future release, at which point use of ``build_fn`` will raise an Error instead.\n",
            "  X, y = self._initialize(X, y)\n",
            "/usr/local/lib/python3.10/dist-packages/keras/src/layers/core/dense.py:87: UserWarning: Do not pass an `input_shape`/`input_dim` argument to a layer. When using Sequential models, prefer using an `Input(shape)` object as the first layer in the model instead.\n",
            "  super().__init__(activity_regularizer=activity_regularizer, **kwargs)\n",
            "/usr/local/lib/python3.10/dist-packages/scikeras/wrappers.py:925: UserWarning: ``build_fn`` will be renamed to ``model`` in a future release, at which point use of ``build_fn`` will raise an Error instead.\n",
            "  X, y = self._initialize(X, y)\n",
            "/usr/local/lib/python3.10/dist-packages/keras/src/layers/core/dense.py:87: UserWarning: Do not pass an `input_shape`/`input_dim` argument to a layer. When using Sequential models, prefer using an `Input(shape)` object as the first layer in the model instead.\n",
            "  super().__init__(activity_regularizer=activity_regularizer, **kwargs)\n",
            "/usr/local/lib/python3.10/dist-packages/scikeras/wrappers.py:925: UserWarning: ``build_fn`` will be renamed to ``model`` in a future release, at which point use of ``build_fn`` will raise an Error instead.\n",
            "  X, y = self._initialize(X, y)\n",
            "/usr/local/lib/python3.10/dist-packages/keras/src/layers/core/dense.py:87: UserWarning: Do not pass an `input_shape`/`input_dim` argument to a layer. When using Sequential models, prefer using an `Input(shape)` object as the first layer in the model instead.\n",
            "  super().__init__(activity_regularizer=activity_regularizer, **kwargs)\n"
          ]
        },
        {
          "output_type": "stream",
          "name": "stdout",
          "text": [
            "Best parameters found:  {'batch_size': 16, 'epochs': 20, 'model__hidden_layers': 2, 'model__neurons': 64}\n",
            "Best accuracy from grid search:  0.9268126009844119\n"
          ]
        }
      ]
    },
    {
      "cell_type": "code",
      "source": [
        "# Step 6: Evaluate the model with best parameters on the test set\n",
        "best_model = grid_result.best_estimator_  # Retrieve the best model\n",
        "y_pred = best_model.predict(X_test)  # Make predictions on test data\n"
      ],
      "metadata": {
        "id": "c251z2puRlgr"
      },
      "execution_count": 20,
      "outputs": []
    },
    {
      "cell_type": "code",
      "source": [
        "# Compute and display evaluation metrics\n",
        "accuracy = accuracy_score(y_test, y_pred)\n",
        "precision = precision_score(y_test, y_pred, average='weighted')\n",
        "recall = recall_score(y_test, y_pred, average='weighted')\n",
        "f1 = f1_score(y_test, y_pred, average='weighted')\n",
        "\n",
        "print(f\"Test Accuracy: {accuracy}\")\n",
        "print(f\"Test Precision: {precision}\")\n",
        "print(f\"Test Recall: {recall}\")\n",
        "print(f\"Test F1 Score: {f1}\")"
      ],
      "metadata": {
        "colab": {
          "base_uri": "https://localhost:8080/"
        },
        "id": "HNVbj4j5Rps6",
        "outputId": "1442caaa-c160-43a8-a66e-90051e20a5b6"
      },
      "execution_count": 21,
      "outputs": [
        {
          "output_type": "stream",
          "name": "stdout",
          "text": [
            "Test Accuracy: 0.94725\n",
            "Test Precision: 0.9483105908440221\n",
            "Test Recall: 0.94725\n",
            "Test F1 Score: 0.9474726912249626\n"
          ]
        }
      ]
    }
  ]
}