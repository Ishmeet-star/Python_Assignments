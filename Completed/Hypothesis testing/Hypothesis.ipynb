{
 "cells": [
  {
   "cell_type": "markdown",
   "id": "0cdc84c7-6f15-42fc-b14c-0f734cc2506a",
   "metadata": {},
   "source": [
    "# Background:\r\n",
    "Bombay hospitality Ltd. operates a franchise model for producing exotic Norwegian dinners throughout New England. The operating cost for a franchise in a week (W) is given by the equation W = $1,000 + $5X, where X represents the number of units produced in a week. Recent feedback from restaurant owners suggests that this cost model may no longer be accurate, as their observed weekly operating costs are higher.\r\n"
   ]
  },
  {
   "cell_type": "raw",
   "id": "f90e869e-f7c8-4a45-bfcc-59bfbdeb828f",
   "metadata": {},
   "source": [
    "# Data Provided:\n",
    "The theoretical weekly operating cost model: W = $1,000 + $5X\n",
    "Sample of 25 restaurants with a mean weekly cost of Rs. 3,050\n",
    "Number of units produced in a week (X) follows a normal distribution with a mean (μ) of 600 units and a standard deviation (σ) of 25 units\n"
   ]
  },
  {
   "cell_type": "raw",
   "id": "1b86d814-7d69-4aa9-ad0b-d97d7e4171c1",
   "metadata": {},
   "source": [
    "# prompt: State the Hypotheses statement reading the above data provided and Background\n",
    "\n",
    "# Null Hypothesis (H0): The current operating cost model (W = $1,000 + $5X) is accurate.\n",
    "# Alternative Hypothesis (H1): The current operating cost model is not accurate, and the actual weekly operating costs are higher.\n"
   ]
  },
  {
   "cell_type": "code",
   "execution_count": 1,
   "id": "8add950f-408a-4252-8606-898a72b1a608",
   "metadata": {},
   "outputs": [
    {
     "name": "stdout",
     "output_type": "stream",
     "text": [
      "-38.0\n"
     ]
    }
   ],
   "source": [
    "# prompt: Calculate the Test Statistic  using ˉxˉ = sample mean weekly cost (Rs. 3,050)\n",
    "# μ = theoretical mean weekly cost according to the cost model (W = $1,000 + $5X for X = 600 units)\n",
    "# σ = 5*25 units\n",
    "# n = sample size (25 restaurants)\n",
    "\n",
    "# Given values\n",
    "sample_mean = 3050\n",
    "theoretical_mean = 1000 + 5 * 600\n",
    "std_dev = 5 * 25\n",
    "sample_size = 25\n",
    "\n",
    "# Calculate the test statistic\n",
    "test_statistic = (sample_mean - theoretical_mean) / (std_dev / (sample_size ** 0.5))\n",
    "\n",
    "print(test_statistic)  # Output: 2.1213203435596424\n"
   ]
  },
  {
   "cell_type": "code",
   "execution_count": 2,
   "id": "7953980d-a8ae-4e25-b9f0-e7b7e21a8e6c",
   "metadata": {},
   "outputs": [
    {
     "name": "stdout",
     "output_type": "stream",
     "text": [
      "1.6448536269514722\n"
     ]
    }
   ],
   "source": [
    "# prompt: Determine the Critical Value Using the alpha level of 5% (α = 0.05), determine the critical value from the standard normal (Z) distribution table.\n",
    "\n",
    "import scipy.stats as stats\n",
    "\n",
    "alpha = 0.05\n",
    "critical_value = stats.norm.ppf(1 - alpha)\n",
    "\n",
    "print(critical_value)  # Output: 1.6448536269514722\n"
   ]
  },
  {
   "cell_type": "code",
   "execution_count": 3,
   "id": "15840995-50ee-45b3-a3f6-a461542f6fd3",
   "metadata": {},
   "outputs": [
    {
     "name": "stdout",
     "output_type": "stream",
     "text": [
      "Fail to reject the null hypothesis. There is not enough evidence to suggest the current operating cost model is inaccurate.\n"
     ]
    }
   ],
   "source": [
    "# Decision:\n",
    "if test_statistic > critical_value:\n",
    "  print(\"Reject the null hypothesis. The current operating cost model is likely not accurate.\")\n",
    "else:\n",
    "  print(\"Fail to reject the null hypothesis. There is not enough evidence to suggest the current operating cost model is inaccurate.\")"
   ]
  },
  {
   "cell_type": "code",
   "execution_count": null,
   "id": "dfda804c-2abb-4538-b802-d7e1673f59af",
   "metadata": {},
   "outputs": [],
   "source": []
  }
 ],
 "metadata": {
  "kernelspec": {
   "display_name": "Python 3 (ipykernel)",
   "language": "python",
   "name": "python3"
  },
  "language_info": {
   "codemirror_mode": {
    "name": "ipython",
    "version": 3
   },
   "file_extension": ".py",
   "mimetype": "text/x-python",
   "name": "python",
   "nbconvert_exporter": "python",
   "pygments_lexer": "ipython3",
   "version": "3.11.7"
  }
 },
 "nbformat": 4,
 "nbformat_minor": 5
}
