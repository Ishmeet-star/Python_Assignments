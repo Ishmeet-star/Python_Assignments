{
 "cells": [
  {
   "cell_type": "markdown",
   "id": "46aded20-a101-491c-9818-7b1b3e760ccc",
   "metadata": {},
   "source": [
    "# Required Imports"
   ]
  },
  {
   "cell_type": "code",
   "execution_count": 109,
   "id": "c75ec6c7-05a4-4bfa-b76f-255e7c9de5f3",
   "metadata": {},
   "outputs": [],
   "source": [
    "import pandas as pd\n",
    "import numpy as np\n",
    "import seaborn as sns\n",
    "import matplotlib.pyplot as plt\n",
    "from scipy.stats import skew\n",
    "from sklearn.preprocessing import LabelEncoder\n",
    "from sklearn.preprocessing import StandardScaler\n",
    "import sklearn\n",
    "from sklearn import linear_model"
   ]
  },
  {
   "cell_type": "markdown",
   "id": "c16fdc59-6961-4d90-a4e1-5ced0085395e",
   "metadata": {},
   "source": [
    "# Setting the boundaries"
   ]
  },
  {
   "cell_type": "code",
   "execution_count": 110,
   "id": "149a0840-d840-47a7-8f4d-bbf6f7475d4d",
   "metadata": {},
   "outputs": [],
   "source": [
    "df = pd.read_csv('D:\\EXCELR\\Assignments\\Completed\\MLR\\ToyotaCorolla - MLR.csv')"
   ]
  },
  {
   "cell_type": "code",
   "execution_count": 111,
   "id": "b575bc5f-aa74-42fe-8174-9965a0bc11e9",
   "metadata": {},
   "outputs": [
    {
     "name": "stdout",
     "output_type": "stream",
     "text": [
      "Number of cars older than 3 years: 1215, and they are 0.85%\n",
      "Number of cars older than 4 years: 1034, and they are 0.72%\n",
      "Number of cars older than 5 years: 754, and they are 0.53%\n",
      "Number of cars older than 6 years: 319, and they are 0.22%\n"
     ]
    }
   ],
   "source": [
    "three_years = df[(df.Age_08_04 >= 36)]\n",
    "four_years = df[(df.Age_08_04 >= 48)]\n",
    "five_years = df[(df.Age_08_04 >= 60)]\n",
    "six_years = df[(df.Age_08_04 >= 72)]\n",
    "\n",
    "three_years_old = len(three_years)\n",
    "four_years_old = len(four_years)\n",
    "five_years_old = len(five_years)\n",
    "six_years_old = len(six_years)\n",
    "\n",
    "total_cars = len(df)\n",
    "\n",
    "print(f\"Number of cars older than 3 years: {three_years_old}, and they are {three_years_old/total_cars:.2f}%\")\n",
    "print(f\"Number of cars older than 4 years: {four_years_old}, and they are {four_years_old/total_cars:.2f}%\")\n",
    "print(f\"Number of cars older than 5 years: {five_years_old}, and they are {five_years_old/total_cars:.2f}%\")\n",
    "print(f\"Number of cars older than 6 years: {six_years_old}, and they are {six_years_old/total_cars:.2f}%\")"
   ]
  },
  {
   "cell_type": "raw",
   "id": "1bcf033b-f91b-46b3-a9da-6f3221bc8a7e",
   "metadata": {},
   "source": [
    "Targetting the 5 years and older cars sounds good, since they cover almost the half of the whole dataset."
   ]
  },
  {
   "cell_type": "code",
   "execution_count": 112,
   "id": "939318b2-81f3-430b-9196-5b5bfd8999be",
   "metadata": {},
   "outputs": [
    {
     "data": {
      "text/html": [
       "<div>\n",
       "<style scoped>\n",
       "    .dataframe tbody tr th:only-of-type {\n",
       "        vertical-align: middle;\n",
       "    }\n",
       "\n",
       "    .dataframe tbody tr th {\n",
       "        vertical-align: top;\n",
       "    }\n",
       "\n",
       "    .dataframe thead th {\n",
       "        text-align: right;\n",
       "    }\n",
       "</style>\n",
       "<table border=\"1\" class=\"dataframe\">\n",
       "  <thead>\n",
       "    <tr style=\"text-align: right;\">\n",
       "      <th></th>\n",
       "      <th>Price</th>\n",
       "      <th>Age_08_04</th>\n",
       "      <th>KM</th>\n",
       "      <th>Fuel_Type</th>\n",
       "      <th>HP</th>\n",
       "      <th>Automatic</th>\n",
       "      <th>cc</th>\n",
       "      <th>Doors</th>\n",
       "      <th>Cylinders</th>\n",
       "      <th>Gears</th>\n",
       "      <th>Weight</th>\n",
       "    </tr>\n",
       "  </thead>\n",
       "  <tbody>\n",
       "    <tr>\n",
       "      <th>0</th>\n",
       "      <td>13500</td>\n",
       "      <td>23</td>\n",
       "      <td>46986</td>\n",
       "      <td>Diesel</td>\n",
       "      <td>90</td>\n",
       "      <td>0</td>\n",
       "      <td>2000</td>\n",
       "      <td>3</td>\n",
       "      <td>4</td>\n",
       "      <td>5</td>\n",
       "      <td>1165</td>\n",
       "    </tr>\n",
       "    <tr>\n",
       "      <th>1</th>\n",
       "      <td>13750</td>\n",
       "      <td>23</td>\n",
       "      <td>72937</td>\n",
       "      <td>Diesel</td>\n",
       "      <td>90</td>\n",
       "      <td>0</td>\n",
       "      <td>2000</td>\n",
       "      <td>3</td>\n",
       "      <td>4</td>\n",
       "      <td>5</td>\n",
       "      <td>1165</td>\n",
       "    </tr>\n",
       "    <tr>\n",
       "      <th>2</th>\n",
       "      <td>13950</td>\n",
       "      <td>24</td>\n",
       "      <td>41711</td>\n",
       "      <td>Diesel</td>\n",
       "      <td>90</td>\n",
       "      <td>0</td>\n",
       "      <td>2000</td>\n",
       "      <td>3</td>\n",
       "      <td>4</td>\n",
       "      <td>5</td>\n",
       "      <td>1165</td>\n",
       "    </tr>\n",
       "    <tr>\n",
       "      <th>3</th>\n",
       "      <td>14950</td>\n",
       "      <td>26</td>\n",
       "      <td>48000</td>\n",
       "      <td>Diesel</td>\n",
       "      <td>90</td>\n",
       "      <td>0</td>\n",
       "      <td>2000</td>\n",
       "      <td>3</td>\n",
       "      <td>4</td>\n",
       "      <td>5</td>\n",
       "      <td>1165</td>\n",
       "    </tr>\n",
       "    <tr>\n",
       "      <th>4</th>\n",
       "      <td>13750</td>\n",
       "      <td>30</td>\n",
       "      <td>38500</td>\n",
       "      <td>Diesel</td>\n",
       "      <td>90</td>\n",
       "      <td>0</td>\n",
       "      <td>2000</td>\n",
       "      <td>3</td>\n",
       "      <td>4</td>\n",
       "      <td>5</td>\n",
       "      <td>1170</td>\n",
       "    </tr>\n",
       "  </tbody>\n",
       "</table>\n",
       "</div>"
      ],
      "text/plain": [
       "   Price  Age_08_04     KM Fuel_Type  HP  Automatic    cc  Doors  Cylinders  \\\n",
       "0  13500         23  46986    Diesel  90          0  2000      3          4   \n",
       "1  13750         23  72937    Diesel  90          0  2000      3          4   \n",
       "2  13950         24  41711    Diesel  90          0  2000      3          4   \n",
       "3  14950         26  48000    Diesel  90          0  2000      3          4   \n",
       "4  13750         30  38500    Diesel  90          0  2000      3          4   \n",
       "\n",
       "   Gears  Weight  \n",
       "0      5    1165  \n",
       "1      5    1165  \n",
       "2      5    1165  \n",
       "3      5    1165  \n",
       "4      5    1170  "
      ]
     },
     "execution_count": 112,
     "metadata": {},
     "output_type": "execute_result"
    }
   ],
   "source": [
    "df.head()"
   ]
  },
  {
   "cell_type": "markdown",
   "id": "51a5e1b1-2cfe-4ad0-96b1-96d3f081688e",
   "metadata": {},
   "source": [
    "# EDA"
   ]
  },
  {
   "cell_type": "raw",
   "id": "a582ed27-6057-46a4-9d7a-9a1f590aaae2",
   "metadata": {},
   "source": [
    "# price"
   ]
  },
  {
   "cell_type": "code",
   "execution_count": 113,
   "id": "8efd5e44-fa49-40ae-b9e8-0e73ff9ba76d",
   "metadata": {},
   "outputs": [
    {
     "data": {
      "text/plain": [
       "count     1436.000000\n",
       "mean     10730.824513\n",
       "std       3626.964585\n",
       "min       4350.000000\n",
       "25%       8450.000000\n",
       "50%       9900.000000\n",
       "75%      11950.000000\n",
       "max      32500.000000\n",
       "Name: Price, dtype: float64"
      ]
     },
     "execution_count": 113,
     "metadata": {},
     "output_type": "execute_result"
    }
   ],
   "source": [
    "df.Price.describe()"
   ]
  },
  {
   "cell_type": "code",
   "execution_count": 114,
   "id": "07aa4bbe-4b29-43ed-a3fb-f2616b5b1382",
   "metadata": {},
   "outputs": [
    {
     "name": "stderr",
     "output_type": "stream",
     "text": [
      "C:\\Users\\Lenovo\\anaconda3\\Lib\\site-packages\\seaborn\\_oldcore.py:1119: FutureWarning: use_inf_as_na option is deprecated and will be removed in a future version. Convert inf values to NaN before operating instead.\n",
      "  with pd.option_context('mode.use_inf_as_na', True):\n"
     ]
    },
    {
     "data": {
      "text/plain": [
       "<Axes: xlabel='Price', ylabel='Count'>"
      ]
     },
     "execution_count": 114,
     "metadata": {},
     "output_type": "execute_result"
    },
    {
     "data": {
      "image/png": "[encoded data removed]",
      "text/plain": [
       "<Figure size 640x480 with 1 Axes>"
      ]
     },
     "metadata": {},
     "output_type": "display_data"
    }
   ],
   "source": [
    "sns.histplot(df[\"Price\"])"
   ]
  },
  {
   "cell_type": "code",
   "execution_count": 115,
   "id": "e38ae678-0963-44b6-a249-ed23316bbe6a",
   "metadata": {},
   "outputs": [
    {
     "data": {
      "text/plain": [
       "3"
      ]
     },
     "execution_count": 115,
     "metadata": {},
     "output_type": "execute_result"
    }
   ],
   "source": [
    "expensive_cars = df[df['Price'] >= 25000]\n",
    "len(expensive_cars)"
   ]
  },
  {
   "cell_type": "raw",
   "id": "88ac43fc-e0c2-4296-a88e-e746d857fc60",
   "metadata": {},
   "source": [
    "There is only 3 cars that cost more than 25k each and most of the cars are clustered between around 8k-12k euros."
   ]
  },
  {
   "cell_type": "raw",
   "id": "f7910bd2-e953-421a-a705-9a2e33462282",
   "metadata": {},
   "source": [
    "# age"
   ]
  },
  {
   "cell_type": "code",
   "execution_count": 116,
   "id": "6829f56f-1823-4c02-95ee-880cccd1d4bd",
   "metadata": {},
   "outputs": [],
   "source": [
    "df.rename(columns={'Age_08_04':'Age'}, inplace=True)"
   ]
  },
  {
   "cell_type": "code",
   "execution_count": 117,
   "id": "afe3ec7b-c2c3-4fcc-8849-b023bb7d6db0",
   "metadata": {},
   "outputs": [
    {
     "data": {
      "text/html": [
       "<div>\n",
       "<style scoped>\n",
       "    .dataframe tbody tr th:only-of-type {\n",
       "        vertical-align: middle;\n",
       "    }\n",
       "\n",
       "    .dataframe tbody tr th {\n",
       "        vertical-align: top;\n",
       "    }\n",
       "\n",
       "    .dataframe thead th {\n",
       "        text-align: right;\n",
       "    }\n",
       "</style>\n",
       "<table border=\"1\" class=\"dataframe\">\n",
       "  <thead>\n",
       "    <tr style=\"text-align: right;\">\n",
       "      <th></th>\n",
       "      <th>Price</th>\n",
       "      <th>Age</th>\n",
       "      <th>KM</th>\n",
       "      <th>Fuel_Type</th>\n",
       "      <th>HP</th>\n",
       "      <th>Automatic</th>\n",
       "      <th>cc</th>\n",
       "      <th>Doors</th>\n",
       "      <th>Cylinders</th>\n",
       "      <th>Gears</th>\n",
       "      <th>Weight</th>\n",
       "    </tr>\n",
       "  </thead>\n",
       "  <tbody>\n",
       "    <tr>\n",
       "      <th>0</th>\n",
       "      <td>13500</td>\n",
       "      <td>23</td>\n",
       "      <td>46986</td>\n",
       "      <td>Diesel</td>\n",
       "      <td>90</td>\n",
       "      <td>0</td>\n",
       "      <td>2000</td>\n",
       "      <td>3</td>\n",
       "      <td>4</td>\n",
       "      <td>5</td>\n",
       "      <td>1165</td>\n",
       "    </tr>\n",
       "    <tr>\n",
       "      <th>1</th>\n",
       "      <td>13750</td>\n",
       "      <td>23</td>\n",
       "      <td>72937</td>\n",
       "      <td>Diesel</td>\n",
       "      <td>90</td>\n",
       "      <td>0</td>\n",
       "      <td>2000</td>\n",
       "      <td>3</td>\n",
       "      <td>4</td>\n",
       "      <td>5</td>\n",
       "      <td>1165</td>\n",
       "    </tr>\n",
       "    <tr>\n",
       "      <th>2</th>\n",
       "      <td>13950</td>\n",
       "      <td>24</td>\n",
       "      <td>41711</td>\n",
       "      <td>Diesel</td>\n",
       "      <td>90</td>\n",
       "      <td>0</td>\n",
       "      <td>2000</td>\n",
       "      <td>3</td>\n",
       "      <td>4</td>\n",
       "      <td>5</td>\n",
       "      <td>1165</td>\n",
       "    </tr>\n",
       "    <tr>\n",
       "      <th>3</th>\n",
       "      <td>14950</td>\n",
       "      <td>26</td>\n",
       "      <td>48000</td>\n",
       "      <td>Diesel</td>\n",
       "      <td>90</td>\n",
       "      <td>0</td>\n",
       "      <td>2000</td>\n",
       "      <td>3</td>\n",
       "      <td>4</td>\n",
       "      <td>5</td>\n",
       "      <td>1165</td>\n",
       "    </tr>\n",
       "    <tr>\n",
       "      <th>4</th>\n",
       "      <td>13750</td>\n",
       "      <td>30</td>\n",
       "      <td>38500</td>\n",
       "      <td>Diesel</td>\n",
       "      <td>90</td>\n",
       "      <td>0</td>\n",
       "      <td>2000</td>\n",
       "      <td>3</td>\n",
       "      <td>4</td>\n",
       "      <td>5</td>\n",
       "      <td>1170</td>\n",
       "    </tr>\n",
       "  </tbody>\n",
       "</table>\n",
       "</div>"
      ],
      "text/plain": [
       "   Price  Age     KM Fuel_Type  HP  Automatic    cc  Doors  Cylinders  Gears  \\\n",
       "0  13500   23  46986    Diesel  90          0  2000      3          4      5   \n",
       "1  13750   23  72937    Diesel  90          0  2000      3          4      5   \n",
       "2  13950   24  41711    Diesel  90          0  2000      3          4      5   \n",
       "3  14950   26  48000    Diesel  90          0  2000      3          4      5   \n",
       "4  13750   30  38500    Diesel  90          0  2000      3          4      5   \n",
       "\n",
       "   Weight  \n",
       "0    1165  \n",
       "1    1165  \n",
       "2    1165  \n",
       "3    1165  \n",
       "4    1170  "
      ]
     },
     "execution_count": 117,
     "metadata": {},
     "output_type": "execute_result"
    }
   ],
   "source": [
    "df.head()"
   ]
  },
  {
   "cell_type": "code",
   "execution_count": 118,
   "id": "9b673b90-bacd-432e-8775-7c0da9a88741",
   "metadata": {},
   "outputs": [
    {
     "data": {
      "text/plain": [
       "count    1436.000000\n",
       "mean       55.947075\n",
       "std        18.599988\n",
       "min         1.000000\n",
       "25%        44.000000\n",
       "50%        61.000000\n",
       "75%        70.000000\n",
       "max        80.000000\n",
       "Name: Age, dtype: float64"
      ]
     },
     "execution_count": 118,
     "metadata": {},
     "output_type": "execute_result"
    }
   ],
   "source": [
    "df.Age.describe()"
   ]
  },
  {
   "cell_type": "code",
   "execution_count": 119,
   "id": "ff023e61-acb9-4678-a8ef-9a2ddf2460c6",
   "metadata": {},
   "outputs": [
    {
     "name": "stderr",
     "output_type": "stream",
     "text": [
      "C:\\Users\\Lenovo\\anaconda3\\Lib\\site-packages\\seaborn\\_oldcore.py:1119: FutureWarning: use_inf_as_na option is deprecated and will be removed in a future version. Convert inf values to NaN before operating instead.\n",
      "  with pd.option_context('mode.use_inf_as_na', True):\n"
     ]
    },
    {
     "data": {
      "text/plain": [
       "<Axes: xlabel='Years', ylabel='Count'>"
      ]
     },
     "execution_count": 119,
     "metadata": {},
     "output_type": "execute_result"
    },
    {
     "data": {
      "image/png": "[encoded data removed]",
      "text/plain": [
       "<Figure size 640x480 with 1 Axes>"
      ]
     },
     "metadata": {},
     "output_type": "display_data"
    }
   ],
   "source": [
    "x = df[\"Age\"] / 12\n",
    "plt.xlabel('Years')\n",
    "sns.histplot(x)"
   ]
  },
  {
   "cell_type": "raw",
   "id": "495a0684-55ad-4840-b4e6-b21823dab3bd",
   "metadata": {},
   "source": [
    "This dataset holds cars that are less than 7 years old and the Age distribution is left skewed"
   ]
  },
  {
   "cell_type": "raw",
   "id": "b572a565-06be-482d-99d3-f7650a1385e4",
   "metadata": {},
   "source": [
    "# KM"
   ]
  },
  {
   "cell_type": "code",
   "execution_count": 120,
   "id": "ec78aaac-7164-48b9-b1df-29a6d633a716",
   "metadata": {},
   "outputs": [
    {
     "data": {
      "text/plain": [
       "count      1436.000000\n",
       "mean      68533.259749\n",
       "std       37506.448872\n",
       "min           1.000000\n",
       "25%       43000.000000\n",
       "50%       63389.500000\n",
       "75%       87020.750000\n",
       "max      243000.000000\n",
       "Name: KM, dtype: float64"
      ]
     },
     "execution_count": 120,
     "metadata": {},
     "output_type": "execute_result"
    }
   ],
   "source": [
    "df.KM.describe()"
   ]
  },
  {
   "cell_type": "code",
   "execution_count": 121,
   "id": "30d5d5dc-bc14-46ae-a40a-dd36e3e19c46",
   "metadata": {},
   "outputs": [
    {
     "name": "stderr",
     "output_type": "stream",
     "text": [
      "C:\\Users\\Lenovo\\anaconda3\\Lib\\site-packages\\seaborn\\_oldcore.py:1119: FutureWarning: use_inf_as_na option is deprecated and will be removed in a future version. Convert inf values to NaN before operating instead.\n",
      "  with pd.option_context('mode.use_inf_as_na', True):\n"
     ]
    },
    {
     "data": {
      "text/plain": [
       "<Axes: xlabel='KM', ylabel='Count'>"
      ]
     },
     "execution_count": 121,
     "metadata": {},
     "output_type": "execute_result"
    },
    {
     "data": {
      "image/png": "[encoded data removed]",
      "text/plain": [
       "<Figure size 640x480 with 1 Axes>"
      ]
     },
     "metadata": {},
     "output_type": "display_data"
    }
   ],
   "source": [
    "sns.histplot(df[\"KM\"])"
   ]
  },
  {
   "cell_type": "raw",
   "id": "7fc9ad44-0691-4323-aa25-402081dd0ecf",
   "metadata": {},
   "source": [
    "We have a car that was driven only 1 km, and the KM distribution below is right skewed."
   ]
  },
  {
   "cell_type": "code",
   "execution_count": 122,
   "id": "bd3ca992-2fbd-4913-b9e2-b148fe27794d",
   "metadata": {},
   "outputs": [
    {
     "data": {
      "text/plain": [
       "11"
      ]
     },
     "execution_count": 122,
     "metadata": {},
     "output_type": "execute_result"
    }
   ],
   "source": [
    "less_used_cars = df[df['KM'] < 1000]\n",
    "len(less_used_cars)"
   ]
  },
  {
   "cell_type": "raw",
   "id": "7584e84b-869a-42b6-a59c-7b3a229940c6",
   "metadata": {},
   "source": [
    "We have 11 cars that are less than 1k-km driven and 33 that are less than 10k-km. For this analysis I won't do anything about the outliers, unless they are indicators of a poor data entry."
   ]
  },
  {
   "cell_type": "raw",
   "id": "a3395bdf-e3bf-44e9-a01a-3c7bb321cc0c",
   "metadata": {},
   "source": [
    "# Fuel Type"
   ]
  },
  {
   "cell_type": "code",
   "execution_count": 123,
   "id": "2d85e69b-b4d1-47b1-aa39-cfc5c0778ce1",
   "metadata": {},
   "outputs": [
    {
     "data": {
      "text/plain": [
       "count       1436\n",
       "unique         3\n",
       "top       Petrol\n",
       "freq        1264\n",
       "Name: Fuel_Type, dtype: object"
      ]
     },
     "execution_count": 123,
     "metadata": {},
     "output_type": "execute_result"
    }
   ],
   "source": [
    "df.Fuel_Type.describe()\n"
   ]
  },
  {
   "cell_type": "code",
   "execution_count": 124,
   "id": "f24e9e0c-5cc5-4ad9-92bf-820884e4dc93",
   "metadata": {},
   "outputs": [
    {
     "name": "stderr",
     "output_type": "stream",
     "text": [
      "C:\\Users\\Lenovo\\anaconda3\\Lib\\site-packages\\seaborn\\_oldcore.py:1119: FutureWarning: use_inf_as_na option is deprecated and will be removed in a future version. Convert inf values to NaN before operating instead.\n",
      "  with pd.option_context('mode.use_inf_as_na', True):\n"
     ]
    },
    {
     "data": {
      "text/plain": [
       "<Axes: xlabel='Fuel_Type', ylabel='Count'>"
      ]
     },
     "execution_count": 124,
     "metadata": {},
     "output_type": "execute_result"
    },
    {
     "data": {
      "image/png": "[encoded data removed]",
      "text/plain": [
       "<Figure size 640x480 with 1 Axes>"
      ]
     },
     "metadata": {},
     "output_type": "display_data"
    }
   ],
   "source": [
    "sns.histplot(df[\"Fuel_Type\"])"
   ]
  },
  {
   "cell_type": "raw",
   "id": "a7912997-9200-4656-8fb2-9f8015d18bfc",
   "metadata": {},
   "source": [
    "Petrol type dominates this field, it won't be helpful to consider this column for older and newer cars seperately, simply bacause the values wouldn't be fairly distributed."
   ]
  },
  {
   "cell_type": "code",
   "execution_count": 125,
   "id": "401a2abb-fa7d-449f-b461-b4b4b4fd5247",
   "metadata": {},
   "outputs": [
    {
     "data": {
      "text/plain": [
       "count    1436.000000\n",
       "mean      101.502089\n",
       "std        14.981080\n",
       "min        69.000000\n",
       "25%        90.000000\n",
       "50%       110.000000\n",
       "75%       110.000000\n",
       "max       192.000000\n",
       "Name: HP, dtype: float64"
      ]
     },
     "execution_count": 125,
     "metadata": {},
     "output_type": "execute_result"
    }
   ],
   "source": [
    "# HP\n",
    "df.HP.describe()"
   ]
  },
  {
   "cell_type": "code",
   "execution_count": 126,
   "id": "8b1dca03-3292-4a5d-a365-a967fc6a5217",
   "metadata": {},
   "outputs": [
    {
     "name": "stderr",
     "output_type": "stream",
     "text": [
      "C:\\Users\\Lenovo\\anaconda3\\Lib\\site-packages\\seaborn\\_oldcore.py:1119: FutureWarning: use_inf_as_na option is deprecated and will be removed in a future version. Convert inf values to NaN before operating instead.\n",
      "  with pd.option_context('mode.use_inf_as_na', True):\n"
     ]
    },
    {
     "data": {
      "text/plain": [
       "<Axes: xlabel='HP', ylabel='Count'>"
      ]
     },
     "execution_count": 126,
     "metadata": {},
     "output_type": "execute_result"
    },
    {
     "data": {
      "image/png": "[encoded data removed]",
      "text/plain": [
       "<Figure size 640x480 with 1 Axes>"
      ]
     },
     "metadata": {},
     "output_type": "display_data"
    }
   ],
   "source": [
    "sns.histplot(df[\"HP\"])"
   ]
  },
  {
   "cell_type": "raw",
   "id": "92d63619-3c00-4e6d-9088-b697a668c14b",
   "metadata": {},
   "source": [
    "More than half of the cars have 110 hp and mostly they are in less-than-120 range. But there are some very 'strong' engines too, let me check them as well, even though I would not touch them."
   ]
  },
  {
   "cell_type": "code",
   "execution_count": 127,
   "id": "19406691-9c1c-4233-8b4b-3d821bbde582",
   "metadata": {},
   "outputs": [
    {
     "data": {
      "text/plain": [
       "11"
      ]
     },
     "execution_count": 127,
     "metadata": {},
     "output_type": "execute_result"
    }
   ],
   "source": [
    "powered_up = df[df['HP'] > 120]\n",
    "len(powered_up)"
   ]
  },
  {
   "cell_type": "code",
   "execution_count": 128,
   "id": "62df07ed-0238-401c-b1fa-fd32b6467b84",
   "metadata": {},
   "outputs": [
    {
     "data": {
      "text/plain": [
       "HP\n",
       "110    835\n",
       "86     249\n",
       "97     164\n",
       "72      73\n",
       "90      36\n",
       "69      34\n",
       "107     21\n",
       "192     11\n",
       "116      9\n",
       "98       2\n",
       "71       1\n",
       "73       1\n",
       "Name: count, dtype: int64"
      ]
     },
     "execution_count": 128,
     "metadata": {},
     "output_type": "execute_result"
    }
   ],
   "source": [
    "df.HP.value_counts()"
   ]
  },
  {
   "cell_type": "code",
   "execution_count": 129,
   "id": "3e430d2e-0523-4d9c-ab12-77623a1cd014",
   "metadata": {},
   "outputs": [
    {
     "data": {
      "text/plain": [
       "Automatic\n",
       "0    1356\n",
       "1      80\n",
       "Name: count, dtype: int64"
      ]
     },
     "execution_count": 129,
     "metadata": {},
     "output_type": "execute_result"
    }
   ],
   "source": [
    "# Automatic\n",
    "df[\"Automatic\"].value_counts()\n"
   ]
  },
  {
   "cell_type": "raw",
   "id": "90e0a352-cf9d-48b7-8fd4-a561d33b9f69",
   "metadata": {},
   "source": [
    "Considering that this data claims to be collected in 2004, it is not surprizing that automatic gear was not that popular yet. If there would be more cars with automatic gear in this dataset, it would worth to examine, but they are so few to be considered."
   ]
  },
  {
   "cell_type": "code",
   "execution_count": 130,
   "id": "e9e23419-5e15-4a41-b62d-1b6446e6701c",
   "metadata": {},
   "outputs": [
    {
     "data": {
      "text/plain": [
       "167"
      ]
     },
     "execution_count": 130,
     "metadata": {},
     "output_type": "execute_result"
    }
   ],
   "source": [
    "# CC\n",
    "# That max amount is obviously not a valid input. But let's check how many we have such high values\n",
    "high_cc = df[df['cc'] > 1600]\n",
    "len(high_cc)"
   ]
  },
  {
   "cell_type": "code",
   "execution_count": 131,
   "id": "a83990b3-04d9-45ec-a609-a0d4277cd79b",
   "metadata": {},
   "outputs": [],
   "source": [
    "# 167 cars"
   ]
  },
  {
   "cell_type": "code",
   "execution_count": 132,
   "id": "3be24798-a80e-4e8d-9bf1-a282d5d8acd4",
   "metadata": {},
   "outputs": [
    {
     "data": {
      "text/plain": [
       "count      167.000000\n",
       "mean      2048.892216\n",
       "std       1087.889163\n",
       "min       1800.000000\n",
       "25%       1900.000000\n",
       "50%       2000.000000\n",
       "75%       2000.000000\n",
       "max      16000.000000\n",
       "Name: cc, dtype: float64"
      ]
     },
     "execution_count": 132,
     "metadata": {},
     "output_type": "execute_result"
    }
   ],
   "source": [
    "df[df['cc'] > 1600].cc.describe()"
   ]
  },
  {
   "cell_type": "raw",
   "id": "4425c4d3-17cb-4e28-a5ed-90f0dd6ba7c7",
   "metadata": {},
   "source": [
    "Looks like the highest volume is 2000, without that 16k. Let's check this one out."
   ]
  },
  {
   "cell_type": "code",
   "execution_count": 133,
   "id": "9e4dbbe6-232a-473f-9f1f-bfe9e3b7c108",
   "metadata": {},
   "outputs": [
    {
     "data": {
      "text/plain": [
       "1"
      ]
     },
     "execution_count": 133,
     "metadata": {},
     "output_type": "execute_result"
    }
   ],
   "source": [
    "high_cc = df[df['cc'] > 2000]\n",
    "len(high_cc)"
   ]
  },
  {
   "cell_type": "code",
   "execution_count": 134,
   "id": "2fa7b6d0-c59a-4979-bc67-66b561c90884",
   "metadata": {},
   "outputs": [],
   "source": [
    "df['cc'] = df['cc'].replace(16000, 1600)"
   ]
  },
  {
   "cell_type": "code",
   "execution_count": 135,
   "id": "55565812-a97e-4966-bd4e-1db0f837f8bb",
   "metadata": {},
   "outputs": [
    {
     "data": {
      "text/plain": [
       "count    1436.000000\n",
       "mean     1566.827994\n",
       "std       187.182436\n",
       "min      1300.000000\n",
       "25%      1400.000000\n",
       "50%      1600.000000\n",
       "75%      1600.000000\n",
       "max      2000.000000\n",
       "Name: cc, dtype: float64"
      ]
     },
     "execution_count": 135,
     "metadata": {},
     "output_type": "execute_result"
    }
   ],
   "source": [
    "df.cc.describe()"
   ]
  },
  {
   "cell_type": "code",
   "execution_count": 136,
   "id": "77c3d334-ade7-4e32-b7d4-5d20f288032f",
   "metadata": {},
   "outputs": [
    {
     "data": {
      "text/plain": [
       "cc\n",
       "1600    846\n",
       "1300    248\n",
       "1400    164\n",
       "2000    119\n",
       "1900     30\n",
       "1800     14\n",
       "1598      4\n",
       "1587      4\n",
       "1995      2\n",
       "1398      2\n",
       "1332      2\n",
       "1975      1\n",
       "Name: count, dtype: int64"
      ]
     },
     "execution_count": 136,
     "metadata": {},
     "output_type": "execute_result"
    }
   ],
   "source": [
    "df[\"cc\"].value_counts()"
   ]
  },
  {
   "cell_type": "raw",
   "id": "17a8448a-4560-4577-9e8a-c8353fab7129",
   "metadata": {},
   "source": [
    "When we talk about the volume of an engine, we don't need to count every single CC (at least for such analysis). That's why, those volumes (that are listed above under 1800) can easily be transformed to the nearest 100s."
   ]
  },
  {
   "cell_type": "code",
   "execution_count": 137,
   "id": "e4ea9a0c-3fae-495c-978d-0d431c4cf1d6",
   "metadata": {},
   "outputs": [
    {
     "data": {
      "text/plain": [
       "cc\n",
       "1600    854\n",
       "1300    250\n",
       "1400    166\n",
       "2000    122\n",
       "1900     30\n",
       "1800     14\n",
       "Name: count, dtype: int64"
      ]
     },
     "execution_count": 137,
     "metadata": {},
     "output_type": "execute_result"
    }
   ],
   "source": [
    "df[\"cc\"] = df[\"cc\"].round(-2)\n",
    "df[\"cc\"].value_counts()"
   ]
  },
  {
   "cell_type": "code",
   "execution_count": 138,
   "id": "d25b282f-7b2b-4e56-b23e-844918742c4a",
   "metadata": {},
   "outputs": [
    {
     "name": "stderr",
     "output_type": "stream",
     "text": [
      "C:\\Users\\Lenovo\\anaconda3\\Lib\\site-packages\\seaborn\\_oldcore.py:1119: FutureWarning: use_inf_as_na option is deprecated and will be removed in a future version. Convert inf values to NaN before operating instead.\n",
      "  with pd.option_context('mode.use_inf_as_na', True):\n"
     ]
    },
    {
     "data": {
      "text/plain": [
       "<Axes: xlabel='cc', ylabel='Count'>"
      ]
     },
     "execution_count": 138,
     "metadata": {},
     "output_type": "execute_result"
    },
    {
     "data": {
      "image/png": "[encoded data removed]",
      "text/plain": [
       "<Figure size 640x480 with 1 Axes>"
      ]
     },
     "metadata": {},
     "output_type": "display_data"
    }
   ],
   "source": [
    "sns.histplot(df[\"cc\"])"
   ]
  },
  {
   "cell_type": "code",
   "execution_count": 139,
   "id": "7df37a06-3c8d-4515-8eee-6e0da70143c5",
   "metadata": {},
   "outputs": [
    {
     "name": "stderr",
     "output_type": "stream",
     "text": [
      "C:\\Users\\Lenovo\\anaconda3\\Lib\\site-packages\\seaborn\\_oldcore.py:1119: FutureWarning: use_inf_as_na option is deprecated and will be removed in a future version. Convert inf values to NaN before operating instead.\n",
      "  with pd.option_context('mode.use_inf_as_na', True):\n"
     ]
    },
    {
     "data": {
      "text/plain": [
       "<Axes: xlabel='Doors', ylabel='Count'>"
      ]
     },
     "execution_count": 139,
     "metadata": {},
     "output_type": "execute_result"
    },
    {
     "data": {
      "image/png": "[encoded data removed]",
      "text/plain": [
       "<Figure size 640x480 with 1 Axes>"
      ]
     },
     "metadata": {},
     "output_type": "display_data"
    }
   ],
   "source": [
    "sns.histplot(df[\"Doors\"])"
   ]
  },
  {
   "cell_type": "code",
   "execution_count": 140,
   "id": "2ac6a552-d62d-48be-abc0-e067c79f5e1c",
   "metadata": {},
   "outputs": [
    {
     "data": {
      "text/plain": [
       "Doors\n",
       "5    674\n",
       "3    622\n",
       "4    138\n",
       "2      2\n",
       "Name: count, dtype: int64"
      ]
     },
     "execution_count": 140,
     "metadata": {},
     "output_type": "execute_result"
    }
   ],
   "source": [
    "df[\"Doors\"].value_counts()"
   ]
  },
  {
   "cell_type": "code",
   "execution_count": 141,
   "id": "074f1dac-b4e1-460f-84ae-20fe24960c23",
   "metadata": {},
   "outputs": [
    {
     "data": {
      "text/plain": [
       "Cylinders\n",
       "4    1436\n",
       "Name: count, dtype: int64"
      ]
     },
     "execution_count": 141,
     "metadata": {},
     "output_type": "execute_result"
    }
   ],
   "source": [
    "df[\"Cylinders\"].value_counts()"
   ]
  },
  {
   "cell_type": "code",
   "execution_count": 142,
   "id": "e29b15f1-a5c4-42bc-895f-e30a967a3cde",
   "metadata": {},
   "outputs": [
    {
     "data": {
      "text/plain": [
       "Gears\n",
       "5    1390\n",
       "6      43\n",
       "3       2\n",
       "4       1\n",
       "Name: count, dtype: int64"
      ]
     },
     "execution_count": 142,
     "metadata": {},
     "output_type": "execute_result"
    }
   ],
   "source": [
    "df[\"Gears\"].value_counts()"
   ]
  },
  {
   "cell_type": "raw",
   "id": "8ae496aa-2635-4db4-9802-79b82a4c7e36",
   "metadata": {},
   "source": [
    "Similar to not-having-an-automatic gear, the gears column is also dominated by one value. Almost all cars have 5 gear positions, so it won't help me much to consider them to compare older and newer cars."
   ]
  },
  {
   "cell_type": "code",
   "execution_count": 143,
   "id": "b492c607-de4b-4425-a80b-203c8a4e2395",
   "metadata": {},
   "outputs": [
    {
     "name": "stderr",
     "output_type": "stream",
     "text": [
      "C:\\Users\\Lenovo\\anaconda3\\Lib\\site-packages\\seaborn\\_oldcore.py:1119: FutureWarning: use_inf_as_na option is deprecated and will be removed in a future version. Convert inf values to NaN before operating instead.\n",
      "  with pd.option_context('mode.use_inf_as_na', True):\n"
     ]
    },
    {
     "data": {
      "text/plain": [
       "<Axes: xlabel='Weight', ylabel='Count'>"
      ]
     },
     "execution_count": 143,
     "metadata": {},
     "output_type": "execute_result"
    },
    {
     "data": {
      "image/png": "[encoded data removed]",
      "text/plain": [
       "<Figure size 640x480 with 1 Axes>"
      ]
     },
     "metadata": {},
     "output_type": "display_data"
    }
   ],
   "source": [
    "df.Weight.describe()\n",
    "\n",
    "# Standard deviation is not high, it means data points are close to the mean. Let's check the plot too.\n",
    "sns.histplot(df[\"Weight\"])\n"
   ]
  },
  {
   "cell_type": "raw",
   "id": "5fa24876-3833-4115-b83e-8ade4300e9c5",
   "metadata": {},
   "source": [
    "The size and the engine volume directly affects the weight of a car. The above plot also shows varied amounts of weights, so it could be wise to consider this as well."
   ]
  },
  {
   "cell_type": "code",
   "execution_count": 144,
   "id": "df472ef6-15db-4a0c-a105-4a6289495c20",
   "metadata": {},
   "outputs": [
    {
     "name": "stderr",
     "output_type": "stream",
     "text": [
      "C:\\Users\\Lenovo\\anaconda3\\Lib\\site-packages\\seaborn\\matrix.py:260: FutureWarning: Format strings passed to MaskedConstant are ignored, but in future may error or produce different behavior\n",
      "  annotation = (\"{:\" + self.fmt + \"}\").format(val)\n"
     ]
    },
    {
     "data": {
      "image/png": "[encoded data removed]",
      "text/plain": [
       "<Figure size 1600x1400 with 2 Axes>"
      ]
     },
     "metadata": {},
     "output_type": "display_data"
    }
   ],
   "source": [
    "# Correlation\n",
    "plt.figure(figsize=(16, 14))\n",
    "df_filtered = df.filter(['Age', 'KM', 'HP','Automatic', 'cc', 'Doors','Cylinders','Gears','Weight',  'Price'], axis=1)\n",
    "\n",
    "corr = df_filtered.corr()\n",
    "\n",
    "sns.heatmap(corr, annot=True, cmap='coolwarm', square=True)\n",
    "plt.title('Correlation Matrix')\n",
    "plt.show()"
   ]
  },
  {
   "cell_type": "raw",
   "id": "84ca4ae1-bbdc-4123-ae1e-e3ea7910cbd9",
   "metadata": {},
   "source": [
    "Age and KM have the strongest negative correlation between them and the price. I'll keep them for sure.\n",
    "we have HP and CC. So they can be considered for the engine. Doors and Weight on the other side can be considered for the size of the car."
   ]
  },
  {
   "cell_type": "markdown",
   "id": "a25edb44-2dda-4468-ad55-02c6cd68a179",
   "metadata": {},
   "source": [
    "# Linear Regression Model Fitting"
   ]
  },
  {
   "cell_type": "code",
   "execution_count": 195,
   "id": "04e0bab9-6232-4b93-9d96-52dd40ea74c5",
   "metadata": {},
   "outputs": [],
   "source": [
    "y= df['Price'].values\n",
    "X_init= df[['Age', 'KM', 'HP', 'Automatic', 'Doors','cc','Gears','Weight']].values"
   ]
  },
  {
   "cell_type": "code",
   "execution_count": 196,
   "id": "26c5e95d-28ed-402b-a729-d9313ec59ac1",
   "metadata": {},
   "outputs": [
    {
     "data": {
      "text/html": [
       "<style>#sk-container-id-8 {color: black;background-color: white;}#sk-container-id-8 pre{padding: 0;}#sk-container-id-8 div.sk-toggleable {background-color: white;}#sk-container-id-8 label.sk-toggleable__label {cursor: pointer;display: block;width: 100%;margin-bottom: 0;padding: 0.3em;box-sizing: border-box;text-align: center;}#sk-container-id-8 label.sk-toggleable__label-arrow:before {content: \"▸\";float: left;margin-right: 0.25em;color: #696969;}#sk-container-id-8 label.sk-toggleable__label-arrow:hover:before {color: black;}#sk-container-id-8 div.sk-estimator:hover label.sk-toggleable__label-arrow:before {color: black;}#sk-container-id-8 div.sk-toggleable__content {max-height: 0;max-width: 0;overflow: hidden;text-align: left;background-color: #f0f8ff;}#sk-container-id-8 div.sk-toggleable__content pre {margin: 0.2em;color: black;border-radius: 0.25em;background-color: #f0f8ff;}#sk-container-id-8 input.sk-toggleable__control:checked~div.sk-toggleable__content {max-height: 200px;max-width: 100%;overflow: auto;}#sk-container-id-8 input.sk-toggleable__control:checked~label.sk-toggleable__label-arrow:before {content: \"▾\";}#sk-container-id-8 div.sk-estimator input.sk-toggleable__control:checked~label.sk-toggleable__label {background-color: #d4ebff;}#sk-container-id-8 div.sk-label input.sk-toggleable__control:checked~label.sk-toggleable__label {background-color: #d4ebff;}#sk-container-id-8 input.sk-hidden--visually {border: 0;clip: rect(1px 1px 1px 1px);clip: rect(1px, 1px, 1px, 1px);height: 1px;margin: -1px;overflow: hidden;padding: 0;position: absolute;width: 1px;}#sk-container-id-8 div.sk-estimator {font-family: monospace;background-color: #f0f8ff;border: 1px dotted black;border-radius: 0.25em;box-sizing: border-box;margin-bottom: 0.5em;}#sk-container-id-8 div.sk-estimator:hover {background-color: #d4ebff;}#sk-container-id-8 div.sk-parallel-item::after {content: \"\";width: 100%;border-bottom: 1px solid gray;flex-grow: 1;}#sk-container-id-8 div.sk-label:hover label.sk-toggleable__label {background-color: #d4ebff;}#sk-container-id-8 div.sk-serial::before {content: \"\";position: absolute;border-left: 1px solid gray;box-sizing: border-box;top: 0;bottom: 0;left: 50%;z-index: 0;}#sk-container-id-8 div.sk-serial {display: flex;flex-direction: column;align-items: center;background-color: white;padding-right: 0.2em;padding-left: 0.2em;position: relative;}#sk-container-id-8 div.sk-item {position: relative;z-index: 1;}#sk-container-id-8 div.sk-parallel {display: flex;align-items: stretch;justify-content: center;background-color: white;position: relative;}#sk-container-id-8 div.sk-item::before, #sk-container-id-8 div.sk-parallel-item::before {content: \"\";position: absolute;border-left: 1px solid gray;box-sizing: border-box;top: 0;bottom: 0;left: 50%;z-index: -1;}#sk-container-id-8 div.sk-parallel-item {display: flex;flex-direction: column;z-index: 1;position: relative;background-color: white;}#sk-container-id-8 div.sk-parallel-item:first-child::after {align-self: flex-end;width: 50%;}#sk-container-id-8 div.sk-parallel-item:last-child::after {align-self: flex-start;width: 50%;}#sk-container-id-8 div.sk-parallel-item:only-child::after {width: 0;}#sk-container-id-8 div.sk-dashed-wrapped {border: 1px dashed gray;margin: 0 0.4em 0.5em 0.4em;box-sizing: border-box;padding-bottom: 0.4em;background-color: white;}#sk-container-id-8 div.sk-label label {font-family: monospace;font-weight: bold;display: inline-block;line-height: 1.2em;}#sk-container-id-8 div.sk-label-container {text-align: center;}#sk-container-id-8 div.sk-container {/* jupyter's `normalize.less` sets `[hidden] { display: none; }` but bootstrap.min.css set `[hidden] { display: none !important; }` so we also need the `!important` here to be able to override the default hidden behavior on the sphinx rendered scikit-learn.org. See: https://github.com/scikit-learn/scikit-learn/issues/21755 */display: inline-block !important;position: relative;}#sk-container-id-8 div.sk-text-repr-fallback {display: none;}</style><div id=\"sk-container-id-8\" class=\"sk-top-container\"><div class=\"sk-text-repr-fallback\"><pre>LinearRegression()</pre><b>In a Jupyter environment, please rerun this cell to show the HTML representation or trust the notebook. <br />On GitHub, the HTML representation is unable to render, please try loading this page with nbviewer.org.</b></div><div class=\"sk-container\" hidden><div class=\"sk-item\"><div class=\"sk-estimator sk-toggleable\"><input class=\"sk-toggleable__control sk-hidden--visually\" id=\"sk-estimator-id-8\" type=\"checkbox\" checked><label for=\"sk-estimator-id-8\" class=\"sk-toggleable__label sk-toggleable__label-arrow\">LinearRegression</label><div class=\"sk-toggleable__content\"><pre>LinearRegression()</pre></div></div></div></div></div>"
      ],
      "text/plain": [
       "LinearRegression()"
      ]
     },
     "execution_count": 196,
     "metadata": {},
     "output_type": "execute_result"
    }
   ],
   "source": [
    "regr_init = linear_model.LinearRegression() \n",
    "regr_init.fit(X_init, y)"
   ]
  },
  {
   "cell_type": "code",
   "execution_count": 197,
   "id": "5dc18644-28c2-4f1e-a8ad-ea403273d7a0",
   "metadata": {},
   "outputs": [
    {
     "name": "stdout",
     "output_type": "stream",
     "text": [
      "coefficients:  [-122.51 -0.02 30.74 249.64 -29.78 -1.59 630.02 22.31]\n",
      "Intercept:  -8862.58\n"
     ]
    }
   ],
   "source": [
    "# Getting the coefficiencies with a formatter to better read.\n",
    "np.set_printoptions(formatter={'float_kind':'{:.2f}'.format})\n",
    "\n",
    "# Rounding to two decimal points.\n",
    "print(\"coefficients: \", np.around(regr_init.coef_,2))\n",
    "print(\"Intercept: \", np.around(regr_init.intercept_,2))\n"
   ]
  },
  {
   "cell_type": "code",
   "execution_count": 198,
   "id": "fb22aa97-3c85-4c2f-af7b-bf4eb2bb59f6",
   "metadata": {},
   "outputs": [
    {
     "name": "stdout",
     "output_type": "stream",
     "text": [
      "Original Linear Regression Coefficients: [-122.51 -0.02 30.74 249.64 -29.78 -1.59 630.02 22.31]\n",
      "Lasso Regression Coefficients: [-122.50 -0.02 30.75 247.39 -29.82 -1.59 626.76 22.31]\n",
      "Ridge Regression Coefficients: [-122.51 -0.02 30.75 249.17 -29.84 -1.59 628.61 22.31]\n"
     ]
    }
   ],
   "source": [
    "# Assuming 'y' should have the same number of samples as the features in 'X_init'\n",
    "# y = df['Price'].values \n",
    "# X_init = df[['Age', 'KM', 'HP', 'Automatic', 'Doors','cc','Gears','Weight']].values\n",
    "\n",
    "# # Verify shapes\n",
    "# print(X_init.shape)\n",
    "# print(y.shape)\n",
    "\n",
    "# # Proceed with regression models if shapes are consistent\n",
    "# regr_init = linear_model.LinearRegression() \n",
    "# regr_init.fit(X_init, y)\n",
    "from sklearn.linear_model import Lasso, Ridge\n",
    "\n",
    "# Lasso Regression\n",
    "lasso = Lasso(alpha=0.1)  # Adjust alpha (regularization strength) as needed\n",
    "lasso.fit(X_init, y)\n",
    "\n",
    "# Ridge Regression\n",
    "ridge = Ridge(alpha=0.1)  # Adjust alpha (regularization strength) as needed\n",
    "ridge.fit(X_init, y)\n",
    "\n",
    "# Print coefficients for comparison\n",
    "print(\"Original Linear Regression Coefficients:\", regr_init.coef_)\n",
    "print(\"Lasso Regression Coefficients:\", lasso.coef_)\n",
    "print(\"Ridge Regression Coefficients:\", ridge.coef_)"
   ]
  },
  {
   "cell_type": "code",
   "execution_count": 201,
   "id": "357b0289-fc0d-4155-aa5c-df14ab925497",
   "metadata": {},
   "outputs": [
    {
     "name": "stdout",
     "output_type": "stream",
     "text": [
      "[-146.93 -0.02 31.95 770.82 2.21]\n",
      "Intercept:  13358.26\n",
      "\n",
      "\n",
      "Original Linear Regression Coefficients: [-122.51 -0.02 30.74 249.64 -29.78 -1.59 630.02 22.31]\n",
      "Lasso Regression Coefficients: [-146.93 -0.02 31.95 768.89 2.21]\n",
      "Ridge Regression Coefficients: [-146.93 -0.02 31.95 769.79 2.21]\n"
     ]
    }
   ],
   "source": [
    "# Linear Model for few variables\n",
    "y= df['Price'].values\n",
    "X_study= df[['Age', 'KM', 'HP', 'Automatic','cc']].values\n",
    "\n",
    "regr_study = linear_model.LinearRegression() \n",
    "regr_study.fit(X_study, y)\n",
    "               \n",
    "print(np.around(regr_study.coef_,2))\n",
    "print(\"Intercept: \", np.around(regr_study.intercept_,2))\n",
    "print(\"\\n\")\n",
    "from sklearn.linear_model import Lasso, Ridge\n",
    "\n",
    "# Lasso Regression\n",
    "lasso = Lasso(alpha=0.1)  # Adjust alpha (regularization strength) as needed\n",
    "lasso.fit(X_study, y)\n",
    "\n",
    "# Ridge Regression\n",
    "ridge = Ridge(alpha=0.1)  # Adjust alpha (regularization strength) as needed\n",
    "ridge.fit(X_study, y)\n",
    "\n",
    "# Print coefficients for comparison\n",
    "print(\"Original Linear Regression Coefficients:\", regr_init.coef_)\n",
    "print(\"Lasso Regression Coefficients:\", lasso.coef_)\n",
    "print(\"Ridge Regression Coefficients:\", ridge.coef_)\n"
   ]
  },
  {
   "cell_type": "code",
   "execution_count": 155,
   "id": "088430ac-96cb-43b5-80d3-fa812a756bd4",
   "metadata": {},
   "outputs": [],
   "source": [
    "# Linear Model for Older and Newer Cars"
   ]
  },
  {
   "cell_type": "code",
   "execution_count": 203,
   "id": "df511d42-a35a-4fc0-a565-2552cfdc795c",
   "metadata": {},
   "outputs": [],
   "source": [
    "older_cars = df[(df.Age >= 60)]\n",
    "newer_cars = df[(df.Age < 60)]"
   ]
  },
  {
   "cell_type": "code",
   "execution_count": 204,
   "id": "9e75fc81-2eb1-4e92-9bd6-c764a4fba4c1",
   "metadata": {},
   "outputs": [],
   "source": [
    "y= older_cars['Price'].values\n",
    "X_older= older_cars[['Age', 'KM', 'HP', 'Automatic','cc','Weight']].values"
   ]
  },
  {
   "cell_type": "code",
   "execution_count": 181,
   "id": "ddae4521-f723-43ac-b6b9-f7318174af69",
   "metadata": {},
   "outputs": [
    {
     "data": {
      "text/html": [
       "<style>#sk-container-id-5 {color: black;background-color: white;}#sk-container-id-5 pre{padding: 0;}#sk-container-id-5 div.sk-toggleable {background-color: white;}#sk-container-id-5 label.sk-toggleable__label {cursor: pointer;display: block;width: 100%;margin-bottom: 0;padding: 0.3em;box-sizing: border-box;text-align: center;}#sk-container-id-5 label.sk-toggleable__label-arrow:before {content: \"▸\";float: left;margin-right: 0.25em;color: #696969;}#sk-container-id-5 label.sk-toggleable__label-arrow:hover:before {color: black;}#sk-container-id-5 div.sk-estimator:hover label.sk-toggleable__label-arrow:before {color: black;}#sk-container-id-5 div.sk-toggleable__content {max-height: 0;max-width: 0;overflow: hidden;text-align: left;background-color: #f0f8ff;}#sk-container-id-5 div.sk-toggleable__content pre {margin: 0.2em;color: black;border-radius: 0.25em;background-color: #f0f8ff;}#sk-container-id-5 input.sk-toggleable__control:checked~div.sk-toggleable__content {max-height: 200px;max-width: 100%;overflow: auto;}#sk-container-id-5 input.sk-toggleable__control:checked~label.sk-toggleable__label-arrow:before {content: \"▾\";}#sk-container-id-5 div.sk-estimator input.sk-toggleable__control:checked~label.sk-toggleable__label {background-color: #d4ebff;}#sk-container-id-5 div.sk-label input.sk-toggleable__control:checked~label.sk-toggleable__label {background-color: #d4ebff;}#sk-container-id-5 input.sk-hidden--visually {border: 0;clip: rect(1px 1px 1px 1px);clip: rect(1px, 1px, 1px, 1px);height: 1px;margin: -1px;overflow: hidden;padding: 0;position: absolute;width: 1px;}#sk-container-id-5 div.sk-estimator {font-family: monospace;background-color: #f0f8ff;border: 1px dotted black;border-radius: 0.25em;box-sizing: border-box;margin-bottom: 0.5em;}#sk-container-id-5 div.sk-estimator:hover {background-color: #d4ebff;}#sk-container-id-5 div.sk-parallel-item::after {content: \"\";width: 100%;border-bottom: 1px solid gray;flex-grow: 1;}#sk-container-id-5 div.sk-label:hover label.sk-toggleable__label {background-color: #d4ebff;}#sk-container-id-5 div.sk-serial::before {content: \"\";position: absolute;border-left: 1px solid gray;box-sizing: border-box;top: 0;bottom: 0;left: 50%;z-index: 0;}#sk-container-id-5 div.sk-serial {display: flex;flex-direction: column;align-items: center;background-color: white;padding-right: 0.2em;padding-left: 0.2em;position: relative;}#sk-container-id-5 div.sk-item {position: relative;z-index: 1;}#sk-container-id-5 div.sk-parallel {display: flex;align-items: stretch;justify-content: center;background-color: white;position: relative;}#sk-container-id-5 div.sk-item::before, #sk-container-id-5 div.sk-parallel-item::before {content: \"\";position: absolute;border-left: 1px solid gray;box-sizing: border-box;top: 0;bottom: 0;left: 50%;z-index: -1;}#sk-container-id-5 div.sk-parallel-item {display: flex;flex-direction: column;z-index: 1;position: relative;background-color: white;}#sk-container-id-5 div.sk-parallel-item:first-child::after {align-self: flex-end;width: 50%;}#sk-container-id-5 div.sk-parallel-item:last-child::after {align-self: flex-start;width: 50%;}#sk-container-id-5 div.sk-parallel-item:only-child::after {width: 0;}#sk-container-id-5 div.sk-dashed-wrapped {border: 1px dashed gray;margin: 0 0.4em 0.5em 0.4em;box-sizing: border-box;padding-bottom: 0.4em;background-color: white;}#sk-container-id-5 div.sk-label label {font-family: monospace;font-weight: bold;display: inline-block;line-height: 1.2em;}#sk-container-id-5 div.sk-label-container {text-align: center;}#sk-container-id-5 div.sk-container {/* jupyter's `normalize.less` sets `[hidden] { display: none; }` but bootstrap.min.css set `[hidden] { display: none !important; }` so we also need the `!important` here to be able to override the default hidden behavior on the sphinx rendered scikit-learn.org. See: https://github.com/scikit-learn/scikit-learn/issues/21755 */display: inline-block !important;position: relative;}#sk-container-id-5 div.sk-text-repr-fallback {display: none;}</style><div id=\"sk-container-id-5\" class=\"sk-top-container\"><div class=\"sk-text-repr-fallback\"><pre>LinearRegression()</pre><b>In a Jupyter environment, please rerun this cell to show the HTML representation or trust the notebook. <br />On GitHub, the HTML representation is unable to render, please try loading this page with nbviewer.org.</b></div><div class=\"sk-container\" hidden><div class=\"sk-item\"><div class=\"sk-estimator sk-toggleable\"><input class=\"sk-toggleable__control sk-hidden--visually\" id=\"sk-estimator-id-5\" type=\"checkbox\" checked><label for=\"sk-estimator-id-5\" class=\"sk-toggleable__label sk-toggleable__label-arrow\">LinearRegression</label><div class=\"sk-toggleable__content\"><pre>LinearRegression()</pre></div></div></div></div></div>"
      ],
      "text/plain": [
       "LinearRegression()"
      ]
     },
     "execution_count": 181,
     "metadata": {},
     "output_type": "execute_result"
    }
   ],
   "source": [
    "regr_older = linear_model.LinearRegression() \n",
    "regr_older.fit(X_older, y)"
   ]
  },
  {
   "cell_type": "code",
   "execution_count": 202,
   "id": "8587436d-03ea-48ac-afa1-a59cbdc1c948",
   "metadata": {},
   "outputs": [
    {
     "name": "stdout",
     "output_type": "stream",
     "text": [
      "[-89.39 -0.01 9.49 422.16 0.27 6.06]\n",
      "Intercept:  8147.47\n",
      "\n",
      "\n"
     ]
    },
    {
     "ename": "ValueError",
     "evalue": "Found input variables with inconsistent numbers of samples: [754, 1436]",
     "output_type": "error",
     "traceback": [
      "\u001b[1;31m---------------------------------------------------------------------------\u001b[0m",
      "\u001b[1;31mValueError\u001b[0m                                Traceback (most recent call last)",
      "Cell \u001b[1;32mIn[202], line 8\u001b[0m\n\u001b[0;32m      6\u001b[0m \u001b[38;5;66;03m# Lasso Regression\u001b[39;00m\n\u001b[0;32m      7\u001b[0m lasso \u001b[38;5;241m=\u001b[39m Lasso(alpha\u001b[38;5;241m=\u001b[39m\u001b[38;5;241m0.1\u001b[39m)  \u001b[38;5;66;03m# Adjust alpha (regularization strength) as needed\u001b[39;00m\n\u001b[1;32m----> 8\u001b[0m lasso\u001b[38;5;241m.\u001b[39mfit(X_older, y)\n\u001b[0;32m     10\u001b[0m \u001b[38;5;66;03m# Ridge Regression\u001b[39;00m\n\u001b[0;32m     11\u001b[0m ridge \u001b[38;5;241m=\u001b[39m Ridge(alpha\u001b[38;5;241m=\u001b[39m\u001b[38;5;241m0.1\u001b[39m)  \u001b[38;5;66;03m# Adjust alpha (regularization strength) as needed\u001b[39;00m\n",
      "File \u001b[1;32m~\\anaconda3\\Lib\\site-packages\\sklearn\\linear_model\\_coordinate_descent.py:908\u001b[0m, in \u001b[0;36mElasticNet.fit\u001b[1;34m(self, X, y, sample_weight, check_input)\u001b[0m\n\u001b[0;32m    906\u001b[0m \u001b[38;5;28;01mif\u001b[39;00m check_input:\n\u001b[0;32m    907\u001b[0m     X_copied \u001b[38;5;241m=\u001b[39m \u001b[38;5;28mself\u001b[39m\u001b[38;5;241m.\u001b[39mcopy_X \u001b[38;5;129;01mand\u001b[39;00m \u001b[38;5;28mself\u001b[39m\u001b[38;5;241m.\u001b[39mfit_intercept\n\u001b[1;32m--> 908\u001b[0m     X, y \u001b[38;5;241m=\u001b[39m \u001b[38;5;28mself\u001b[39m\u001b[38;5;241m.\u001b[39m_validate_data(\n\u001b[0;32m    909\u001b[0m         X,\n\u001b[0;32m    910\u001b[0m         y,\n\u001b[0;32m    911\u001b[0m         accept_sparse\u001b[38;5;241m=\u001b[39m\u001b[38;5;124m\"\u001b[39m\u001b[38;5;124mcsc\u001b[39m\u001b[38;5;124m\"\u001b[39m,\n\u001b[0;32m    912\u001b[0m         order\u001b[38;5;241m=\u001b[39m\u001b[38;5;124m\"\u001b[39m\u001b[38;5;124mF\u001b[39m\u001b[38;5;124m\"\u001b[39m,\n\u001b[0;32m    913\u001b[0m         dtype\u001b[38;5;241m=\u001b[39m[np\u001b[38;5;241m.\u001b[39mfloat64, np\u001b[38;5;241m.\u001b[39mfloat32],\n\u001b[0;32m    914\u001b[0m         copy\u001b[38;5;241m=\u001b[39mX_copied,\n\u001b[0;32m    915\u001b[0m         multi_output\u001b[38;5;241m=\u001b[39m\u001b[38;5;28;01mTrue\u001b[39;00m,\n\u001b[0;32m    916\u001b[0m         y_numeric\u001b[38;5;241m=\u001b[39m\u001b[38;5;28;01mTrue\u001b[39;00m,\n\u001b[0;32m    917\u001b[0m     )\n\u001b[0;32m    918\u001b[0m     y \u001b[38;5;241m=\u001b[39m check_array(\n\u001b[0;32m    919\u001b[0m         y, order\u001b[38;5;241m=\u001b[39m\u001b[38;5;124m\"\u001b[39m\u001b[38;5;124mF\u001b[39m\u001b[38;5;124m\"\u001b[39m, copy\u001b[38;5;241m=\u001b[39m\u001b[38;5;28;01mFalse\u001b[39;00m, dtype\u001b[38;5;241m=\u001b[39mX\u001b[38;5;241m.\u001b[39mdtype\u001b[38;5;241m.\u001b[39mtype, ensure_2d\u001b[38;5;241m=\u001b[39m\u001b[38;5;28;01mFalse\u001b[39;00m\n\u001b[0;32m    920\u001b[0m     )\n\u001b[0;32m    922\u001b[0m n_samples, n_features \u001b[38;5;241m=\u001b[39m X\u001b[38;5;241m.\u001b[39mshape\n",
      "File \u001b[1;32m~\\anaconda3\\Lib\\site-packages\\sklearn\\base.py:584\u001b[0m, in \u001b[0;36mBaseEstimator._validate_data\u001b[1;34m(self, X, y, reset, validate_separately, **check_params)\u001b[0m\n\u001b[0;32m    582\u001b[0m         y \u001b[38;5;241m=\u001b[39m check_array(y, input_name\u001b[38;5;241m=\u001b[39m\u001b[38;5;124m\"\u001b[39m\u001b[38;5;124my\u001b[39m\u001b[38;5;124m\"\u001b[39m, \u001b[38;5;241m*\u001b[39m\u001b[38;5;241m*\u001b[39mcheck_y_params)\n\u001b[0;32m    583\u001b[0m     \u001b[38;5;28;01melse\u001b[39;00m:\n\u001b[1;32m--> 584\u001b[0m         X, y \u001b[38;5;241m=\u001b[39m check_X_y(X, y, \u001b[38;5;241m*\u001b[39m\u001b[38;5;241m*\u001b[39mcheck_params)\n\u001b[0;32m    585\u001b[0m     out \u001b[38;5;241m=\u001b[39m X, y\n\u001b[0;32m    587\u001b[0m \u001b[38;5;28;01mif\u001b[39;00m \u001b[38;5;129;01mnot\u001b[39;00m no_val_X \u001b[38;5;129;01mand\u001b[39;00m check_params\u001b[38;5;241m.\u001b[39mget(\u001b[38;5;124m\"\u001b[39m\u001b[38;5;124mensure_2d\u001b[39m\u001b[38;5;124m\"\u001b[39m, \u001b[38;5;28;01mTrue\u001b[39;00m):\n",
      "File \u001b[1;32m~\\anaconda3\\Lib\\site-packages\\sklearn\\utils\\validation.py:1124\u001b[0m, in \u001b[0;36mcheck_X_y\u001b[1;34m(X, y, accept_sparse, accept_large_sparse, dtype, order, copy, force_all_finite, ensure_2d, allow_nd, multi_output, ensure_min_samples, ensure_min_features, y_numeric, estimator)\u001b[0m\n\u001b[0;32m   1106\u001b[0m X \u001b[38;5;241m=\u001b[39m check_array(\n\u001b[0;32m   1107\u001b[0m     X,\n\u001b[0;32m   1108\u001b[0m     accept_sparse\u001b[38;5;241m=\u001b[39maccept_sparse,\n\u001b[1;32m   (...)\u001b[0m\n\u001b[0;32m   1119\u001b[0m     input_name\u001b[38;5;241m=\u001b[39m\u001b[38;5;124m\"\u001b[39m\u001b[38;5;124mX\u001b[39m\u001b[38;5;124m\"\u001b[39m,\n\u001b[0;32m   1120\u001b[0m )\n\u001b[0;32m   1122\u001b[0m y \u001b[38;5;241m=\u001b[39m _check_y(y, multi_output\u001b[38;5;241m=\u001b[39mmulti_output, y_numeric\u001b[38;5;241m=\u001b[39my_numeric, estimator\u001b[38;5;241m=\u001b[39mestimator)\n\u001b[1;32m-> 1124\u001b[0m check_consistent_length(X, y)\n\u001b[0;32m   1126\u001b[0m \u001b[38;5;28;01mreturn\u001b[39;00m X, y\n",
      "File \u001b[1;32m~\\anaconda3\\Lib\\site-packages\\sklearn\\utils\\validation.py:397\u001b[0m, in \u001b[0;36mcheck_consistent_length\u001b[1;34m(*arrays)\u001b[0m\n\u001b[0;32m    395\u001b[0m uniques \u001b[38;5;241m=\u001b[39m np\u001b[38;5;241m.\u001b[39munique(lengths)\n\u001b[0;32m    396\u001b[0m \u001b[38;5;28;01mif\u001b[39;00m \u001b[38;5;28mlen\u001b[39m(uniques) \u001b[38;5;241m>\u001b[39m \u001b[38;5;241m1\u001b[39m:\n\u001b[1;32m--> 397\u001b[0m     \u001b[38;5;28;01mraise\u001b[39;00m \u001b[38;5;167;01mValueError\u001b[39;00m(\n\u001b[0;32m    398\u001b[0m         \u001b[38;5;124m\"\u001b[39m\u001b[38;5;124mFound input variables with inconsistent numbers of samples: \u001b[39m\u001b[38;5;132;01m%r\u001b[39;00m\u001b[38;5;124m\"\u001b[39m\n\u001b[0;32m    399\u001b[0m         \u001b[38;5;241m%\u001b[39m [\u001b[38;5;28mint\u001b[39m(l) \u001b[38;5;28;01mfor\u001b[39;00m l \u001b[38;5;129;01min\u001b[39;00m lengths]\n\u001b[0;32m    400\u001b[0m     )\n",
      "\u001b[1;31mValueError\u001b[0m: Found input variables with inconsistent numbers of samples: [754, 1436]"
     ]
    }
   ],
   "source": [
    "print(np.around(regr_older.coef_,2))\n",
    "print(\"Intercept: \", np.around(regr_older.intercept_,2))\n",
    "print(\"\\n\")\n",
    "from sklearn.linear_model import Lasso, Ridge\n",
    "\n",
    "# Lasso Regression\n",
    "lasso = Lasso(alpha=0.1)  # Adjust alpha (regularization strength) as needed\n",
    "lasso.fit(X_older, y)\n",
    "\n",
    "# Ridge Regression\n",
    "ridge = Ridge(alpha=0.1)  # Adjust alpha (regularization strength) as needed\n",
    "ridge.fit(X_older, y)\n",
    "\n",
    "# Print coefficients for comparison\n",
    "print(\"Original Linear Regression Coefficients:\", regr_init.coef_)\n",
    "print(\"Lasso Regression Coefficients:\", lasso.coef_)\n",
    "print(\"Ridge Regression Coefficients:\", ridge.coef_)\n",
    "\n"
   ]
  },
  {
   "cell_type": "code",
   "execution_count": 183,
   "id": "bec17ece-f22f-4d96-8a43-9837ab521914",
   "metadata": {},
   "outputs": [],
   "source": [
    "y= newer_cars['Price'].values\n",
    "X_newer= newer_cars[['Age', 'KM', 'HP', 'Automatic','cc','Weight']].values"
   ]
  },
  {
   "cell_type": "code",
   "execution_count": 184,
   "id": "4b9da2cd-1d32-4637-91c2-2b78f4134d9a",
   "metadata": {},
   "outputs": [
    {
     "data": {
      "text/html": [
       "<style>#sk-container-id-6 {color: black;background-color: white;}#sk-container-id-6 pre{padding: 0;}#sk-container-id-6 div.sk-toggleable {background-color: white;}#sk-container-id-6 label.sk-toggleable__label {cursor: pointer;display: block;width: 100%;margin-bottom: 0;padding: 0.3em;box-sizing: border-box;text-align: center;}#sk-container-id-6 label.sk-toggleable__label-arrow:before {content: \"▸\";float: left;margin-right: 0.25em;color: #696969;}#sk-container-id-6 label.sk-toggleable__label-arrow:hover:before {color: black;}#sk-container-id-6 div.sk-estimator:hover label.sk-toggleable__label-arrow:before {color: black;}#sk-container-id-6 div.sk-toggleable__content {max-height: 0;max-width: 0;overflow: hidden;text-align: left;background-color: #f0f8ff;}#sk-container-id-6 div.sk-toggleable__content pre {margin: 0.2em;color: black;border-radius: 0.25em;background-color: #f0f8ff;}#sk-container-id-6 input.sk-toggleable__control:checked~div.sk-toggleable__content {max-height: 200px;max-width: 100%;overflow: auto;}#sk-container-id-6 input.sk-toggleable__control:checked~label.sk-toggleable__label-arrow:before {content: \"▾\";}#sk-container-id-6 div.sk-estimator input.sk-toggleable__control:checked~label.sk-toggleable__label {background-color: #d4ebff;}#sk-container-id-6 div.sk-label input.sk-toggleable__control:checked~label.sk-toggleable__label {background-color: #d4ebff;}#sk-container-id-6 input.sk-hidden--visually {border: 0;clip: rect(1px 1px 1px 1px);clip: rect(1px, 1px, 1px, 1px);height: 1px;margin: -1px;overflow: hidden;padding: 0;position: absolute;width: 1px;}#sk-container-id-6 div.sk-estimator {font-family: monospace;background-color: #f0f8ff;border: 1px dotted black;border-radius: 0.25em;box-sizing: border-box;margin-bottom: 0.5em;}#sk-container-id-6 div.sk-estimator:hover {background-color: #d4ebff;}#sk-container-id-6 div.sk-parallel-item::after {content: \"\";width: 100%;border-bottom: 1px solid gray;flex-grow: 1;}#sk-container-id-6 div.sk-label:hover label.sk-toggleable__label {background-color: #d4ebff;}#sk-container-id-6 div.sk-serial::before {content: \"\";position: absolute;border-left: 1px solid gray;box-sizing: border-box;top: 0;bottom: 0;left: 50%;z-index: 0;}#sk-container-id-6 div.sk-serial {display: flex;flex-direction: column;align-items: center;background-color: white;padding-right: 0.2em;padding-left: 0.2em;position: relative;}#sk-container-id-6 div.sk-item {position: relative;z-index: 1;}#sk-container-id-6 div.sk-parallel {display: flex;align-items: stretch;justify-content: center;background-color: white;position: relative;}#sk-container-id-6 div.sk-item::before, #sk-container-id-6 div.sk-parallel-item::before {content: \"\";position: absolute;border-left: 1px solid gray;box-sizing: border-box;top: 0;bottom: 0;left: 50%;z-index: -1;}#sk-container-id-6 div.sk-parallel-item {display: flex;flex-direction: column;z-index: 1;position: relative;background-color: white;}#sk-container-id-6 div.sk-parallel-item:first-child::after {align-self: flex-end;width: 50%;}#sk-container-id-6 div.sk-parallel-item:last-child::after {align-self: flex-start;width: 50%;}#sk-container-id-6 div.sk-parallel-item:only-child::after {width: 0;}#sk-container-id-6 div.sk-dashed-wrapped {border: 1px dashed gray;margin: 0 0.4em 0.5em 0.4em;box-sizing: border-box;padding-bottom: 0.4em;background-color: white;}#sk-container-id-6 div.sk-label label {font-family: monospace;font-weight: bold;display: inline-block;line-height: 1.2em;}#sk-container-id-6 div.sk-label-container {text-align: center;}#sk-container-id-6 div.sk-container {/* jupyter's `normalize.less` sets `[hidden] { display: none; }` but bootstrap.min.css set `[hidden] { display: none !important; }` so we also need the `!important` here to be able to override the default hidden behavior on the sphinx rendered scikit-learn.org. See: https://github.com/scikit-learn/scikit-learn/issues/21755 */display: inline-block !important;position: relative;}#sk-container-id-6 div.sk-text-repr-fallback {display: none;}</style><div id=\"sk-container-id-6\" class=\"sk-top-container\"><div class=\"sk-text-repr-fallback\"><pre>LinearRegression()</pre><b>In a Jupyter environment, please rerun this cell to show the HTML representation or trust the notebook. <br />On GitHub, the HTML representation is unable to render, please try loading this page with nbviewer.org.</b></div><div class=\"sk-container\" hidden><div class=\"sk-item\"><div class=\"sk-estimator sk-toggleable\"><input class=\"sk-toggleable__control sk-hidden--visually\" id=\"sk-estimator-id-6\" type=\"checkbox\" checked><label for=\"sk-estimator-id-6\" class=\"sk-toggleable__label sk-toggleable__label-arrow\">LinearRegression</label><div class=\"sk-toggleable__content\"><pre>LinearRegression()</pre></div></div></div></div></div>"
      ],
      "text/plain": [
       "LinearRegression()"
      ]
     },
     "execution_count": 184,
     "metadata": {},
     "output_type": "execute_result"
    }
   ],
   "source": [
    "regr_newer = linear_model.LinearRegression() \n",
    "regr_newer.fit(X_newer, y)"
   ]
  },
  {
   "cell_type": "code",
   "execution_count": 185,
   "id": "891674b9-5375-4c66-84d6-361e0027d69d",
   "metadata": {},
   "outputs": [
    {
     "name": "stdout",
     "output_type": "stream",
     "text": [
      "[-147.69 -0.02 45.76 133.11 -0.60 21.29]\n"
     ]
    }
   ],
   "source": [
    "print(np.around(regr_newer.coef_,2))\n",
    "print(\"Intercept: \", np.around(regr_newer.intercept_,2))"
   ]
  },
  {
   "cell_type": "code",
   "execution_count": 163,
   "id": "7ef36218-3173-4396-86ac-cf5bdf4b2f91",
   "metadata": {},
   "outputs": [],
   "source": [
    "# Before I put all these digits into a table, I'll get the average price for all mentioned age groups too. Because comparing the results alone wouldn't reflect their proportions within the groups."
   ]
  },
  {
   "cell_type": "code",
   "execution_count": 186,
   "id": "373b9bfa-6a66-4db0-adf4-5c6016163895",
   "metadata": {},
   "outputs": [
    {
     "name": "stdout",
     "output_type": "stream",
     "text": [
      "Average price for all cars: 10730.82 €\n",
      "Average price for older cars: 8586.91 €\n",
      "Average price for newer cars: 13101.07 €\n"
     ]
    }
   ],
   "source": [
    "avg_all = df['Price'].mean()\n",
    "avg_older = older_cars['Price'].mean()\n",
    "avg_newer = newer_cars['Price'].mean()\n",
    "\n",
    "print(f\"Average price for all cars: {avg_all:.2f} €\")\n",
    "print(f\"Average price for older cars: {avg_older:.2f} €\")\n",
    "print(f\"Average price for newer cars: {avg_newer:.2f} €\")"
   ]
  },
  {
   "cell_type": "code",
   "execution_count": 187,
   "id": "eee9fd47-a3e5-4488-ab5a-3744cb187bfc",
   "metadata": {},
   "outputs": [
    {
     "name": "stderr",
     "output_type": "stream",
     "text": [
      "C:\\Users\\Lenovo\\anaconda3\\Lib\\site-packages\\seaborn\\_oldcore.py:1119: FutureWarning: use_inf_as_na option is deprecated and will be removed in a future version. Convert inf values to NaN before operating instead.\n",
      "  with pd.option_context('mode.use_inf_as_na', True):\n"
     ]
    },
    {
     "data": {
      "text/plain": [
       "<Axes: xlabel='Age', ylabel='Count'>"
      ]
     },
     "execution_count": 187,
     "metadata": {},
     "output_type": "execute_result"
    },
    {
     "data": {
      "image/png": "[encoded data removed]",
      "text/plain": [
       "<Figure size 640x480 with 1 Axes>"
      ]
     },
     "metadata": {},
     "output_type": "display_data"
    }
   ],
   "source": [
    "sns.histplot(df, x=\"Age\", hue=\"Automatic\", element=\"step\")"
   ]
  },
  {
   "cell_type": "code",
   "execution_count": null,
   "id": "6c23796d-a47a-4d7a-9f38-5820d778257d",
   "metadata": {},
   "outputs": [],
   "source": []
  },
  {
   "cell_type": "code",
   "execution_count": 166,
   "id": "f38e4c0c-db4a-4fb3-890e-b7a47ba67b3b",
   "metadata": {},
   "outputs": [],
   "source": [
    "#Although it is weak, the non-automatic cars distribution follows similar pattern with the automatic ones. 50 out of 80 automatic cars were over 5 years old. That's why I kept them in the variables. Said that, I did not do the same for Automatic Air Conditioning, even though it gave very positive digits. Because only 4 out of 81 cars with automatic airco were over 5 years old."
   ]
  },
  {
   "cell_type": "markdown",
   "id": "f770c549-4950-4972-b44e-8768b60c48d4",
   "metadata": {},
   "source": [
    "# conclusion"
   ]
  },
  {
   "cell_type": "raw",
   "id": "cc0b0d96-9043-450c-9aa6-595feadd9a5e",
   "metadata": {},
   "source": [
    "Ok, I need an ending, right? If you followed all steps till here, I am grateful to your patience and looking forward to reading your comments. This is my final note:\n",
    "\n",
    "If you are a 5-or-6-years-old Corolla owner and the year is 2004 and you want to check this dealer's offer to trade your car, here is what I can tell you based on the steps above:"
   ]
  },
  {
   "cell_type": "markdown",
   "id": "c5f399a2-38be-4f1b-9868-ddd8124376d8",
   "metadata": {},
   "source": [
    "# 7.1 Do These\n",
    "If the car has an automatic gear, start your bargain with it. Tell them how smoothly it works!\n",
    "The same goes for your cool air conditioning. (If you did change the filter, you can mention that too. But don't forget: No data is shown above related to any filter.)\n",
    "While telling all of these, roll up and down your powered windows. Show them who has the power!\n",
    "If your car is still under the manufacturer's guarantee, you should definetely talk about it.\n",
    "If you feel the vibe is positive, add some flavors by telling about your mist lamps and metallic rims. But don't rely on these much.\n",
    "\n",
    "#  Don't Do These\n",
    "If your car has a strong engine, better not brag about your horses!\n",
    "If your car's sportive outlook is all about that backseat divider, don't even mention it.\n",
    "Never, ever think to tell how 'good' your car is by reasoning it with its ability to pull heavy carriers with that tow bar. If the dealers use the tow bar as an argument for price cut, tell that you only carried your 5-years-old kid's bicycle on that. (Again, there is no data above about any kid's bike)"
   ]
  },
  {
   "cell_type": "code",
   "execution_count": null,
   "id": "dd57ef18-dcf6-45ee-9249-3480ddc31f1c",
   "metadata": {},
   "outputs": [],
   "source": []
  }
 ],
 "metadata": {
  "kernelspec": {
   "display_name": "Python 3 (ipykernel)",
   "language": "python",
   "name": "python3"
  },
  "language_info": {
   "codemirror_mode": {
    "name": "ipython",
    "version": 3
   },
   "file_extension": ".py",
   "mimetype": "text/x-python",
   "name": "python",
   "nbconvert_exporter": "python",
   "pygments_lexer": "ipython3",
   "version": "3.11.7"
  }
 },
 "nbformat": 4,
 "nbformat_minor": 5
}
