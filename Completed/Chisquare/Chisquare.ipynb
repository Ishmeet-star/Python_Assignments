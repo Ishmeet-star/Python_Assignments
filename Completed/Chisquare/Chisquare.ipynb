{
 "cells": [
  {
   "cell_type": "raw",
   "id": "d732460b-e3dc-4a5a-bc33-71a40b64b3c6",
   "metadata": {},
   "source": [
    "Association between Device Type and Customer Satisfaction\n",
    "Background:\n",
    "Mizzare Corporation has collected data on customer satisfaction levels for two types of smart home devices: Smart Thermostats and Smart Lights. They want to determine if there's a significant association between the type of device purchased and the customer's satisfaction level.\n",
    "Data Provided:\n",
    "The data is summarized in a contingency table showing the counts of customers in each satisfaction level for both types of devices:\n",
    "Satisfaction     Smart Thermostat    Smart Light    Total\n",
    "Very Satisfied    50                  70            120\n",
    "Satisfied         80                  100           180\n",
    "Neutral           60                  90            150\n",
    "Unsatisfied       30                  50            80\n",
    "Very Unsatisfied  20      \n",
    "50\n",
    "70\n",
    "Total\n",
    "240\n",
    "360\n",
    "600\n",
    "\n",
    "Objective:\n",
    "To use the Chi-Square test for independence to determine if there's a significant association between the type of smart home device purchased (Smart Thermostats vs. Smart Lights) and the customer satisfaction level.\n",
    "Assignment Tasks:\n",
    "1. State the Hypotheses:\n",
    "2. Compute the Chi-Square Statistic:\n",
    "3. Determine the Critical Value:\n",
    "Using the significance level (alpha) of 0.05 and the degrees of freedom (which is the number of categories minus 1)\n",
    "4. Make a Decision:\n",
    "Compare the Chi-Square statistic with the critical value to decide whether to reject the null hypothesis.\n"
   ]
  },
  {
   "cell_type": "code",
   "execution_count": 1,
   "id": "638e5493-8f21-487d-8d8e-30234e1a8449",
   "metadata": {},
   "outputs": [
    {
     "name": "stdout",
     "output_type": "stream",
     "text": [
      "Chi-Square Statistic: 5.638227513227513\n",
      "P-Value: 0.22784371130697179\n",
      "Degrees of Freedom: 4\n",
      "Expected Frequencies:\n",
      " [[ 48.  72.]\n",
      " [ 72. 108.]\n",
      " [ 60.  90.]\n",
      " [ 32.  48.]\n",
      " [ 28.  42.]]\n",
      "Critical Value at alpha=0.05: 9.487729036781154\n",
      "Fail to reject the null hypothesis - No significant association between device type and customer satisfaction.\n"
     ]
    }
   ],
   "source": [
    "import numpy as np\n",
    "import scipy.stats as stats\n",
    "\n",
    "# Observed frequencies (from the contingency table)\n",
    "observed = np.array([[50, 70], \n",
    "                     [80, 100], \n",
    "                     [60, 90], \n",
    "                     [30, 50], \n",
    "                     [20, 50]])\n",
    "\n",
    "# Chi-Square Test\n",
    "chi2, p, dof, expected = stats.chi2_contingency(observed)\n",
    "\n",
    "# Output results\n",
    "print(f\"Chi-Square Statistic: {chi2}\")\n",
    "print(f\"P-Value: {p}\")\n",
    "print(f\"Degrees of Freedom: {dof}\")\n",
    "print(\"Expected Frequencies:\\n\", expected)\n",
    "\n",
    "# Determine critical value at 0.05 significance level\n",
    "alpha = 0.05\n",
    "critical_value = stats.chi2.ppf(1 - alpha, dof)\n",
    "\n",
    "print(f\"Critical Value at alpha={alpha}: {critical_value}\")\n",
    "\n",
    "# Decision making\n",
    "if chi2 > critical_value:\n",
    "    print(\"Reject the null hypothesis - There is an association between device type and customer satisfaction.\")\n",
    "else:\n",
    "    print(\"Fail to reject the null hypothesis - No significant association between device type and customer satisfaction.\")"
   ]
  },
  {
   "cell_type": "markdown",
   "id": "0549b5d8-6d2e-4b44-a465-257fe29d57cb",
   "metadata": {},
   "source": [
    "## Explanation:\n",
    "\n",
    "### Observed Frequencies: The data provided in the contingency table.\n",
    "\n",
    "### Chi-Square Test (chi2_contingency): Computes the Chi-Square statistic, p-value, degrees of freedom, and expected frequencies.\n",
    "\n",
    "### Critical Value: The value to which the computed Chi-Square statistic is compared.\n",
    "\n",
    "### Decision: Based on the comparison, the null hypothesis is either rejected or not.\n",
    "\n",
    "## Conclusion:\n",
    "To determine if there's a significant association between the type of device and customer satisfaction levels. If the Chi-Square statistic exceeds the critical value, you reject the null hypothesis, indicating a significant association."
   ]
  },
  {
   "cell_type": "code",
   "execution_count": null,
   "id": "a8049424-063a-40c7-b695-82a29af79a29",
   "metadata": {},
   "outputs": [],
   "source": []
  }
 ],
 "metadata": {
  "kernelspec": {
   "display_name": "Python 3 (ipykernel)",
   "language": "python",
   "name": "python3"
  },
  "language_info": {
   "codemirror_mode": {
    "name": "ipython",
    "version": 3
   },
   "file_extension": ".py",
   "mimetype": "text/x-python",
   "name": "python",
   "nbconvert_exporter": "python",
   "pygments_lexer": "ipython3",
   "version": "3.11.7"
  }
 },
 "nbformat": 4,
 "nbformat_minor": 5
}
