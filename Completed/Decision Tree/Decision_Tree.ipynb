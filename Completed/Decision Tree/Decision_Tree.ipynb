{
 "cells": [
  {
   "cell_type": "markdown",
   "id": "80258bbd-6e85-43cb-99b7-74509d19c726",
   "metadata": {},
   "source": [
    "# 1. Data Preparation:\n",
    "\n",
    "Load the dataset into your preferred data analysis environment (e.g., Python with libraries like Pandas and NumPy)."
   ]
  },
  {
   "cell_type": "code",
   "execution_count": 2,
   "id": "9f36050b-5efd-43a7-bb6a-f8ac243a54cc",
   "metadata": {},
   "outputs": [],
   "source": [
    "# prompt: Load the dataset \"/content/heart_disease.xlsx\" \n",
    "\n",
    "import pandas as pd\n",
    "df = pd.read_excel(\"D:\\EXCELR\\Assignments\\Decision Tree\\heart_disease.xlsx\")"
   ]
  },
  {
   "cell_type": "code",
   "execution_count": 3,
   "id": "69730398-697d-49af-963a-a9fc9f37fd2a",
   "metadata": {
    "scrolled": true
   },
   "outputs": [
    {
     "name": "stdout",
     "output_type": "stream",
     "text": [
      "<class 'pandas.core.frame.DataFrame'>\n",
      "RangeIndex: 12 entries, 0 to 11\n",
      "Data columns (total 2 columns):\n",
      " #   Column        Non-Null Count  Dtype \n",
      "---  ------        --------------  ----- \n",
      " 0   age           12 non-null     object\n",
      " 1   Age in years  12 non-null     object\n",
      "dtypes: object(2)\n",
      "memory usage: 324.0+ bytes\n",
      "None\n",
      "           age                  Age in years\n",
      "count       12                            12\n",
      "unique      12                            12\n",
      "top     Gender  Gender ; Male - 1, Female -0\n",
      "freq         1                             1\n",
      "age             0\n",
      "Age in years    0\n",
      "dtype: int64\n",
      "age\n",
      "Gender      1\n",
      "cp          1\n",
      "trestbps    1\n",
      "chol        1\n",
      "fbs         1\n",
      "restecg     1\n",
      "thalch      1\n",
      "exang       1\n",
      "oldpeak     1\n",
      "slope       1\n",
      "thal        1\n",
      "num         1\n",
      "Name: count, dtype: int64\n",
      "Age in years\n",
      "Gender ; Male - 1, Female -0                                                                                                                                                                                                                                                         1\n",
      "Chest pain type                                                                                                                                                                                                                                                                      1\n",
      "Resting blood pressure                                                                                                                                                                                                                                                               1\n",
      "cholesterol measure                                                                                                                                                                                                                                                                  1\n",
      "(fasting blood sugar > 120 mg/dl) (1 = true; 0 = false)                                                                                                                                                                                                                              1\n",
      "ecg observation at resting condition,   -- Value 0: normal\\n        -- Value 1: having ST-T wave abnormality (T wave inversions and/or ST elevation or depression of > 0.05 mV)\\n        -- Value 2: showing probable or definite left ventricular hypertrophy by Estes' criteria    1\n",
      "maximum heart rate achieved                                                                                                                                                                                                                                                          1\n",
      "exercise induced angina                                                                                                                                                                                                                                                              1\n",
      "ST depression induced by exercise relative to rest                                                                                                                                                                                                                                   1\n",
      "the slope of the peak exercise ST segment                                                                                                                                                                                                                                            1\n",
      "Thal                                                                                                                                                                                                                                                                                 1\n",
      "target [0=no heart disease; 1,2,3,4 = stages of heart disease ]                                                                                                                                                                                                                      1\n",
      "Name: count, dtype: int64\n"
     ]
    }
   ],
   "source": [
    "# prompt: Perform EDA to understand the structure of the df.\n",
    "\n",
    "# Display basic information about the DataFrame\n",
    "print(df.info())\n",
    "\n",
    "# Display summary statistics of numerical columns\n",
    "print(df.describe())\n",
    "\n",
    "# Check for missing values\n",
    "print(df.isnull().sum())\n",
    "\n",
    "# Explore the distribution of categorical variables\n",
    "for col in df.select_dtypes(include=['object']):\n",
    "  print(df[col].value_counts())\n"
   ]
  },
  {
   "cell_type": "code",
   "execution_count": 4,
   "id": "ac0630f8-a747-47a9-bf8e-05e85251f72b",
   "metadata": {},
   "outputs": [
    {
     "name": "stdout",
     "output_type": "stream",
     "text": [
      "age             0\n",
      "Age in years    0\n",
      "dtype: int64\n"
     ]
    }
   ],
   "source": [
    "# prompt: Check for missing values in df above\n",
    "\n",
    "# Check for missing values\n",
    "print(df.isnull().sum())"
   ]
  },
  {
   "cell_type": "code",
   "execution_count": 5,
   "id": "8f9bb973-de7f-4e89-a690-becdd7017957",
   "metadata": {},
   "outputs": [],
   "source": [
    "# prompt: Check for outliers in df above\n",
    "\n",
    "import matplotlib.pyplot as plt\n",
    "import seaborn as sns\n",
    "\n",
    "# Select numerical columns for outlier detection\n",
    "numerical_cols = df.select_dtypes(include=['float', 'int']).columns\n",
    "\n",
    "# Box plots to visualize outliers\n",
    "for col in numerical_cols:\n",
    "  plt.figure()\n",
    "  sns.boxplot(x=df[col])\n",
    "  plt.title(f\"Box Plot of {col}\")\n",
    "  plt.show()\n",
    "\n",
    "# Alternatively, use IQR method for outlier detection\n",
    "for col in numerical_cols:\n",
    "  Q1 = df[col].quantile(0.25)\n",
    "  Q3 = df[col].quantile(0.75)\n",
    "  IQR = Q3 - Q1\n",
    "  lower_bound = Q1 - 1.5 * IQR\n",
    "  upper_bound = Q3 + 1.5 * IQR\n",
    "  outliers = df[(df[col] < lower_bound) | (df[col] > upper_bound)]\n",
    "  print(f\"Outliers in {col}:\")\n",
    "  print(outliers)\n"
   ]
  },
  {
   "cell_type": "code",
   "execution_count": 6,
   "id": "9dbc37ad-4446-434c-83ab-2080ec1b1d6d",
   "metadata": {},
   "outputs": [
    {
     "name": "stdout",
     "output_type": "stream",
     "text": [
      "Unique values in age: ['Gender' 'cp' 'trestbps' 'chol' 'fbs' 'restecg' 'thalch' 'exang'\n",
      " 'oldpeak' 'slope' 'thal' 'num']\n",
      "Unique values in Age in years: ['Gender ; Male - 1, Female -0' 'Chest pain type' 'Resting blood pressure'\n",
      " 'cholesterol measure'\n",
      " '(fasting blood sugar > 120 mg/dl) (1 = true; 0 = false)'\n",
      " \"ecg observation at resting condition,   -- Value 0: normal\\n        -- Value 1: having ST-T wave abnormality (T wave inversions and/or ST elevation or depression of > 0.05 mV)\\n        -- Value 2: showing probable or definite left ventricular hypertrophy by Estes' criteria\"\n",
      " 'maximum heart rate achieved' 'exercise induced angina'\n",
      " 'ST depression induced by exercise relative to rest'\n",
      " 'the slope of the peak exercise ST segment' 'Thal'\n",
      " 'target [0=no heart disease; 1,2,3,4 = stages of heart disease ]']\n"
     ]
    }
   ],
   "source": [
    "# prompt: Check if there is any inconsistencies in the df above\n",
    "\n",
    "# Check for inconsistencies in categorical variables\n",
    "for col in df.select_dtypes(include=['object']):\n",
    "  unique_values = df[col].unique()\n",
    "  print(f\"Unique values in {col}: {unique_values}\")\n",
    "  # Check for unexpected values or typos\n",
    "  # Example:\n",
    "  if col == 'sex':\n",
    "    if any(val not in [0, 1] for val in unique_values):\n",
    "      print(f\"Inconsistent values found in {col}\")\n",
    "\n",
    "# Check for inconsistencies in numerical variables\n",
    "for col in numerical_cols:\n",
    "  # Check for values outside the expected range\n",
    "  # Example:\n",
    "  if col == 'age':\n",
    "    if any(val < 0 or val > 120 for val in df[col]):\n",
    "      print(f\"Inconsistent values found in {col}\")\n",
    "\n",
    "  # Check for impossible combinations\n",
    "  # Example:\n",
    "  if col == 'resting_blood_pressure':\n",
    "    if any((df['age'] < 18) & (df['resting_blood_pressure'] > 120)):\n",
    "      print(\"Inconsistent combination: young age with high blood pressure\")\n",
    "\n",
    "# Check for duplicate rows\n",
    "duplicate_rows = df[df.duplicated()]\n",
    "if not duplicate_rows.empty:\n",
    "  print(\"Duplicate rows found:\")\n",
    "  print(duplicate_rows)\n"
   ]
  },
  {
   "cell_type": "code",
   "execution_count": 7,
   "id": "c7a2f5ad-34b8-4ccf-a034-7609398a7707",
   "metadata": {},
   "outputs": [
    {
     "name": "stdout",
     "output_type": "stream",
     "text": [
      "   age_Gender  age_chol  age_cp  age_exang  age_fbs  age_num  age_oldpeak  \\\n",
      "0         1.0       0.0     0.0        0.0      0.0      0.0          0.0   \n",
      "1         0.0       0.0     1.0        0.0      0.0      0.0          0.0   \n",
      "2         0.0       0.0     0.0        0.0      0.0      0.0          0.0   \n",
      "3         0.0       1.0     0.0        0.0      0.0      0.0          0.0   \n",
      "4         0.0       0.0     0.0        0.0      1.0      0.0          0.0   \n",
      "\n",
      "   age_restecg  age_slope  age_thal  ...  \\\n",
      "0          0.0        0.0       0.0  ...   \n",
      "1          0.0        0.0       0.0  ...   \n",
      "2          0.0        0.0       0.0  ...   \n",
      "3          0.0        0.0       0.0  ...   \n",
      "4          0.0        0.0       0.0  ...   \n",
      "\n",
      "   Age in years_Gender ; Male - 1, Female -0  \\\n",
      "0                                        1.0   \n",
      "1                                        0.0   \n",
      "2                                        0.0   \n",
      "3                                        0.0   \n",
      "4                                        0.0   \n",
      "\n",
      "   Age in years_Resting blood pressure  \\\n",
      "0                                  0.0   \n",
      "1                                  0.0   \n",
      "2                                  1.0   \n",
      "3                                  0.0   \n",
      "4                                  0.0   \n",
      "\n",
      "   Age in years_ST depression induced by exercise relative to rest  \\\n",
      "0                                                0.0                 \n",
      "1                                                0.0                 \n",
      "2                                                0.0                 \n",
      "3                                                0.0                 \n",
      "4                                                0.0                 \n",
      "\n",
      "   Age in years_Thal  Age in years_cholesterol measure  \\\n",
      "0                0.0                               0.0   \n",
      "1                0.0                               0.0   \n",
      "2                0.0                               0.0   \n",
      "3                0.0                               1.0   \n",
      "4                0.0                               0.0   \n",
      "\n",
      "   Age in years_ecg observation at resting condition,   -- Value 0: normal\\n        -- Value 1: having ST-T wave abnormality (T wave inversions and/or ST elevation or depression of > 0.05 mV)\\n        -- Value 2: showing probable or definite left ventricular hypertrophy by Estes' criteria  \\\n",
      "0                                                0.0                                                                                                                                                                                                                                                \n",
      "1                                                0.0                                                                                                                                                                                                                                                \n",
      "2                                                0.0                                                                                                                                                                                                                                                \n",
      "3                                                0.0                                                                                                                                                                                                                                                \n",
      "4                                                0.0                                                                                                                                                                                                                                                \n",
      "\n",
      "   Age in years_exercise induced angina  \\\n",
      "0                                   0.0   \n",
      "1                                   0.0   \n",
      "2                                   0.0   \n",
      "3                                   0.0   \n",
      "4                                   0.0   \n",
      "\n",
      "   Age in years_maximum heart rate achieved  \\\n",
      "0                                       0.0   \n",
      "1                                       0.0   \n",
      "2                                       0.0   \n",
      "3                                       0.0   \n",
      "4                                       0.0   \n",
      "\n",
      "   Age in years_target [0=no heart disease; 1,2,3,4 = stages of heart disease ]  \\\n",
      "0                                                0.0                              \n",
      "1                                                0.0                              \n",
      "2                                                0.0                              \n",
      "3                                                0.0                              \n",
      "4                                                0.0                              \n",
      "\n",
      "   Age in years_the slope of the peak exercise ST segment  \n",
      "0                                                0.0       \n",
      "1                                                0.0       \n",
      "2                                                0.0       \n",
      "3                                                0.0       \n",
      "4                                                0.0       \n",
      "\n",
      "[5 rows x 24 columns]\n"
     ]
    }
   ],
   "source": [
    "from sklearn.preprocessing import StandardScaler, OneHotEncoder\n",
    "from sklearn.impute import SimpleImputer\n",
    "\n",
    "# Handle missing values for numerical features\n",
    "# Ensure numerical_cols is correctly defined\n",
    "numerical_cols = df.select_dtypes(include=['float', 'int']).columns \n",
    "\n",
    "# Proceed if there are numerical columns\n",
    "if len(numerical_cols) > 0:\n",
    "    imputer = SimpleImputer(strategy='mean')  # Replace missing values with the mean\n",
    "    df[numerical_cols] = imputer.fit_transform(df[numerical_cols])\n",
    "    \n",
    "    # Scale numerical features\n",
    "    scaler = StandardScaler()\n",
    "    scaled_data = scaler.fit_transform(df[numerical_cols])\n",
    "    scaled_df = pd.DataFrame(scaled_data, columns=numerical_cols)\n",
    "    \n",
    "    # Combine processed features (if there were numerical columns)\n",
    "    processed_df = pd.concat([scaled_df, encoded_df], axis=1)\n",
    "    \n",
    "else:\n",
    "    # Encode categorical variables\n",
    "    categorical_cols = df.select_dtypes(include=['object']).columns\n",
    "    encoder = OneHotEncoder(handle_unknown='ignore')  # Handle unknown categories during testing\n",
    "    encoded_data = encoder.fit_transform(df[categorical_cols])\n",
    "    encoded_df = pd.DataFrame(encoded_data.toarray(), columns=encoder.get_feature_names_out(categorical_cols))\n",
    "    \n",
    "    # If no numerical columns, the processed dataframe is just the encoded one\n",
    "    processed_df = encoded_df\n",
    "\n",
    "print(processed_df.head())"
   ]
  },
  {
   "cell_type": "code",
   "execution_count": 9,
   "id": "78a038da-41b6-4364-97cb-48ea7b6605d4",
   "metadata": {},
   "outputs": [
    {
     "name": "stdout",
     "output_type": "stream",
     "text": [
      "X_train shape: (9, 23)\n",
      "X_test shape: (3, 23)\n",
      "y_train shape: (9,)\n",
      "y_test shape: (3,)\n"
     ]
    }
   ],
   "source": [
    "# prompt: Split the encoded_df into training and testing sets and X as age\n",
    "\n",
    "from sklearn.model_selection import train_test_split\n",
    "\n",
    "# Assuming 'target' is the name of your target variable column\n",
    "y = encoded_df['age_Gender']  # Replace 'target' with the actual column name\n",
    "X = encoded_df.drop('age_Gender', axis=1)  # Remove target variable from features\n",
    "\n",
    "# Split the data into training and testing sets (e.g., 80% train, 20% test)\n",
    "X_train, X_test, y_train, y_test = train_test_split(X, y, test_size=0.2, random_state=42)\n",
    "\n",
    "print(\"X_train shape:\", X_train.shape)\n",
    "print(\"X_test shape:\", X_test.shape)\n",
    "print(\"y_train shape:\", y_train.shape)\n",
    "print(\"y_test shape:\", y_test.shape)\n"
   ]
  },
  {
   "cell_type": "code",
   "execution_count": 11,
   "id": "69f3e295-b548-42b8-ad00-61e1faf170eb",
   "metadata": {},
   "outputs": [
    {
     "name": "stdout",
     "output_type": "stream",
     "text": [
      "Accuracy: 0.6666666666666666\n",
      "Confusion Matrix:\n",
      " [[2 0]\n",
      " [1 0]]\n",
      "Classification Report:\n",
      "               precision    recall  f1-score   support\n",
      "\n",
      "         0.0       0.67      1.00      0.80         2\n",
      "         1.0       1.00      0.00      0.00         1\n",
      "\n",
      "    accuracy                           0.67         3\n",
      "   macro avg       0.83      0.50      0.40         3\n",
      "weighted avg       0.78      0.67      0.53         3\n",
      "\n"
     ]
    }
   ],
   "source": [
    "# prompt: Implement a Decision Tree Classification model using a library like scikit-learn.\n",
    "\n",
    "from sklearn.tree import DecisionTreeClassifier\n",
    "from sklearn.metrics import accuracy_score, classification_report, confusion_matrix\n",
    "\n",
    "# Create a Decision Tree Classifier\n",
    "clf = DecisionTreeClassifier(random_state=42)\n",
    "\n",
    "# Fit the model to the training data\n",
    "clf.fit(X_train, y_train)\n",
    "\n",
    "# Make predictions on the test data\n",
    "y_pred = clf.predict(X_test)\n",
    "\n",
    "# Evaluate the model\n",
    "accuracy = accuracy_score(y_test, y_pred)\n",
    "conf_matrix = confusion_matrix(y_test, y_pred)\n",
    "classification_rep = classification_report(y_test, y_pred,zero_division=1)\n",
    "\n",
    "print(\"Accuracy:\", accuracy)\n",
    "print(\"Confusion Matrix:\\n\", conf_matrix)\n",
    "print(\"Classification Report:\\n\", classification_rep)\n"
   ]
  },
  {
   "cell_type": "code",
   "execution_count": 12,
   "id": "f17376db-b2a7-4726-b3f5-d421c832d9bc",
   "metadata": {},
   "outputs": [
    {
     "name": "stdout",
     "output_type": "stream",
     "text": [
      "Random Forest Accuracy: 0.6666666666666666\n",
      "              precision    recall  f1-score   support\n",
      "\n",
      "         0.0       0.67      1.00      0.80         2\n",
      "         1.0       1.00      0.00      0.00         1\n",
      "\n",
      "    accuracy                           0.67         3\n",
      "   macro avg       0.83      0.50      0.40         3\n",
      "weighted avg       0.78      0.67      0.53         3\n",
      "\n",
      "ROC-AUC Score: 0.5\n"
     ]
    }
   ],
   "source": [
    "# prompt: Train the model on the training set and evaluate its performance on the testing set using appropriate evaluation metrics (e.g., accuracy, precision, recall, F1-score, ROC-AUC)\n",
    "\n",
    "# Assuming you want to try a Random Forest model\n",
    "from sklearn.ensemble import RandomForestClassifier\n",
    "from sklearn.metrics import roc_auc_score\n",
    "\n",
    "# Create a Random Forest Classifier\n",
    "rf_clf = RandomForestClassifier(random_state=42)  # You can adjust hyperparameters here\n",
    "\n",
    "# Train the model\n",
    "rf_clf.fit(X_train, y_train)\n",
    "\n",
    "# Make predictions on the test set\n",
    "y_pred_rf = rf_clf.predict(X_test)\n",
    "\n",
    "# Evaluate the model\n",
    "accuracy_rf = accuracy_score(y_test, y_pred_rf)\n",
    "print(\"Random Forest Accuracy:\", accuracy_rf)\n",
    "\n",
    "# Print a classification report for more detailed evaluation\n",
    "print(classification_report(y_test, y_pred_rf, zero_division=1))\n",
    "\n",
    "# Calculate ROC-AUC score if it's a binary classification problem\n",
    "# Assuming 'y_test' and 'y_pred_rf' contain probabilities for the positive class\n",
    "# If not, adjust the code accordingly\n",
    "try:\n",
    "  roc_auc = roc_auc_score(y_test, y_pred_rf)\n",
    "  print(\"ROC-AUC Score:\", roc_auc)\n",
    "except ValueError:\n",
    "  print(\"ROC-AUC score is not applicable for multi-class classification.\")\n"
   ]
  },
  {
   "cell_type": "code",
   "execution_count": 13,
   "id": "c5e28dc0-6293-4742-a284-bee2a9e8703a",
   "metadata": {},
   "outputs": [
    {
     "name": "stdout",
     "output_type": "stream",
     "text": [
      "Best Hyperparameters: {'criterion': 'gini', 'max_depth': None, 'min_samples_split': 2}\n",
      "Accuracy with Best Hyperparameters: 0.6666666666666666\n",
      "              precision    recall  f1-score   support\n",
      "\n",
      "         0.0       0.67      1.00      0.80         2\n",
      "         1.0       1.00      0.00      0.00         1\n",
      "\n",
      "    accuracy                           0.67         3\n",
      "   macro avg       0.83      0.50      0.40         3\n",
      "weighted avg       0.78      0.67      0.53         3\n",
      "\n"
     ]
    }
   ],
   "source": [
    "# prompt: Perform hyperparameter tuning to optimize the Decision Tree model. Experiment with different hyperparameters such as maximum depth, minimum samples split, and criterion.\n",
    "\n",
    "from sklearn.model_selection import GridSearchCV\n",
    "\n",
    "# Define the hyperparameter grid to search\n",
    "param_grid = {\n",
    "    'max_depth': [None, 5, 10, 15],\n",
    "    'min_samples_split': [2, 5, 10],\n",
    "    'criterion': ['gini', 'entropy']\n",
    "}\n",
    "\n",
    "# Create a GridSearchCV object\n",
    "grid_search = GridSearchCV(estimator=DecisionTreeClassifier(), param_grid=param_grid, cv=5)\n",
    "\n",
    "# Fit the grid search to the training data\n",
    "grid_search.fit(X_train, y_train)\n",
    "\n",
    "# Get the best hyperparameters\n",
    "best_params = grid_search.best_params_\n",
    "print(\"Best Hyperparameters:\", best_params)\n",
    "\n",
    "# Create a new Decision Tree model with the best hyperparameters\n",
    "best_clf = DecisionTreeClassifier(**best_params)\n",
    "\n",
    "# Train the best model\n",
    "best_clf.fit(X_train, y_train)\n",
    "\n",
    "# Make predictions on the test set\n",
    "y_pred_best = best_clf.predict(X_test)\n",
    "\n",
    "# Evaluate the best model\n",
    "accuracy_best = accuracy_score(y_test, y_pred_best)\n",
    "print(\"Accuracy with Best Hyperparameters:\", accuracy_best)\n",
    "\n",
    "# Print a classification report for more detailed evaluation\n",
    "print(classification_report(y_test, y_pred_best, zero_division=1))\n"
   ]
  },
  {
   "cell_type": "code",
   "execution_count": 14,
   "id": "0a63fca2-4602-4129-9ca7-7eda2d424c19",
   "metadata": {},
   "outputs": [
    {
     "name": "stdout",
     "output_type": "stream",
     "text": [
      "Accuracy: 0.6666666666666666\n",
      "              precision    recall  f1-score   support\n",
      "\n",
      "         0.0       0.67      1.00      0.80         2\n",
      "         1.0       1.00      0.00      0.00         1\n",
      "\n",
      "    accuracy                           0.67         3\n",
      "   macro avg       0.83      0.50      0.40         3\n",
      "weighted avg       0.78      0.67      0.53         3\n",
      "\n"
     ]
    },
    {
     "data": {
      "image/png": "[encoded data removed]",
      "text/plain": [
       "<Figure size 640x480 with 2 Axes>"
      ]
     },
     "metadata": {},
     "output_type": "display_data"
    }
   ],
   "source": [
    "# prompt: Analyse the performance of the Decision Tree model using the evaluation metrics obtained.\n",
    "\n",
    "# Assuming you have already trained the Decision Tree model and obtained predictions (y_pred)\n",
    "\n",
    "# Print the accuracy score\n",
    "print(\"Accuracy:\", accuracy)  # Replace 'accuracy' with the actual variable name\n",
    "\n",
    "# Print the classification report\n",
    "print(classification_report(y_test, y_pred, zero_division=1))\n",
    "\n",
    "# Analyze the results:\n",
    "# - Accuracy: Gives an overall percentage of correct predictions.\n",
    "# - Precision: For each class, how many of the predicted positive instances were actually positive.\n",
    "# - Recall: For each class, how many of the actual positive instances were correctly predicted.\n",
    "# - F1-score: A harmonic mean of precision and recall, providing a balanced metric.\n",
    "# - Support: The number of instances of each class in the test set.\n",
    "\n",
    "# Interpret the results based on the specific context of your problem and the relative importance of different metrics.\n",
    "# For example:\n",
    "# - If false positives are costly, focus on improving precision.\n",
    "# - If false negatives are critical, prioritize increasing recall.\n",
    "# - Consider the class imbalance (support) when interpreting the results.\n",
    "\n",
    "# Additionally, you can visualize the confusion matrix for a more detailed breakdown of errors:\n",
    "from sklearn.metrics import confusion_matrix\n",
    "import seaborn as sns\n",
    "import matplotlib.pyplot as plt\n",
    "\n",
    "cm = confusion_matrix(y_test, y_pred)\n",
    "sns.heatmap(cm, annot=True, fmt='d')\n",
    "plt.xlabel('Predicted')\n",
    "plt.ylabel('Actual')\n",
    "plt.title('Confusion Matrix')\n",
    "plt.show()\n"
   ]
  },
  {
   "cell_type": "code",
   "execution_count": 15,
   "id": "1eb20d24-d038-4d63-8743-f5aff27982f4",
   "metadata": {},
   "outputs": [
    {
     "name": "stdout",
     "output_type": "stream",
     "text": [
      "|--- class: 0\n",
      "\n"
     ]
    }
   ],
   "source": [
    "# prompt: decision tree structure for above dataset\n",
    "\n",
    "from sklearn.tree import export_text\n",
    "\n",
    "# Assuming 'clf' is your trained DecisionTreeClassifier\n",
    "tree_rules = export_text(clf, feature_names=X.columns.tolist())\n",
    "print(tree_rules)\n"
   ]
  },
  {
   "cell_type": "code",
   "execution_count": null,
   "id": "b7286dfe-d50a-4e92-b0d2-b4e7b67a13fe",
   "metadata": {},
   "outputs": [],
   "source": []
  }
 ],
 "metadata": {
  "kernelspec": {
   "display_name": "Python 3 (ipykernel)",
   "language": "python",
   "name": "python3"
  },
  "language_info": {
   "codemirror_mode": {
    "name": "ipython",
    "version": 3
   },
   "file_extension": ".py",
   "mimetype": "text/x-python",
   "name": "python",
   "nbconvert_exporter": "python",
   "pygments_lexer": "ipython3",
   "version": "3.11.7"
  }
 },
 "nbformat": 4,
 "nbformat_minor": 5
}
